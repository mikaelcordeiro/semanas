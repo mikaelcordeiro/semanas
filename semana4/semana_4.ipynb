{
 "cells": [
  {
   "cell_type": "markdown",
   "metadata": {},
   "source": [
    "# Semana 3 do Aceleradev DS Codenation\n",
    "\n",
    "## Professor: Túlio Vieira de Souza | Tema: Amostragens e Distribuições de Probabilidades"
   ]
  },
  {
   "cell_type": "code",
   "execution_count": 1,
   "metadata": {},
   "outputs": [],
   "source": [
    "import pandas as pd\n",
    "import matplotlib.pyplot as plt\n",
    "import numpy as np\n",
    "import scipy.stats as act\n",
    "import seaborn as sns"
   ]
  },
  {
   "cell_type": "markdown",
   "metadata": {},
   "source": [
    "**Variável Aleatória V.A**\n",
    "\n",
    "Contextualização Didática, __Autor__: Kazuki Yokoyama (kazuki.yokoyama@ufrgs.br):\n",
    "    \n",
    "Imaginem o cenário onde queremos fazer uma pesquisa de opinião com 50 pessoas. Se anotarmos `0` para respostas \"Não\" e `1` para \"Sim\", nosso espaço amostral (a combinação de todas as respostas) é 2$^{50}$, um número muito grande. Deve haver portanto um jeito de sumarizar essa informação. E há. Como queremos saber apenas, por exemplo, a quantidade de pessoas que responderam \"Sim\", podemos representar essa informaçao com apenas um único escalar. Podemos definir nossa variável aleatória, 𝑋, como 𝑋 = número de respondentes \"Sim\". Reparem que os possíveis valores para 𝑋 são {0,1,2,3,…,50}, que é bem menor que 2$^{50}$.\n",
    "\n",
    "Notação: na literatura, encontramos $X = x$. O $X$ é a *V.A*, e $x$ é o valor possível que *V.A* pode assumir *simbolicamente*, e esses valores podem ser **Discretos ou Contínuos**.\n",
    "\n",
    "- Discretos: $\\Omega = \\{x_1, x_2, ..., x_n\\}, \\Omega \\in \\mathbb{Z}$\n",
    "- Contínuos: $\\Omega = \\{x_1, x_2, ..., x_n\\}, \\Omega \\in \\mathbb{R}$\n",
    "\n",
    "**Função de Distribuição Acumulada (CDF)**\n",
    "\n",
    "*CDF* é uma **função** que tem os valores do conjunto V.A como variáveis independentes. E ela exprime a **probabilidade** de ocorrencia de **todos** os eventos de V.A até x. Ou seja, nada mais é que uma função acumulada.\n",
    "\n",
    "$$F(x) = P(X \\leq x)$$\n",
    "\n",
    "Diante disso:\n",
    "$$F(x) \\subset [0, 1]$$\n",
    "$$x \\in \\Omega$$\n",
    "\n",
    "**Função de Probabilidade P(X)**\n",
    "\n",
    "Como visto, F(x) a retorna a probabilidade de $X \\leq x$. Mas ela possui uma função associada, que também retorna a probabilidade $X \\leq x$, a P(X).\n",
    "\n",
    "Como ela trata de probabilidades:\n",
    "$$P(X \\leq x) \\geq 0$$\n",
    "$$P(\\Omega) = P(x_1) + P(x_2) + ... + P(x_n) = 1$$\n",
    "\n",
    "Na segunda proposição, note que a soma das probabilidades não é dada da mesma maneira se V.A é *discreta* ou *contínua*\n",
    "\n",
    "- Discreta: $F(x) = P(X \\leq x) = \\sum_{k \\leq x} f(k) = \\sum_{k \\leq x} P(X = k)$, sendo $f(k)$ chamada **função massa de probabilidade**\n",
    "\n",
    "- Contínua: $P(X \\leq x) = F(x) = \\int_{-\\infty}^x f(t) dt$, sendo $f(t)$ chamada **função densidade de probabilidade**\n",
    "\n",
    "**Repare:** $f(t)$ não nos dá a probabilidade, ela apenas modela a densidade de probabilidade. Ou seja, a **área** abaixo dessa função que representa a probabilidade. Diante disso, do Cálculo I\n",
    "$$P(a \\leq X \\leq b) = F(b) - F(a) = \\int_{a}^{b} f(t) dt$$\n",
    "\n",
    "**Distribuição Normal** X ~ $N(\\mu, \\sigma^2)$\n",
    "\n",
    "Também conhecida como *Gaussiana*, é uma distribuiçao **contínua** que caracteriza muitos fenômenos naturais, e é usada desde a física até estatística.\n",
    "\n",
    "A distribuição Normal possui **DOIS** parâmetros: $\\mu$ e $\\sigma^2$. E sua função *densidade de probabilidade* é dada por\n",
    "$$f(x) = \\frac{1}{\\sqrt{2\\pi\\sigma^2}}e^{\\frac{-1}{2}(\\frac{x - \\mu}{\\sigma})^2}, -\\infty < x < \\infty$$\n",
    "\n",
    "Mas, é comum ver essa *distribuição* **Padronizada**\n",
    "\n",
    "$$Z = \\frac{X - \\mu}{\\sigma}$$\n",
    "\n",
    "Com isso, tomando $\\mu = 0$ e $\\sigma = 1$, a função *densidade de probabilidade* fica\n",
    "\n",
    "$$f(z) = \\frac{1}{\\sqrt{2\\pi}}e^{\\frac{-z^2}{2}}$$"
   ]
  },
  {
   "cell_type": "markdown",
   "metadata": {},
   "source": [
    "Para entender de distribuições, vamos começar fazendo um gráfico de **Distribuição Normal** *X ~ $N(\\mu,\\sigma^2)$*\n",
    "```python\n",
    "scipy.stats.norm.rvs(loc=int, scale=int, size=int)\n",
    "```\n",
    "\n",
    "**Parâmetros:**\n",
    "\n",
    "- size: tamanho da amostra. São gerados *int* valores aleatórios\n",
    "- scale: desvio padrão\n",
    "- loc: média"
   ]
  },
  {
   "cell_type": "code",
   "execution_count": 2,
   "metadata": {},
   "outputs": [],
   "source": [
    "normal = act.norm.rvs(loc=10, scale=3, size=1000)"
   ]
  },
  {
   "cell_type": "code",
   "execution_count": 3,
   "metadata": {},
   "outputs": [
    {
     "data": {
      "image/png": "[encoded data removed]",
      "text/plain": [
       "<Figure size 720x576 with 1 Axes>"
      ]
     },
     "metadata": {
      "needs_background": "light"
     },
     "output_type": "display_data"
    }
   ],
   "source": [
    "plt.figure(figsize=(10,8))\n",
    "sns.distplot(normal);"
   ]
  },
  {
   "cell_type": "markdown",
   "metadata": {},
   "source": [
    "Como são valores aleatórios, as estatísticas do conjunto sempre serão ligeiramente diferentes do *loc* e *scale*"
   ]
  },
  {
   "cell_type": "code",
   "execution_count": 4,
   "metadata": {},
   "outputs": [
    {
     "data": {
      "text/plain": [
       "(10.067474049805776, 8.523614258676535, 2.91952295053088)"
      ]
     },
     "execution_count": 4,
     "metadata": {},
     "output_type": "execute_result"
    }
   ],
   "source": [
    "normal.mean(), normal.var(), normal.std()"
   ]
  },
  {
   "cell_type": "markdown",
   "metadata": {},
   "source": [
    "Podemos calcular a probabilidade de ocorrer um valor menor igual a *float* $F(float) = P(X \\leq float)$ com a *CDF*\n",
    "```python\n",
    "scipy.stats.cdf(x=float ou list, loc=int, scale=int)\n",
    "```\n",
    "\n",
    "Com a *CDF*, também podemos calcular a probabilidade do evento **complementar** $P(X > float)$ subtraindo 1 da função acima, ou\n",
    "```python\n",
    "scipy.stats.sf(x=float ou list, loc=int, scale=int)\n",
    "```\n",
    "\n",
    "Se quisermos obter o valor da **função densidade de probabilidade** *f(float)*\n",
    "```python\n",
    "scipy.stats.pdf(x=float ou list, loc=int, scale=int)\n",
    "```\n",
    "\n",
    "**Parâmetros:**\n",
    "\n",
    "- x: se int, (-$\\infty$, int]. Se list, array([prob1, prob2])\n",
    "- loc: média\n",
    "- scale: desvio padrão"
   ]
  },
  {
   "cell_type": "markdown",
   "metadata": {},
   "source": [
    "Para calcular $F(8) = P(X \\leq 8)$ com a *CDF*"
   ]
  },
  {
   "cell_type": "code",
   "execution_count": 5,
   "metadata": {},
   "outputs": [
    {
     "data": {
      "text/plain": [
       "0.2524925375469229"
      ]
     },
     "execution_count": 5,
     "metadata": {},
     "output_type": "execute_result"
    }
   ],
   "source": [
    "act.norm.cdf(x=8, loc=10, scale=3)"
   ]
  },
  {
   "cell_type": "markdown",
   "metadata": {},
   "source": [
    "Para calcular o evento complementar de P(X $\\leq$ 8), o P(X $>$ 8)"
   ]
  },
  {
   "cell_type": "code",
   "execution_count": 6,
   "metadata": {},
   "outputs": [
    {
     "data": {
      "text/plain": [
       "0.7475074624530771"
      ]
     },
     "execution_count": 6,
     "metadata": {},
     "output_type": "execute_result"
    }
   ],
   "source": [
    "1 - act.norm.cdf(x=8, loc=10, scale=3)"
   ]
  },
  {
   "cell_type": "code",
   "execution_count": 7,
   "metadata": {},
   "outputs": [
    {
     "data": {
      "text/plain": [
       "0.7475074624530771"
      ]
     },
     "execution_count": 7,
     "metadata": {},
     "output_type": "execute_result"
    }
   ],
   "source": [
    "act.norm.sf(x=8, loc=10, scale=3)"
   ]
  },
  {
   "cell_type": "markdown",
   "metadata": {},
   "source": [
    "Para calcular P(4$\\leq$X$\\leq$5) com a *CDF*"
   ]
  },
  {
   "cell_type": "code",
   "execution_count": 8,
   "metadata": {},
   "outputs": [
    {
     "name": "stdout",
     "output_type": "stream",
     "text": [
      "[0.02275013 0.04779035]\n",
      "P = 0.025040220324635508\n"
     ]
    }
   ],
   "source": [
    "intervalo = act.norm.cdf(x=[4, 5], loc=10, scale=3)\n",
    "print(intervalo)\n",
    "a, b = intervalo\n",
    "print(f'P = {b - a}')"
   ]
  },
  {
   "cell_type": "markdown",
   "metadata": {},
   "source": [
    "**Perceba:** Como previsto, se fizermos $F(\\mu) = P(X \\leq \\mu)$, teremos 50% de chance de X assumir um valor menor ou igual a média, uma vez que a N($\\mu, \\sigma^2$) é simétrica em torno da média."
   ]
  },
  {
   "cell_type": "code",
   "execution_count": 9,
   "metadata": {},
   "outputs": [
    {
     "data": {
      "text/plain": [
       "0.5"
      ]
     },
     "execution_count": 9,
     "metadata": {},
     "output_type": "execute_result"
    }
   ],
   "source": [
    "act.norm.cdf(x=10, loc=10, scale=3)"
   ]
  },
  {
   "cell_type": "markdown",
   "metadata": {},
   "source": [
    "Podemos fazer o gráfico da função *CDF* e percebermos que, de fato, ela é *cumulativa*"
   ]
  },
  {
   "cell_type": "code",
   "execution_count": 10,
   "metadata": {},
   "outputs": [
    {
     "data": {
      "image/png": "[encoded data removed]",
      "text/plain": [
       "<Figure size 720x576 with 1 Axes>"
      ]
     },
     "metadata": {
      "needs_background": "light"
     },
     "output_type": "display_data"
    }
   ],
   "source": [
    "malha = np.arange(0, 20, .05)\n",
    "cumulativa = act.norm.cdf(malha, loc=10, scale=3)\n",
    "\n",
    "plt.figure(figsize=(10, 8))\n",
    "plt.plot(malha, cumulativa)\n",
    "plt.show()"
   ]
  },
  {
   "cell_type": "markdown",
   "metadata": {},
   "source": [
    "Pela *CDF*, pudemos obter a **probabilidade acumulada** dada um valor $x_n$ de X. Agora, e se quisermos obter o $x_n$ de *PDF* que gera a probabilidade acumulada? Por exemplo, vimos que $F(8) = P(X \\leq 8) = 0.2524925375469229$, como descobrir o \"x\" de $F(x) = P(X \\leq x) = 0.2524925375469229$?\n",
    "```python\n",
    "scipy.norm.ppf(x=float, loc=float, scale=float)\n",
    "```\n",
    "\n",
    "como *PDF* é simétrica em relação à $\\mu$, existem 2 valores de x para *PDF*, sendo essa função acima a que trabalha com o **lado esquerdo** da distribuição de probabilidade. Para o lado **direito**\n",
    "```python\n",
    "scipy.norm.isf(x=float, loc=float, scale=float)\n",
    "```\n",
    "\n",
    "**Parâmetros:**\n",
    "\n",
    "- x: se int, (-$\\infty$, int]. Se list, array([prob1, prob2])\n",
    "- loc: média\n",
    "- scale: desvio padrão"
   ]
  },
  {
   "cell_type": "markdown",
   "metadata": {},
   "source": [
    "Novamete, $F(8) = P(X \\leq 8)$"
   ]
  },
  {
   "cell_type": "code",
   "execution_count": 11,
   "metadata": {},
   "outputs": [
    {
     "data": {
      "text/plain": [
       "0.2524925375469229"
      ]
     },
     "execution_count": 11,
     "metadata": {},
     "output_type": "execute_result"
    }
   ],
   "source": [
    "act.norm.cdf(x=8, loc=10, scale=3)"
   ]
  },
  {
   "cell_type": "markdown",
   "metadata": {},
   "source": [
    "$F(x) = P(X \\leq x) = 0.2524925375469229$ para o lado *esquerdo*"
   ]
  },
  {
   "cell_type": "code",
   "execution_count": 12,
   "metadata": {},
   "outputs": [
    {
     "data": {
      "text/plain": [
       "8.0"
      ]
     },
     "execution_count": 12,
     "metadata": {},
     "output_type": "execute_result"
    }
   ],
   "source": [
    "act.norm.ppf(q=0.2524925375469229, loc=10, scale=3)"
   ]
  },
  {
   "cell_type": "markdown",
   "metadata": {},
   "source": [
    "$F(x) = P(X \\geq x) = 0.2524925375469229$ para o lado *direito*"
   ]
  },
  {
   "cell_type": "code",
   "execution_count": 13,
   "metadata": {},
   "outputs": [
    {
     "data": {
      "text/plain": [
       "12.0"
      ]
     },
     "execution_count": 13,
     "metadata": {},
     "output_type": "execute_result"
    }
   ],
   "source": [
    "act.norm.isf(q=0.2524925375469229, loc=10, scale=3)"
   ]
  },
  {
   "cell_type": "markdown",
   "metadata": {},
   "source": [
    "Podemos encontar o valor da *PDF* f(t=8) ou f(t=12). E como esperado, devem resultar o mesmo valor, pois são simétricos à $\\mu$"
   ]
  },
  {
   "cell_type": "code",
   "execution_count": 14,
   "metadata": {},
   "outputs": [
    {
     "data": {
      "text/plain": [
       "array([0.10648267, 0.10648267])"
      ]
     },
     "execution_count": 14,
     "metadata": {},
     "output_type": "execute_result"
    }
   ],
   "source": [
    "act.norm.pdf(x=[8, 12], loc=10, scale=3)"
   ]
  },
  {
   "cell_type": "code",
   "execution_count": 15,
   "metadata": {},
   "outputs": [
    {
     "data": {
      "image/png": "[encoded data removed]",
      "text/plain": [
       "<Figure size 720x576 with 1 Axes>"
      ]
     },
     "metadata": {
      "needs_background": "light"
     },
     "output_type": "display_data"
    }
   ],
   "source": [
    "p = act.norm.pdf(malha, scale=3, loc=10)\n",
    "plt.figure(figsize=(10, 8))\n",
    "plt.plot(malha, p)\n",
    "plt.axvline(x=10, ls=':')\n",
    "plt.fill_between(malha, 0, p, where= p<=0.10648267)\n",
    "plt.show()"
   ]
  },
  {
   "cell_type": "markdown",
   "metadata": {},
   "source": [
    "**Distribuição Binomial**\n",
    "\n",
    "Para esse tipo de distribuição, V.A simboliza um espaço $\\Omega$ **discreto** de possibilidades. Como o lançar de um ou mais dados, moedas. Ou seja, eventos com possibilidades $ \\in \\mathbb{N}$\n",
    "\n",
    "E o exemplo mais simples dessa distribuição é chamado **Distribuição de Bernoulli**. Para essa distribuição, $n = 1$. Ou seja, só **UMA** moeda é lançada, **UM** dado, **UMA** carta é sorteada e assim por diante. x pode ser *sucesso* ou *fracasso*, numericamente, x $\\in \\{0, 1\\}$. E nesse evento único, a chance de sucesso é denominada $p$, e de fracasso $q = 1 - p$. Assim, podemos definir a **Probabilidade** como sendo\n",
    "\n",
    "$$P(x) = p^xq^{1-x}$$\n",
    "\n",
    "Agora, para falarmos de uma *Binomial*, temos que definir **Evento Independente**. Se eu jogar um dado, qual a chance de sair 5 em um dia ensolarado? E em um dia chuvoso? Percebe que, nesse caso, o evento *dado* e *atmosfera* não interferem um no outro? Se eu lançar duas moedas, o resultado da primeira influencia o da segunda? Para situações assim, falamos que são **Eventos Independentes**\n",
    "\n",
    "$$P(X=x|Y=y) = P(X=x)P(Y=y)$$\n",
    "\n",
    "Explicado esse conceito, uma distribuição **Binomial** une o visto em *Bernoulli* e *Evento Independente* e mais uma coisa: **Análise Combinatória**. Num experimento com vários eventos, uma mesma V.A pode possuir mais de uma possibilidade de ocorrência. Exemplo:\n",
    "\n",
    "- Lançamento de 3 moedas, sendo *cara* o sucesso:\n",
    "\n",
    "    $$X \\in \\{0, 1, 2, 3\\}$$\n",
    "    \n",
    "    $$x \\in \\{(cara, cara, cara), (cara, cara, coroa), (cara, coroa, cara), (coroa, cara, cara, )(coroa, coroa, cara), (coroa, cara, coroa), (cara, coroa, coroa), (coroa, coroa, coroa)\\}$$\n",
    "\n",
    "Perceba que, para $P(X=1)$,  existem 3 maneiras diferentes para o evento *uma cara* ocorrer, tal qual para $P(X=2)$. Isso pois existe mais de uma **combinação** que satisfaz tais eventos. Como são eventos *independentes*, eu poderia escrever da seguinte maneira o evento X=1, para o lançamento de 3 moedas, sendo *cara* sucesso\n",
    "\n",
    "$P(X=1) = P(X=1|X=0|X=0) + P(X=0|X=1|X=0) + P(X=0|X=0|X=1)$\n",
    "\n",
    "$P(X=1) = P(X=1).P(X=0).P(X=0) + P(X=0).P(X=1).P(X=0) + P(X=0).P(X=0).P(X=1)$\n",
    "\n",
    "$P(X=1) = p^1q^{1-1}.p^0q^{(1-0)}.p^0q^{(1-0)} + p^0q^{(1-0)}.p^1q^{(1-1)}.p^0q^{(1-0)} + p^0q^{(1-0)}.p^0q^{(1-0)}.p^1q^{(1-1)}$\n",
    "\n",
    "ou\n",
    "\n",
    "$$P(X=k) = C_{n, k}p^kq^{(n-k)} = \\frac{n!}{k!(n-k)!}p^kq^{(n-k)}$$\n",
    "\n",
    "Agora, se fosse *no máximo* uma cara?\n",
    "\n",
    "$$P(X \\leq 1) = P(X=1) + P(X=0)= P(X=1|X=0|X=0) + P(X=0|X=1|X=0) + P(X=0|X=0|X=1) + P(X=0|X=0|X=0)$$\n",
    "\n",
    "Já deu pra ver que vai virar um monstrinho isso. Então, para lidar com as possíveis combinações, e somas delas, temos\n",
    "\n",
    "$$P(X \\leq k) = P(X = 0) + P(X = 1) + \\dots + P(X = k) = \\sum_{i=0}^{k} C(n, i) p^{i} (1 - p)^{n - i}$$\n",
    "\n",
    "sendo $k \\in \\{0, 1, 2, \\dots, n\\}$ o **número de sucessos**, e $n \\in \\mathbb{N}$  **número de eventos**\n",
    "\n",
    "Por fim, podemos calcular a **Esperança** e **Variância** de uma observação\n",
    "\n",
    "$$\\mathbb{E}(X)=np$$\n",
    "\n",
    "$$\\mathbb{V}(X)=npq$$\n",
    "\n",
    "**Nota:** \n",
    "$$X = N(\\mu, \\sigma^2)$$\n",
    "\n",
    "$$X = Bernoulli(p)$$\n",
    "\n",
    "$$X = Binomial(n,p)$$"
   ]
  },
  {
   "cell_type": "markdown",
   "metadata": {},
   "source": [
    "Para gerar uma distribuição *Binomial* aleatória\n",
    "\n",
    "```python\n",
    "scipy.stats.binom.rvs(n, p, size=int)\n",
    "```\n",
    "\n",
    "```python\n",
    "scipy.stats.binom.métodos\n",
    "```\n",
    "\n",
    "**Métodos:**\n",
    "\n",
    "- .cdf(): probabilidade acumulada P(X <= int)\n",
    "- .sf(): probabilidade da *survival function* P(X > int)\n",
    "- .ppf(): x *esquerdo* para F(x) = P(X=x) = probabilidade\n",
    "- .isf(): x *direito* para F(x) = P(X=x) = probabilidade\n",
    "- .pmf(): tipo norm.pdf(), é a função massa de probabilidade p(x) para x de F(x) = P(X=x)\n",
    "\n",
    "**Nota:** Para esses métodos, os parâmetros são\n",
    "```python\n",
    "(quantidade de sucessos, n, p)\n",
    "```"
   ]
  },
  {
   "cell_type": "code",
   "execution_count": 16,
   "metadata": {},
   "outputs": [
    {
     "data": {
      "image/png": "[encoded data removed]",
      "text/plain": [
       "<Figure size 432x288 with 1 Axes>"
      ]
     },
     "metadata": {
      "needs_background": "light"
     },
     "output_type": "display_data"
    }
   ],
   "source": [
    "binom_20_05 = act.binom.rvs(20, .5, size=100000)  # E(X) = 20 x .5, Var(X) = 20 x .5 x .5\n",
    "binom_20_07 = act.binom.rvs(20, .7, size=100000)\n",
    "sns.distplot(binom_20_05, kde=False, bins=range(4, 18));\n",
    "sns.distplot(binom_20_07, kde=False, bins=range(4, 21));"
   ]
  },
  {
   "cell_type": "code",
   "execution_count": 17,
   "metadata": {},
   "outputs": [
    {
     "data": {
      "text/plain": [
       "(9.99426, 4.9980670524, 2.2356357154957065)"
      ]
     },
     "execution_count": 17,
     "metadata": {},
     "output_type": "execute_result"
    }
   ],
   "source": [
    "binom_20_05.mean(), binom_20_05.var(), binom_20_05.std()"
   ]
  },
  {
   "cell_type": "markdown",
   "metadata": {},
   "source": [
    "**Exemplo 1**\n",
    "\n",
    "Qual a probabilidade de se obter, no máximo, 3 caras em 20 lançamentos? sendo a moeda viciada e a chance de sucesso é $p=0.1$\n",
    "\n",
    "O que queremos\n",
    "\n",
    "$$F(3)=P(X\\leq3)=P(X=0)+P(X=1)+\\dots+P(x=3)=\\sum_{i=0}^{k=3}C_{20,3}p^i(1-p)^{20-i}$$"
   ]
  },
  {
   "cell_type": "code",
   "execution_count": 18,
   "metadata": {},
   "outputs": [
    {
     "data": {
      "text/plain": [
       "0.867046676565665"
      ]
     },
     "execution_count": 18,
     "metadata": {},
     "output_type": "execute_result"
    }
   ],
   "source": [
    "act.binom.cdf(3, 20, .1)"
   ]
  },
  {
   "cell_type": "code",
   "execution_count": 19,
   "metadata": {},
   "outputs": [
    {
     "name": "stdout",
     "output_type": "stream",
     "text": [
      "[0.12157665459056925, 0.27017034353459823, 0.28517980706429813, 0.19011987137619865]\n"
     ]
    },
    {
     "data": {
      "text/plain": [
       "0.8670466765656644"
      ]
     },
     "execution_count": 19,
     "metadata": {},
     "output_type": "execute_result"
    }
   ],
   "source": [
    "pmf_3_20 = list(act.binom.pmf(x, 20, .1) for x in range(4))\n",
    "print(pmf_3_20)\n",
    "sum(pmf_3_20)"
   ]
  },
  {
   "cell_type": "code",
   "execution_count": 20,
   "metadata": {},
   "outputs": [
    {
     "name": "stdout",
     "output_type": "stream",
     "text": [
      "[0. 1. 1. 1.]\n",
      "[4. 3. 3. 3.]\n"
     ]
    }
   ],
   "source": [
    "ppf_3_20 = act.binom.ppf(pmf_3_20, 20, .1)\n",
    "print(ppf_3_20)\n",
    "isf_3_20 = act.binom.isf(pmf_3_20, 20, .1)\n",
    "print(isf_3_20)"
   ]
  },
  {
   "cell_type": "code",
   "execution_count": 21,
   "metadata": {},
   "outputs": [
    {
     "data": {
      "text/plain": [
       "0.1329533234343351"
      ]
     },
     "execution_count": 21,
     "metadata": {},
     "output_type": "execute_result"
    }
   ],
   "source": [
    "act.binom.sf(3, 20, .1)"
   ]
  },
  {
   "cell_type": "markdown",
   "metadata": {},
   "source": [
    "**Exemplo 3**\n",
    "\n",
    "Qual a probabilidade de se obter, pelo menos, 10 sucessos em 20 lançamentos, com chance de sucesso $p=.1$\n",
    "\n",
    "O que queremos\n",
    "\n",
    "$$F(10)-F(20)=P(X\\geq10)=P(X=10)+\\dots+P(X=20)=\\sum_{i=10}^{k=20}C_{20,i}p^i(1-p)^{20-i}$$\n",
    "\n",
    "ou\n",
    "\n",
    "$$1-F(9)=1-P(X\\leq9)=1-(P(X=1)+\\dots+P(X=9))=\\sum_{i=0}^{k=9}C_{20,i}p^i(1-p)^{20-i}$$"
   ]
  },
  {
   "cell_type": "code",
   "execution_count": 22,
   "metadata": {},
   "outputs": [
    {
     "data": {
      "text/plain": [
       "7.150904021083785e-06"
      ]
     },
     "execution_count": 22,
     "metadata": {},
     "output_type": "execute_result"
    }
   ],
   "source": [
    "act.binom.sf(9, 20, .1)  # P(X > 9) = P(X >= 10)"
   ]
  },
  {
   "cell_type": "code",
   "execution_count": 23,
   "metadata": {},
   "outputs": [
    {
     "data": {
      "text/plain": [
       "7.15090402103602e-06"
      ]
     },
     "execution_count": 23,
     "metadata": {},
     "output_type": "execute_result"
    }
   ],
   "source": [
    "1 - act.binom.cdf(9, 20, .1)"
   ]
  },
  {
   "cell_type": "code",
   "execution_count": 24,
   "metadata": {},
   "outputs": [
    {
     "name": "stdout",
     "output_type": "stream",
     "text": [
      "[6.442043387911576e-06, 6.507114533243995e-07, 5.422595444369999e-08, 3.7077575688000126e-09, 2.0598653160000055e-10, 9.154956959999962e-12, 3.178804500000009e-13, 8.310600000000042e-15, 1.539000000000005e-16, 1.800000000000002e-18, 1.0000000000000063e-20]\n"
     ]
    },
    {
     "data": {
      "text/plain": [
       "7.150904021083797e-06"
      ]
     },
     "execution_count": 24,
     "metadata": {},
     "output_type": "execute_result"
    }
   ],
   "source": [
    "pmf_10_more_20 = list(act.binom.pmf(x, 20, .1) for x in range(10, 21))\n",
    "print(pmf_10_more_20)\n",
    "sum(pmf_10_more_20)"
   ]
  },
  {
   "cell_type": "code",
   "execution_count": 49,
   "metadata": {},
   "outputs": [
    {
     "data": {
      "image/png": "[encoded data removed]",
      "text/plain": [
       "<Figure size 720x576 with 2 Axes>"
      ]
     },
     "metadata": {
      "needs_background": "light"
     },
     "output_type": "display_data"
    }
   ],
   "source": [
    "eventos = np.array(range(0, 51))\n",
    "binomial = act.binom.pmf(eventos, 50, .5)\n",
    "cumulativa_binomial = act.binom.cdf(eventos, 50, .5)\n",
    "figure, g1 = plt.subplots(figsize=(10, 8))\n",
    "g1.plot(eventos, binomial, '.r')\n",
    "g2 = g1.twinx()\n",
    "g2.plot(eventos, cumulativa_binomial, '.b')\n",
    "plt.show()"
   ]
  },
  {
   "cell_type": "markdown",
   "metadata": {},
   "source": [
    "No gráfico acima, foi possível perceber que as distribuições *normais* e *binomiais* se parecem um pouco. E a pergunta que fica é: existe uma condição para que elas sejam *iguais*?\n",
    "\n",
    "**Condição para Aproximar $Binomial(n, p) \\backsim N(\\mu, \\sigma^2)$**\n",
    "\n",
    "$$n\\geq20$$\n",
    "\n",
    "Agora, vamos reescrever as variáveis independentes de $N(\\mu, \\sigma^2)$, mas de acordo com seus significados na distribuição binomial\n",
    "\n",
    "$$\\mu=\\mathbb{E}(X)=np$$\n",
    "\n",
    "$$\\sigma^2=\\mathbb{V}(X)=npq$$\n",
    "\n",
    "Assim\n",
    "\n",
    "$$Binomial(n, p)\\backsim N(np,npq)$$\n",
    "\n",
    "Devemos também considerar, para dar certo, $n\\geq20$ e $p$ não muito próximo de 0 ou 1"
   ]
  },
  {
   "cell_type": "markdown",
   "metadata": {},
   "source": [
    "**Exemplo 4**\n",
    "\n",
    "Qual a probabilidade de se obter, pelo menos, 50 sucesso em 200 lançamentos de uma moeda viciada que tem probabilidade de sucesso $p=0.3$? sendo *cara* sucesso\n",
    "\n",
    "O que queremos\n",
    "\n",
    "$$P(X\\geq50)=P(X=0)+P(X=1)+\\dots+P(X=50)=1-P(X\\leq49)=1-\\sum_{i=0}^{k=49}C_{200,i}p^i(1-q)^{200-i}$$"
   ]
  },
  {
   "cell_type": "markdown",
   "metadata": {},
   "source": [
    "*Binomial*"
   ]
  },
  {
   "cell_type": "code",
   "execution_count": 58,
   "metadata": {},
   "outputs": [
    {
     "name": "stdout",
     "output_type": "stream",
     "text": [
      "0.9494082059701139\n"
     ]
    }
   ],
   "source": [
    "b = 1 - act.binom.cdf(49, 200, .3)\n",
    "print(b)"
   ]
  },
  {
   "cell_type": "markdown",
   "metadata": {},
   "source": [
    "*Normal*\n",
    "\n",
    "$\\mu=np=200\\times0.3=60$\n",
    "\n",
    "$\\sigma^2=npq=200\\times0.3\\times0.7=42$"
   ]
  },
  {
   "cell_type": "code",
   "execution_count": 59,
   "metadata": {},
   "outputs": [
    {
     "name": "stdout",
     "output_type": "stream",
     "text": [
      "0.9385886759493037\n"
     ]
    }
   ],
   "source": [
    "n = 1 - act.norm.cdf(50, loc=60, scale=np.sqrt(42))\n",
    "print(n)"
   ]
  },
  {
   "cell_type": "markdown",
   "metadata": {},
   "source": [
    "Repare que os valores deram muito próximos. Vamos ver o *Erro relativo*, sendo o resultado da distribuição binomial o correto"
   ]
  },
  {
   "cell_type": "code",
   "execution_count": 61,
   "metadata": {},
   "outputs": [
    {
     "name": "stdout",
     "output_type": "stream",
     "text": [
      "1.140%\n"
     ]
    }
   ],
   "source": [
    "erro = 100 * abs(b-n)/b\n",
    "print(f'{erro:.3f}%')"
   ]
  },
  {
   "cell_type": "markdown",
   "metadata": {},
   "source": [
    "Existe a possibilidade de corrigir tal discrepãncia. Mas será que vale a pena? eu digo isso pois a maneira de usar a *distribuição Binomial* ou *distribuição Normal*, com o pacote `scipy.stats`, é quase a mesma. Se soubermos bem os conceitos de cada distribuição, não teremos problema"
   ]
  },
  {
   "cell_type": "markdown",
   "metadata": {},
   "source": [
    "**Exercício Extra**\n",
    "\n",
    "Chance de ficar gripado caso se vacine anualmente: $p=0.019$\n",
    "\n",
    "Chance de ficar gripado caso não se vacine anualmente: $p=0.07$\n",
    "\n",
    "Número de anos analisados: $n=20$\n",
    "\n",
    "Ou seja, em vinte anos, é possível contrair 1, 2, ... vezes"
   ]
  },
  {
   "cell_type": "code",
   "execution_count": 72,
   "metadata": {},
   "outputs": [],
   "source": [
    "n = 20\n",
    "p = .019\n",
    "p_ = .07\n",
    "pop = 100000\n",
    "esperanca = n * p\n",
    "var = n * p * (1 - p)\n",
    "vacinado = act.binom.rvs(n, p, size=pop)\n",
    "n_vacinado = act.binom.rvs(n, p_, size=pop)"
   ]
  },
  {
   "cell_type": "code",
   "execution_count": 75,
   "metadata": {},
   "outputs": [
    {
     "data": {
      "image/png": "[encoded data removed]",
      "text/plain": [
       "<Figure size 720x576 with 1 Axes>"
      ]
     },
     "metadata": {
      "needs_background": "light"
     },
     "output_type": "display_data"
    }
   ],
   "source": [
    "plt.figure(figsize=(10, 8))\n",
    "sns.distplot(vacinado, kde=False, label=f'{pop} vacinados')\n",
    "sns.distplot(n_vacinado, kde=False, label=f'{pop} não vacinados')\n",
    "plt.legend(loc='best')\n",
    "plt.show()"
   ]
  },
  {
   "cell_type": "code",
   "execution_count": 95,
   "metadata": {},
   "outputs": [
    {
     "data": {
      "image/png": "[encoded data removed]",
      "text/plain": [
       "<Figure size 432x288 with 2 Axes>"
      ]
     },
     "metadata": {
      "needs_background": "light"
     },
     "output_type": "display_data"
    }
   ],
   "source": [
    "n_resfriados = list(range(0, 8))\n",
    "prob_vacinado = act.binom.pmf(n_resfriados, n, p)\n",
    "prob_n_vacinado = act.binom.pmf(n_resfriados, n, p_)\n",
    "fig, (g1, g2) = plt.subplots(1, 2, sharey=True)\n",
    "sns.barplot(x=n_resfriados, y=prob_vacinado, ax=g1);\n",
    "sns.barplot(x=n_resfriados, y=prob_n_vacinado, ax=g2);\n",
    "g1.set_title(f'p = {p}');\n",
    "g2.set_title(f'p = {p_}');"
   ]
  },
  {
   "cell_type": "markdown",
   "metadata": {},
   "source": [
    "**Exercício extra 2**\n",
    "\n",
    "Distribuição IQ Scores: $\\mu=100, \\sigma=15$"
   ]
  },
  {
   "cell_type": "code",
   "execution_count": 120,
   "metadata": {},
   "outputs": [
    {
     "data": {
      "image/png": "[encoded data removed]",
      "text/plain": [
       "<Figure size 720x576 with 1 Axes>"
      ]
     },
     "metadata": {
      "needs_background": "light"
     },
     "output_type": "display_data"
    }
   ],
   "source": [
    "pop = 100000\n",
    "med = 100\n",
    "desvp = 15\n",
    "iq_norm = act.norm.rvs(loc=med, scale=desvp, size=pop)\n",
    "plt.figure(figsize=(10, 8))\n",
    "sns.distplot(iq_norm);"
   ]
  },
  {
   "cell_type": "markdown",
   "metadata": {},
   "source": [
    "Probabilidade de ocorrência entre 120 -140"
   ]
  },
  {
   "cell_type": "code",
   "execution_count": 112,
   "metadata": {},
   "outputs": [
    {
     "name": "stdout",
     "output_type": "stream",
     "text": [
      "0.0873808391582781\n"
     ]
    }
   ],
   "source": [
    "prob1, prob2 = act.norm.cdf((120, 140), loc=med, scale=desvp)\n",
    "prob = prob2 - prob1\n",
    "print(prob)"
   ]
  },
  {
   "cell_type": "code",
   "execution_count": 183,
   "metadata": {},
   "outputs": [
    {
     "data": {
      "image/png": "[encoded data removed]",
      "text/plain": [
       "<Figure size 720x576 with 1 Axes>"
      ]
     },
     "metadata": {
      "needs_background": "light"
     },
     "output_type": "display_data"
    }
   ],
   "source": [
    "x = np.array(range(0, 201))\n",
    "norm = act.norm.pdf(x, loc=med, scale=desvp)\n",
    "plt.figure(figsize=(10, 8))\n",
    "plt.plot(x, norm, label='p(x)')\n",
    "plt.ylabel('densidade de probabilidade')\n",
    "plt.xlabel('x')\n",
    "plt.legend(loc='best')\n",
    "plt.show()"
   ]
  }
 ],
 "metadata": {
  "kernelspec": {
   "display_name": "Python 3",
   "language": "python",
   "name": "python3"
  },
  "language_info": {
   "codemirror_mode": {
    "name": "ipython",
    "version": 3
   },
   "file_extension": ".py",
   "mimetype": "text/x-python",
   "name": "python",
   "nbconvert_exporter": "python",
   "pygments_lexer": "ipython3",
   "version": "3.8.2"
  }
 },
 "nbformat": 4,
 "nbformat_minor": 4
}
