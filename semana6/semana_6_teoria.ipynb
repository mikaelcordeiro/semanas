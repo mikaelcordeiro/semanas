{
 "cells": [
  {
   "cell_type": "markdown",
   "metadata": {},
   "source": [
    "# Teoria da Semana 6\n",
    "\n",
    "### Professor: Kazuki Yokoyama | Tema: Redução de Dimensionalidade e Seleção de Variáveis"
   ]
  },
  {
   "cell_type": "markdown",
   "metadata": {},
   "source": [
    "**Redução de Dimensionalidade:** Redução de dimensões por **transformação** das variáveis originais do *dataset*, trazendo os dados para um espaço de dimensões menores.\n",
    "\n",
    "**Seleção de Variáveis:** Redução de dimensões **retirando** as variáveis que acrescentam pouco valor para a tarefa de predição, como uma espécie de filtro"
   ]
  },
  {
   "cell_type": "markdown",
   "metadata": {},
   "source": [
    "### Redução de Dimensionalidade\n",
    "\n",
    "Cada problema apresenta um número de dimensões, uns mais e outros menos. A questão é: será que existe redundância? Ou seja, um problema com 50 dimensões precisa **realmente** de todas as 50 dimensões? Será que algumas dessas não trazem imformações iguais, mas encaradas por ângulos diferentes apenas?\n",
    "\n",
    "**Muitas dimensões**\n",
    "\n",
    "- Tudo que vemos são 3 dimensões apenas, e quando encaramos algo com mais, temos que, no máximo, olhar essas dimensões de 3 em 3. Mas nesse processo, perdemos informação\n",
    "\n",
    "- As distâncias entre pontos em espaços em de alta dimensionalidade também é um entrave. Eles concentram-se muito nas bordas, mas ficam muito espaçados nos centros. Portanto, qualquer algoritmo que use de distâncias Euclidianas vai sofrer com as distorções em hiperespaços\n",
    "\n",
    "- Diante desse problema de densidade, podemos pensar em *preencher* esses vazios com mais informação (dados) sobre o problema, mas pode ser dificil conseguir essas informações *à mais*. Então, resta diminuir as dimensões do problema mesmo.\n",
    "\n",
    "**PCA (Principle Component Analisys)**\n",
    "\n",
    "Como técnica de redução de dimensões, vamos aprender o PCA. Sua idéia é criar vetores, conhecidos como **Componentes Principais**, que apresentam o **máximo de variância e o mínimo de resíduo** dos dados originais. Se o *dataset* apresenda $n$ dimensões, existirão $n-1$ componentes principais.\n",
    "\n",
    "![imagem]()"
   ]
  }
 ],
 "metadata": {
  "kernelspec": {
   "display_name": "Python 3",
   "language": "python",
   "name": "python3"
  },
  "language_info": {
   "codemirror_mode": {
    "name": "ipython",
    "version": 3
   },
   "file_extension": ".py",
   "mimetype": "text/x-python",
   "name": "python",
   "nbconvert_exporter": "python",
   "pygments_lexer": "ipython3",
   "version": "3.8.2"
  }
 },
 "nbformat": 4,
 "nbformat_minor": 4
}
