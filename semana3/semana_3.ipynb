{
 "cells": [
  {
   "cell_type": "markdown",
   "metadata": {},
   "source": [
    "# Semana 3 do Aceleradev DS Codenation\n",
    "\n",
    "## Professor: Túlio Vieira de Souza | Tema: Análise Exploratória de Dados (EDA)"
   ]
  },
  {
   "cell_type": "code",
   "execution_count": 2,
   "metadata": {},
   "outputs": [],
   "source": [
    "import pandas as pd\n",
    "import matplotlib.pyplot as plt\n",
    "import seaborn as sns"
   ]
  },
  {
   "cell_type": "code",
   "execution_count": 3,
   "metadata": {},
   "outputs": [],
   "source": [
    "df1 = pd.read_csv(\"~/projetos_python/aceleradev/Data-Science-Online/Semana 3/houses_to_rent_v2.csv\")"
   ]
  },
  {
   "cell_type": "code",
   "execution_count": 4,
   "metadata": {},
   "outputs": [
    {
     "data": {
      "text/html": [
       "<div>\n",
       "<style scoped>\n",
       "    .dataframe tbody tr th:only-of-type {\n",
       "        vertical-align: middle;\n",
       "    }\n",
       "\n",
       "    .dataframe tbody tr th {\n",
       "        vertical-align: top;\n",
       "    }\n",
       "\n",
       "    .dataframe thead th {\n",
       "        text-align: right;\n",
       "    }\n",
       "</style>\n",
       "<table border=\"1\" class=\"dataframe\">\n",
       "  <thead>\n",
       "    <tr style=\"text-align: right;\">\n",
       "      <th></th>\n",
       "      <th>city</th>\n",
       "      <th>area</th>\n",
       "      <th>rooms</th>\n",
       "      <th>bathroom</th>\n",
       "      <th>parking spaces</th>\n",
       "      <th>floor</th>\n",
       "      <th>animal</th>\n",
       "      <th>furniture</th>\n",
       "      <th>hoa (R$)</th>\n",
       "      <th>rent amount (R$)</th>\n",
       "      <th>property tax (R$)</th>\n",
       "      <th>fire insurance (R$)</th>\n",
       "      <th>total (R$)</th>\n",
       "    </tr>\n",
       "  </thead>\n",
       "  <tbody>\n",
       "    <tr>\n",
       "      <th>0</th>\n",
       "      <td>São Paulo</td>\n",
       "      <td>70</td>\n",
       "      <td>2</td>\n",
       "      <td>1</td>\n",
       "      <td>1</td>\n",
       "      <td>7</td>\n",
       "      <td>acept</td>\n",
       "      <td>furnished</td>\n",
       "      <td>2065</td>\n",
       "      <td>3300</td>\n",
       "      <td>211</td>\n",
       "      <td>42</td>\n",
       "      <td>5618</td>\n",
       "    </tr>\n",
       "    <tr>\n",
       "      <th>1</th>\n",
       "      <td>São Paulo</td>\n",
       "      <td>320</td>\n",
       "      <td>4</td>\n",
       "      <td>4</td>\n",
       "      <td>0</td>\n",
       "      <td>20</td>\n",
       "      <td>acept</td>\n",
       "      <td>not furnished</td>\n",
       "      <td>1200</td>\n",
       "      <td>4960</td>\n",
       "      <td>1750</td>\n",
       "      <td>63</td>\n",
       "      <td>7973</td>\n",
       "    </tr>\n",
       "    <tr>\n",
       "      <th>2</th>\n",
       "      <td>Porto Alegre</td>\n",
       "      <td>80</td>\n",
       "      <td>1</td>\n",
       "      <td>1</td>\n",
       "      <td>1</td>\n",
       "      <td>6</td>\n",
       "      <td>acept</td>\n",
       "      <td>not furnished</td>\n",
       "      <td>1000</td>\n",
       "      <td>2800</td>\n",
       "      <td>0</td>\n",
       "      <td>41</td>\n",
       "      <td>3841</td>\n",
       "    </tr>\n",
       "    <tr>\n",
       "      <th>3</th>\n",
       "      <td>Porto Alegre</td>\n",
       "      <td>51</td>\n",
       "      <td>2</td>\n",
       "      <td>1</td>\n",
       "      <td>0</td>\n",
       "      <td>2</td>\n",
       "      <td>acept</td>\n",
       "      <td>not furnished</td>\n",
       "      <td>270</td>\n",
       "      <td>1112</td>\n",
       "      <td>22</td>\n",
       "      <td>17</td>\n",
       "      <td>1421</td>\n",
       "    </tr>\n",
       "    <tr>\n",
       "      <th>4</th>\n",
       "      <td>São Paulo</td>\n",
       "      <td>25</td>\n",
       "      <td>1</td>\n",
       "      <td>1</td>\n",
       "      <td>0</td>\n",
       "      <td>1</td>\n",
       "      <td>not acept</td>\n",
       "      <td>not furnished</td>\n",
       "      <td>0</td>\n",
       "      <td>800</td>\n",
       "      <td>25</td>\n",
       "      <td>11</td>\n",
       "      <td>836</td>\n",
       "    </tr>\n",
       "  </tbody>\n",
       "</table>\n",
       "</div>"
      ],
      "text/plain": [
       "           city  area  rooms  bathroom  parking spaces floor     animal  \\\n",
       "0     São Paulo    70      2         1               1     7      acept   \n",
       "1     São Paulo   320      4         4               0    20      acept   \n",
       "2  Porto Alegre    80      1         1               1     6      acept   \n",
       "3  Porto Alegre    51      2         1               0     2      acept   \n",
       "4     São Paulo    25      1         1               0     1  not acept   \n",
       "\n",
       "       furniture  hoa (R$)  rent amount (R$)  property tax (R$)  \\\n",
       "0      furnished      2065              3300                211   \n",
       "1  not furnished      1200              4960               1750   \n",
       "2  not furnished      1000              2800                  0   \n",
       "3  not furnished       270              1112                 22   \n",
       "4  not furnished         0               800                 25   \n",
       "\n",
       "   fire insurance (R$)  total (R$)  \n",
       "0                   42        5618  \n",
       "1                   63        7973  \n",
       "2                   41        3841  \n",
       "3                   17        1421  \n",
       "4                   11         836  "
      ]
     },
     "execution_count": 4,
     "metadata": {},
     "output_type": "execute_result"
    }
   ],
   "source": [
    "df1.head()"
   ]
  },
  {
   "cell_type": "code",
   "execution_count": 5,
   "metadata": {},
   "outputs": [],
   "source": [
    "df1.rename(columns={\"rent amount (R$)\": \"valor_aluguel\"}, inplace= True)"
   ]
  },
  {
   "cell_type": "code",
   "execution_count": 6,
   "metadata": {},
   "outputs": [
    {
     "name": "stdout",
     "output_type": "stream",
     "text": [
      "<class 'pandas.core.frame.DataFrame'>\n",
      "RangeIndex: 10692 entries, 0 to 10691\n",
      "Data columns (total 13 columns):\n",
      " #   Column               Non-Null Count  Dtype \n",
      "---  ------               --------------  ----- \n",
      " 0   city                 10692 non-null  object\n",
      " 1   area                 10692 non-null  int64 \n",
      " 2   rooms                10692 non-null  int64 \n",
      " 3   bathroom             10692 non-null  int64 \n",
      " 4   parking spaces       10692 non-null  int64 \n",
      " 5   floor                10692 non-null  object\n",
      " 6   animal               10692 non-null  object\n",
      " 7   furniture            10692 non-null  object\n",
      " 8   hoa (R$)             10692 non-null  int64 \n",
      " 9   valor_aluguel        10692 non-null  int64 \n",
      " 10  property tax (R$)    10692 non-null  int64 \n",
      " 11  fire insurance (R$)  10692 non-null  int64 \n",
      " 12  total (R$)           10692 non-null  int64 \n",
      "dtypes: int64(9), object(4)\n",
      "memory usage: 1.1+ MB\n"
     ]
    }
   ],
   "source": [
    "df1.info()"
   ]
  },
  {
   "cell_type": "markdown",
   "metadata": {},
   "source": [
    "Analisando os tipos de dados, podemos \"enxugar\" um pouco esse *df* mudando os tipos primitivos."
   ]
  },
  {
   "cell_type": "markdown",
   "metadata": {},
   "source": [
    "**Coluna \"floor\"**"
   ]
  },
  {
   "cell_type": "code",
   "execution_count": 7,
   "metadata": {},
   "outputs": [
    {
     "data": {
      "text/plain": [
       "-      2461\n",
       "1      1081\n",
       "2       985\n",
       "3       931\n",
       "4       748\n",
       "5       600\n",
       "6       539\n",
       "7       497\n",
       "8       490\n",
       "9       369\n",
       "10      357\n",
       "11      303\n",
       "12      257\n",
       "13      200\n",
       "14      170\n",
       "15      147\n",
       "16      109\n",
       "17       96\n",
       "18       75\n",
       "19       53\n",
       "20       44\n",
       "21       42\n",
       "25       25\n",
       "23       25\n",
       "22       24\n",
       "26       20\n",
       "24       19\n",
       "27        8\n",
       "28        6\n",
       "29        5\n",
       "32        2\n",
       "35        1\n",
       "301       1\n",
       "51        1\n",
       "46        1\n",
       "Name: floor, dtype: int64"
      ]
     },
     "execution_count": 7,
     "metadata": {},
     "output_type": "execute_result"
    }
   ],
   "source": [
    "df1['floor'].value_counts()"
   ]
  },
  {
   "cell_type": "markdown",
   "metadata": {},
   "source": [
    "Agora sabemos porque essa coluna é classificada como *object* sendo que seus valores são majoritariamente *int*, tem registros preenchidos com \"-\" para simbilizar **ausência de andares**. E para resolver isso, basta substituir o seu valor por um 0"
   ]
  },
  {
   "cell_type": "code",
   "execution_count": 8,
   "metadata": {},
   "outputs": [],
   "source": [
    "df1['floor'].replace('-', 0, inplace=True)"
   ]
  },
  {
   "cell_type": "code",
   "execution_count": 9,
   "metadata": {},
   "outputs": [
    {
     "data": {
      "text/plain": [
       "0      2461\n",
       "1      1081\n",
       "2       985\n",
       "3       931\n",
       "4       748\n",
       "5       600\n",
       "6       539\n",
       "7       497\n",
       "8       490\n",
       "9       369\n",
       "10      357\n",
       "11      303\n",
       "12      257\n",
       "13      200\n",
       "14      170\n",
       "15      147\n",
       "16      109\n",
       "17       96\n",
       "18       75\n",
       "19       53\n",
       "20       44\n",
       "21       42\n",
       "23       25\n",
       "25       25\n",
       "22       24\n",
       "26       20\n",
       "24       19\n",
       "27        8\n",
       "28        6\n",
       "29        5\n",
       "32        2\n",
       "301       1\n",
       "35        1\n",
       "51        1\n",
       "46        1\n",
       "Name: floor, dtype: int64"
      ]
     },
     "execution_count": 9,
     "metadata": {},
     "output_type": "execute_result"
    }
   ],
   "source": [
    "df1['floor'].value_counts()"
   ]
  },
  {
   "cell_type": "markdown",
   "metadata": {},
   "source": [
    "Agora, podemos tornar essa coluna um tipo numérico, e também mudar a quantidade de memória gastas em outras, pois tem colunas em *int64* que não precisam de toda esse armazenamento"
   ]
  },
  {
   "cell_type": "code",
   "execution_count": 10,
   "metadata": {},
   "outputs": [
    {
     "name": "stdout",
     "output_type": "stream",
     "text": [
      "<class 'pandas.core.frame.DataFrame'>\n",
      "RangeIndex: 10692 entries, 0 to 10691\n",
      "Data columns (total 13 columns):\n",
      " #   Column               Non-Null Count  Dtype \n",
      "---  ------               --------------  ----- \n",
      " 0   city                 10692 non-null  object\n",
      " 1   area                 10692 non-null  uint16\n",
      " 2   rooms                10692 non-null  uint16\n",
      " 3   bathroom             10692 non-null  uint16\n",
      " 4   parking spaces       10692 non-null  uint16\n",
      " 5   floor                10692 non-null  uint16\n",
      " 6   animal               10692 non-null  object\n",
      " 7   furniture            10692 non-null  object\n",
      " 8   hoa (R$)             10692 non-null  uint16\n",
      " 9   valor_aluguel        10692 non-null  uint16\n",
      " 10  property tax (R$)    10692 non-null  uint16\n",
      " 11  fire insurance (R$)  10692 non-null  uint16\n",
      " 12  total (R$)           10692 non-null  uint16\n",
      "dtypes: object(3), uint16(10)\n",
      "memory usage: 459.5+ KB\n"
     ]
    }
   ],
   "source": [
    "df_lite = df1.astype({'area': 'uint16', 'rooms': 'uint16', 'bathroom': 'uint16', 'parking spaces': 'uint16', 'floor': 'uint16', 'hoa (R$)': 'uint16', 'valor_aluguel': 'uint16', 'property tax (R$)': 'uint16', 'fire insurance (R$)': 'uint16', 'total (R$)': 'uint16'}, copy=True)\n",
    "df_lite.info()"
   ]
  },
  {
   "cell_type": "markdown",
   "metadata": {},
   "source": [
    "Como podemos perceber, nesse *dataframe* nao existem valores nulos, basta comparar **RangeIndex** com **Non-Null Count**. Eles são iguais. Mas se quiser, basta conferir com o método .isna()"
   ]
  },
  {
   "cell_type": "code",
   "execution_count": 11,
   "metadata": {},
   "outputs": [
    {
     "data": {
      "text/plain": [
       "city                   0\n",
       "area                   0\n",
       "rooms                  0\n",
       "bathroom               0\n",
       "parking spaces         0\n",
       "floor                  0\n",
       "animal                 0\n",
       "furniture              0\n",
       "hoa (R$)               0\n",
       "valor_aluguel          0\n",
       "property tax (R$)      0\n",
       "fire insurance (R$)    0\n",
       "total (R$)             0\n",
       "dtype: int64"
      ]
     },
     "execution_count": 11,
     "metadata": {},
     "output_type": "execute_result"
    }
   ],
   "source": [
    "df_lite.isna().sum()"
   ]
  },
  {
   "cell_type": "markdown",
   "metadata": {},
   "source": [
    "**Primeira Coisa:** Definir o que vamos trabalhar. No caso desse *df*, analisaremos o valor do aluguel"
   ]
  },
  {
   "cell_type": "markdown",
   "metadata": {},
   "source": [
    "**Segunda Coisa:** fazer uma análise **UNIVARIÁVEL** no que estamos analisando"
   ]
  },
  {
   "cell_type": "code",
   "execution_count": 12,
   "metadata": {},
   "outputs": [
    {
     "data": {
      "text/plain": [
       "3896.247194163861"
      ]
     },
     "execution_count": 12,
     "metadata": {},
     "output_type": "execute_result"
    }
   ],
   "source": [
    "df1[\"valor_aluguel\"].mean()"
   ]
  },
  {
   "cell_type": "code",
   "execution_count": 13,
   "metadata": {},
   "outputs": [
    {
     "data": {
      "text/plain": [
       "2661.0"
      ]
     },
     "execution_count": 13,
     "metadata": {},
     "output_type": "execute_result"
    }
   ],
   "source": [
    "df1['valor_aluguel'].median()"
   ]
  },
  {
   "cell_type": "code",
   "execution_count": 14,
   "metadata": {},
   "outputs": [
    {
     "data": {
      "text/plain": [
       "3408.5455176710675"
      ]
     },
     "execution_count": 14,
     "metadata": {},
     "output_type": "execute_result"
    }
   ],
   "source": [
    "df1['valor_aluguel'].std()"
   ]
  },
  {
   "cell_type": "code",
   "execution_count": 15,
   "metadata": {},
   "outputs": [
    {
     "data": {
      "text/plain": [
       "0    2500\n",
       "dtype: int64"
      ]
     },
     "execution_count": 15,
     "metadata": {},
     "output_type": "execute_result"
    }
   ],
   "source": [
    "df1['valor_aluguel'].mode()"
   ]
  },
  {
   "cell_type": "markdown",
   "metadata": {},
   "source": [
    "Para resumir"
   ]
  },
  {
   "cell_type": "code",
   "execution_count": 16,
   "metadata": {},
   "outputs": [
    {
     "data": {
      "text/plain": [
       "count    10692.000000\n",
       "mean      3896.247194\n",
       "std       3408.545518\n",
       "min        450.000000\n",
       "25%       1530.000000\n",
       "50%       2661.000000\n",
       "75%       5000.000000\n",
       "max      45000.000000\n",
       "Name: valor_aluguel, dtype: float64"
      ]
     },
     "execution_count": 16,
     "metadata": {},
     "output_type": "execute_result"
    }
   ],
   "source": [
    "df_lite['valor_aluguel'].describe()"
   ]
  },
  {
   "cell_type": "markdown",
   "metadata": {},
   "source": [
    "**Repare:** Olhando os quartis, de 75% ao *max*, o valor do aluguel cresceu 9 vezes, enquanto que do min aos 25%, cresceu apenas 3.4 vezes. Diante disso, podem ser que existam *outliers*"
   ]
  },
  {
   "cell_type": "code",
   "execution_count": 17,
   "metadata": {},
   "outputs": [
    {
     "data": {
      "text/plain": [
       "(405.449, 5400.0]     8252\n",
       "(5400.0, 10350.0]     1728\n",
       "(10350.0, 15300.0]     699\n",
       "(15300.0, 20250.0]       9\n",
       "(20250.0, 25200.0]       2\n",
       "(40050.0, 45000.0]       1\n",
       "(25200.0, 30150.0]       1\n",
       "(35100.0, 40050.0]       0\n",
       "(30150.0, 35100.0]       0\n",
       "Name: valor_aluguel, dtype: int64"
      ]
     },
     "execution_count": 17,
     "metadata": {},
     "output_type": "execute_result"
    }
   ],
   "source": [
    "df_lite['valor_aluguel'].value_counts(bins=9)"
   ]
  },
  {
   "cell_type": "markdown",
   "metadata": {},
   "source": [
    "Agora, sabemos onde estes valores estão concentrados, basta olhar os intervalos de classes e suas frequências absolutas. Mas para ver essa informação **graficamente**"
   ]
  },
  {
   "cell_type": "code",
   "execution_count": 18,
   "metadata": {},
   "outputs": [
    {
     "data": {
      "image/png": "[encoded data removed]",
      "text/plain": [
       "<Figure size 1152x648 with 2 Axes>"
      ]
     },
     "metadata": {
      "needs_background": "light"
     },
     "output_type": "display_data"
    }
   ],
   "source": [
    "figure, (g1, g2) = plt.subplots(1, 2, figsize=(16,9))\n",
    "df_lite['valor_aluguel'].plot(kind='hist', bins=50, ax=g1);\n",
    "df_lite['valor_aluguel'].plot(kind='box', ax=g2);"
   ]
  },
  {
   "cell_type": "markdown",
   "metadata": {},
   "source": [
    "**Pensamento Interessante:** Como um Cientista de Dados tende a ter problemas muito diversos, é quase impossível que ele tenha conhecimento de tudo. Dessa base de dados por exemplo, que fala de valores de aluguéis, qual a chance deu ter conhecimento profundo nisso? se vc nao é do ramo imobiliário, ou nunca alugou uma casa, é pouco provável que saiba. Ou seja: **PERGUNTE**. Faça isso, pois sempre que abrimos uma base de dados, buscamos por duas coisas: **Perguntas** e **Hipóteses**. Portanto, a base de conhecimento para gerar os dois citados virá de **pesquisa**. Porque pode acontecer de se gastar tempo com uma análise sob um ponto de vista equivocado, o que fará com que inutilize o seu valor."
   ]
  },
  {
   "cell_type": "markdown",
   "metadata": {},
   "source": [
    "### Hipóteses\n",
    "\n",
    "1. São Paulo é a cidade com aluguel mais caro.\n",
    "2. Quanto mais banheiros, maio o valor do imóvel.\n",
    "3. Imóveis mobiliados tem aluguel mais caro.\n",
    "\n",
    "Produzir hipóteses é uma tarefa que parece fácil, pois muitas vezes beira o senso comum. Quando se entra no mundo do negócio, para se aprofundar mais no problema, quem tomamos como fonte de conhecimento pode reproduzir coisas  que, para elas já são óbvias. Só que nós não sabemos se tais \"certezas\" passaram por alguma validação científica. Diante disso, **testarmos** hipóteses é muito importante."
   ]
  },
  {
   "cell_type": "markdown",
   "metadata": {},
   "source": [
    "### Perguntas"
   ]
  },
  {
   "cell_type": "markdown",
   "metadata": {},
   "source": [
    "1. Qual a cidade com aluguel mais alto?\n",
    "2. As casas de aluguel mais caro possuem quantos banheiros?\n",
    "3. Os imóveis mais caros aceitam animais?\n",
    "4. Os imóveis mais caros são mobiliados?\n",
    "\n",
    "Não precisamos nos basearmos **apenas** nos valores desse *dataset*, podemos procurar por população dessas cidades, renda per capta, idh, densidade demográfica, e assim vai"
   ]
  },
  {
   "cell_type": "code",
   "execution_count": 19,
   "metadata": {},
   "outputs": [
    {
     "data": {
      "text/html": [
       "<div>\n",
       "<style scoped>\n",
       "    .dataframe tbody tr th:only-of-type {\n",
       "        vertical-align: middle;\n",
       "    }\n",
       "\n",
       "    .dataframe tbody tr th {\n",
       "        vertical-align: top;\n",
       "    }\n",
       "\n",
       "    .dataframe thead tr th {\n",
       "        text-align: left;\n",
       "    }\n",
       "\n",
       "    .dataframe thead tr:last-of-type th {\n",
       "        text-align: right;\n",
       "    }\n",
       "</style>\n",
       "<table border=\"1\" class=\"dataframe\">\n",
       "  <thead>\n",
       "    <tr>\n",
       "      <th></th>\n",
       "      <th colspan=\"2\" halign=\"left\">valor_aluguel</th>\n",
       "    </tr>\n",
       "    <tr>\n",
       "      <th></th>\n",
       "      <th>mean</th>\n",
       "      <th>median</th>\n",
       "    </tr>\n",
       "    <tr>\n",
       "      <th>city</th>\n",
       "      <th></th>\n",
       "      <th></th>\n",
       "    </tr>\n",
       "  </thead>\n",
       "  <tbody>\n",
       "    <tr>\n",
       "      <th>São Paulo</th>\n",
       "      <td>4652.793783</td>\n",
       "      <td>3400</td>\n",
       "    </tr>\n",
       "    <tr>\n",
       "      <th>Belo Horizonte</th>\n",
       "      <td>3664.127981</td>\n",
       "      <td>2300</td>\n",
       "    </tr>\n",
       "    <tr>\n",
       "      <th>Rio de Janeiro</th>\n",
       "      <td>3232.904064</td>\n",
       "      <td>2300</td>\n",
       "    </tr>\n",
       "    <tr>\n",
       "      <th>Campinas</th>\n",
       "      <td>2364.290739</td>\n",
       "      <td>1500</td>\n",
       "    </tr>\n",
       "    <tr>\n",
       "      <th>Porto Alegre</th>\n",
       "      <td>2337.699916</td>\n",
       "      <td>1650</td>\n",
       "    </tr>\n",
       "  </tbody>\n",
       "</table>\n",
       "</div>"
      ],
      "text/plain": [
       "               valor_aluguel       \n",
       "                        mean median\n",
       "city                               \n",
       "São Paulo        4652.793783   3400\n",
       "Belo Horizonte   3664.127981   2300\n",
       "Rio de Janeiro   3232.904064   2300\n",
       "Campinas         2364.290739   1500\n",
       "Porto Alegre     2337.699916   1650"
      ]
     },
     "execution_count": 19,
     "metadata": {},
     "output_type": "execute_result"
    }
   ],
   "source": [
    "#  1\n",
    "df_lite.groupby('city').agg({'valor_aluguel': ['mean', 'median']}).sort_values(by=('valor_aluguel','mean'), ascending=False)"
   ]
  },
  {
   "cell_type": "code",
   "execution_count": 20,
   "metadata": {},
   "outputs": [
    {
     "data": {
      "text/html": [
       "<div>\n",
       "<style scoped>\n",
       "    .dataframe tbody tr th:only-of-type {\n",
       "        vertical-align: middle;\n",
       "    }\n",
       "\n",
       "    .dataframe tbody tr th {\n",
       "        vertical-align: top;\n",
       "    }\n",
       "\n",
       "    .dataframe thead tr th {\n",
       "        text-align: left;\n",
       "    }\n",
       "\n",
       "    .dataframe thead tr:last-of-type th {\n",
       "        text-align: right;\n",
       "    }\n",
       "</style>\n",
       "<table border=\"1\" class=\"dataframe\">\n",
       "  <thead>\n",
       "    <tr>\n",
       "      <th></th>\n",
       "      <th colspan=\"3\" halign=\"left\">valor_aluguel</th>\n",
       "    </tr>\n",
       "    <tr>\n",
       "      <th></th>\n",
       "      <th>mean</th>\n",
       "      <th>median</th>\n",
       "      <th>count</th>\n",
       "    </tr>\n",
       "    <tr>\n",
       "      <th>bathroom</th>\n",
       "      <th></th>\n",
       "      <th></th>\n",
       "      <th></th>\n",
       "    </tr>\n",
       "  </thead>\n",
       "  <tbody>\n",
       "    <tr>\n",
       "      <th>1</th>\n",
       "      <td>1857.41</td>\n",
       "      <td>1500.0</td>\n",
       "      <td>4301</td>\n",
       "    </tr>\n",
       "    <tr>\n",
       "      <th>2</th>\n",
       "      <td>3371.22</td>\n",
       "      <td>2700.0</td>\n",
       "      <td>2910</td>\n",
       "    </tr>\n",
       "    <tr>\n",
       "      <th>3</th>\n",
       "      <td>5410.20</td>\n",
       "      <td>4300.0</td>\n",
       "      <td>1474</td>\n",
       "    </tr>\n",
       "    <tr>\n",
       "      <th>4</th>\n",
       "      <td>7186.50</td>\n",
       "      <td>6500.0</td>\n",
       "      <td>1111</td>\n",
       "    </tr>\n",
       "    <tr>\n",
       "      <th>5</th>\n",
       "      <td>8367.59</td>\n",
       "      <td>8000.0</td>\n",
       "      <td>578</td>\n",
       "    </tr>\n",
       "    <tr>\n",
       "      <th>6</th>\n",
       "      <td>9156.61</td>\n",
       "      <td>8500.0</td>\n",
       "      <td>215</td>\n",
       "    </tr>\n",
       "    <tr>\n",
       "      <th>7</th>\n",
       "      <td>10370.05</td>\n",
       "      <td>9250.0</td>\n",
       "      <td>85</td>\n",
       "    </tr>\n",
       "    <tr>\n",
       "      <th>8</th>\n",
       "      <td>12447.27</td>\n",
       "      <td>13200.0</td>\n",
       "      <td>11</td>\n",
       "    </tr>\n",
       "    <tr>\n",
       "      <th>9</th>\n",
       "      <td>10092.25</td>\n",
       "      <td>8519.5</td>\n",
       "      <td>4</td>\n",
       "    </tr>\n",
       "    <tr>\n",
       "      <th>10</th>\n",
       "      <td>12333.33</td>\n",
       "      <td>15000.0</td>\n",
       "      <td>3</td>\n",
       "    </tr>\n",
       "  </tbody>\n",
       "</table>\n",
       "</div>"
      ],
      "text/plain": [
       "         valor_aluguel               \n",
       "                  mean   median count\n",
       "bathroom                             \n",
       "1              1857.41   1500.0  4301\n",
       "2              3371.22   2700.0  2910\n",
       "3              5410.20   4300.0  1474\n",
       "4              7186.50   6500.0  1111\n",
       "5              8367.59   8000.0   578\n",
       "6              9156.61   8500.0   215\n",
       "7             10370.05   9250.0    85\n",
       "8             12447.27  13200.0    11\n",
       "9             10092.25   8519.5     4\n",
       "10            12333.33  15000.0     3"
      ]
     },
     "execution_count": 20,
     "metadata": {},
     "output_type": "execute_result"
    }
   ],
   "source": [
    "#  2\n",
    "## O que é \"aluguel mais caro? pra sp é um valor, pra BH é outro\"\n",
    "df_lite.groupby('bathroom').agg({'valor_aluguel':['mean', 'median', 'count']}).round(2)"
   ]
  },
  {
   "cell_type": "code",
   "execution_count": 21,
   "metadata": {},
   "outputs": [
    {
     "data": {
      "image/png": "[encoded data removed]",
      "text/plain": [
       "<Figure size 720x576 with 1 Axes>"
      ]
     },
     "metadata": {
      "needs_background": "light"
     },
     "output_type": "display_data"
    }
   ],
   "source": [
    "df_lite.groupby('bathroom').agg({'valor_aluguel': 'mean'}).round(2).sort_values(by='valor_aluguel', ascending=True).plot(kind='bar', figsize=(10, 8));"
   ]
  },
  {
   "cell_type": "code",
   "execution_count": 22,
   "metadata": {},
   "outputs": [
    {
     "data": {
      "text/plain": [
       "3.6842105263157894"
      ]
     },
     "execution_count": 22,
     "metadata": {},
     "output_type": "execute_result"
    }
   ],
   "source": [
    "# como vimos com .describe(), as casas com aluguel acima de 5000 representam 25% dos aluguéis mais altos\n",
    "\n",
    "filt = df_lite['valor_aluguel'] >= 5000\n",
    "df_lite[filt]['bathroom'].mean()"
   ]
  },
  {
   "cell_type": "code",
   "execution_count": 23,
   "metadata": {},
   "outputs": [
    {
     "data": {
      "text/html": [
       "<div>\n",
       "<style scoped>\n",
       "    .dataframe tbody tr th:only-of-type {\n",
       "        vertical-align: middle;\n",
       "    }\n",
       "\n",
       "    .dataframe tbody tr th {\n",
       "        vertical-align: top;\n",
       "    }\n",
       "\n",
       "    .dataframe thead tr th {\n",
       "        text-align: left;\n",
       "    }\n",
       "\n",
       "    .dataframe thead tr:last-of-type th {\n",
       "        text-align: right;\n",
       "    }\n",
       "</style>\n",
       "<table border=\"1\" class=\"dataframe\">\n",
       "  <thead>\n",
       "    <tr>\n",
       "      <th></th>\n",
       "      <th colspan=\"3\" halign=\"left\">valor_aluguel</th>\n",
       "    </tr>\n",
       "    <tr>\n",
       "      <th></th>\n",
       "      <th>mean</th>\n",
       "      <th>median</th>\n",
       "      <th>count</th>\n",
       "    </tr>\n",
       "    <tr>\n",
       "      <th>animal</th>\n",
       "      <th></th>\n",
       "      <th></th>\n",
       "      <th></th>\n",
       "    </tr>\n",
       "  </thead>\n",
       "  <tbody>\n",
       "    <tr>\n",
       "      <th>acept</th>\n",
       "      <td>4019.685786</td>\n",
       "      <td>2791.5</td>\n",
       "      <td>8316</td>\n",
       "    </tr>\n",
       "    <tr>\n",
       "      <th>not acept</th>\n",
       "      <td>3464.212121</td>\n",
       "      <td>2385.0</td>\n",
       "      <td>2376</td>\n",
       "    </tr>\n",
       "  </tbody>\n",
       "</table>\n",
       "</div>"
      ],
      "text/plain": [
       "          valor_aluguel              \n",
       "                   mean  median count\n",
       "animal                               \n",
       "acept       4019.685786  2791.5  8316\n",
       "not acept   3464.212121  2385.0  2376"
      ]
     },
     "execution_count": 23,
     "metadata": {},
     "output_type": "execute_result"
    }
   ],
   "source": [
    "#  3\n",
    "df_lite.groupby('animal').agg({'valor_aluguel':['mean', 'median', 'count']})"
   ]
  },
  {
   "cell_type": "code",
   "execution_count": 24,
   "metadata": {},
   "outputs": [
    {
     "data": {
      "text/plain": [
       "acept        2223\n",
       "not acept     494\n",
       "Name: animal, dtype: int64"
      ]
     },
     "execution_count": 24,
     "metadata": {},
     "output_type": "execute_result"
    }
   ],
   "source": [
    "df_lite[filt]['animal'].value_counts()"
   ]
  },
  {
   "cell_type": "code",
   "execution_count": 25,
   "metadata": {},
   "outputs": [
    {
     "data": {
      "text/html": [
       "<div>\n",
       "<style scoped>\n",
       "    .dataframe tbody tr th:only-of-type {\n",
       "        vertical-align: middle;\n",
       "    }\n",
       "\n",
       "    .dataframe tbody tr th {\n",
       "        vertical-align: top;\n",
       "    }\n",
       "\n",
       "    .dataframe thead tr th {\n",
       "        text-align: left;\n",
       "    }\n",
       "\n",
       "    .dataframe thead tr:last-of-type th {\n",
       "        text-align: right;\n",
       "    }\n",
       "</style>\n",
       "<table border=\"1\" class=\"dataframe\">\n",
       "  <thead>\n",
       "    <tr>\n",
       "      <th></th>\n",
       "      <th colspan=\"3\" halign=\"left\">valor_aluguel</th>\n",
       "    </tr>\n",
       "    <tr>\n",
       "      <th></th>\n",
       "      <th>mean</th>\n",
       "      <th>median</th>\n",
       "      <th>count</th>\n",
       "    </tr>\n",
       "    <tr>\n",
       "      <th>furniture</th>\n",
       "      <th></th>\n",
       "      <th></th>\n",
       "      <th></th>\n",
       "    </tr>\n",
       "  </thead>\n",
       "  <tbody>\n",
       "    <tr>\n",
       "      <th>furnished</th>\n",
       "      <td>4882.28703</td>\n",
       "      <td>3500</td>\n",
       "      <td>2606</td>\n",
       "    </tr>\n",
       "    <tr>\n",
       "      <th>not furnished</th>\n",
       "      <td>3578.46092</td>\n",
       "      <td>2400</td>\n",
       "      <td>8086</td>\n",
       "    </tr>\n",
       "  </tbody>\n",
       "</table>\n",
       "</div>"
      ],
      "text/plain": [
       "              valor_aluguel             \n",
       "                       mean median count\n",
       "furniture                               \n",
       "furnished        4882.28703   3500  2606\n",
       "not furnished    3578.46092   2400  8086"
      ]
     },
     "execution_count": 25,
     "metadata": {},
     "output_type": "execute_result"
    }
   ],
   "source": [
    "#  4\n",
    "df_lite.groupby('furniture').agg({'valor_aluguel': ['mean', 'median', 'count']})"
   ]
  },
  {
   "cell_type": "code",
   "execution_count": 26,
   "metadata": {},
   "outputs": [
    {
     "data": {
      "text/plain": [
       "not furnished    1786\n",
       "furnished         931\n",
       "Name: furniture, dtype: int64"
      ]
     },
     "execution_count": 26,
     "metadata": {},
     "output_type": "execute_result"
    }
   ],
   "source": [
    "df_lite[filt]['furniture'].value_counts()"
   ]
  },
  {
   "cell_type": "markdown",
   "metadata": {},
   "source": [
    "**Coeficiente de Correlação**\n",
    "\n",
    "Acabamos de fazer análises para tentar descobrir quais variáveis influenciam o preço dos alugueis. Mas poderíamos ter feito testes de correlação, coisa que nos tiraria do senso comum também, e de forma estatística."
   ]
  },
  {
   "cell_type": "code",
   "execution_count": 27,
   "metadata": {},
   "outputs": [],
   "source": [
    "filt2 = df_lite.dtypes == 'uint16'"
   ]
  },
  {
   "cell_type": "markdown",
   "metadata": {},
   "source": [
    "**Pearson**"
   ]
  },
  {
   "cell_type": "code",
   "execution_count": 28,
   "metadata": {},
   "outputs": [
    {
     "data": {
      "text/html": [
       "<div>\n",
       "<style scoped>\n",
       "    .dataframe tbody tr th:only-of-type {\n",
       "        vertical-align: middle;\n",
       "    }\n",
       "\n",
       "    .dataframe tbody tr th {\n",
       "        vertical-align: top;\n",
       "    }\n",
       "\n",
       "    .dataframe thead th {\n",
       "        text-align: right;\n",
       "    }\n",
       "</style>\n",
       "<table border=\"1\" class=\"dataframe\">\n",
       "  <thead>\n",
       "    <tr style=\"text-align: right;\">\n",
       "      <th></th>\n",
       "      <th>area</th>\n",
       "      <th>rooms</th>\n",
       "      <th>bathroom</th>\n",
       "      <th>parking spaces</th>\n",
       "      <th>floor</th>\n",
       "      <th>hoa (R$)</th>\n",
       "      <th>valor_aluguel</th>\n",
       "      <th>property tax (R$)</th>\n",
       "      <th>fire insurance (R$)</th>\n",
       "      <th>total (R$)</th>\n",
       "    </tr>\n",
       "  </thead>\n",
       "  <tbody>\n",
       "    <tr>\n",
       "      <th>area</th>\n",
       "      <td>1.000000</td>\n",
       "      <td>0.193796</td>\n",
       "      <td>0.226766</td>\n",
       "      <td>0.193983</td>\n",
       "      <td>-0.012724</td>\n",
       "      <td>0.079709</td>\n",
       "      <td>0.180742</td>\n",
       "      <td>0.148836</td>\n",
       "      <td>0.188078</td>\n",
       "      <td>0.186350</td>\n",
       "    </tr>\n",
       "    <tr>\n",
       "      <th>rooms</th>\n",
       "      <td>0.193796</td>\n",
       "      <td>1.000000</td>\n",
       "      <td>0.733763</td>\n",
       "      <td>0.617510</td>\n",
       "      <td>-0.078687</td>\n",
       "      <td>0.271447</td>\n",
       "      <td>0.541758</td>\n",
       "      <td>0.312799</td>\n",
       "      <td>0.565148</td>\n",
       "      <td>0.542230</td>\n",
       "    </tr>\n",
       "    <tr>\n",
       "      <th>bathroom</th>\n",
       "      <td>0.226766</td>\n",
       "      <td>0.733763</td>\n",
       "      <td>1.000000</td>\n",
       "      <td>0.697379</td>\n",
       "      <td>0.004894</td>\n",
       "      <td>0.392169</td>\n",
       "      <td>0.668504</td>\n",
       "      <td>0.405043</td>\n",
       "      <td>0.676399</td>\n",
       "      <td>0.687504</td>\n",
       "    </tr>\n",
       "    <tr>\n",
       "      <th>parking spaces</th>\n",
       "      <td>0.193983</td>\n",
       "      <td>0.617510</td>\n",
       "      <td>0.697379</td>\n",
       "      <td>1.000000</td>\n",
       "      <td>-0.020767</td>\n",
       "      <td>0.276284</td>\n",
       "      <td>0.578361</td>\n",
       "      <td>0.371419</td>\n",
       "      <td>0.597348</td>\n",
       "      <td>0.582253</td>\n",
       "    </tr>\n",
       "    <tr>\n",
       "      <th>floor</th>\n",
       "      <td>-0.012724</td>\n",
       "      <td>-0.078687</td>\n",
       "      <td>0.004894</td>\n",
       "      <td>-0.020767</td>\n",
       "      <td>1.000000</td>\n",
       "      <td>0.285981</td>\n",
       "      <td>0.073596</td>\n",
       "      <td>0.041808</td>\n",
       "      <td>0.013652</td>\n",
       "      <td>0.138417</td>\n",
       "    </tr>\n",
       "    <tr>\n",
       "      <th>hoa (R$)</th>\n",
       "      <td>0.079709</td>\n",
       "      <td>0.271447</td>\n",
       "      <td>0.392169</td>\n",
       "      <td>0.276284</td>\n",
       "      <td>0.285981</td>\n",
       "      <td>1.000000</td>\n",
       "      <td>0.422263</td>\n",
       "      <td>0.336446</td>\n",
       "      <td>0.343742</td>\n",
       "      <td>0.646425</td>\n",
       "    </tr>\n",
       "    <tr>\n",
       "      <th>valor_aluguel</th>\n",
       "      <td>0.180742</td>\n",
       "      <td>0.541758</td>\n",
       "      <td>0.668504</td>\n",
       "      <td>0.578361</td>\n",
       "      <td>0.073596</td>\n",
       "      <td>0.422263</td>\n",
       "      <td>1.000000</td>\n",
       "      <td>0.407003</td>\n",
       "      <td>0.987343</td>\n",
       "      <td>0.947748</td>\n",
       "    </tr>\n",
       "    <tr>\n",
       "      <th>property tax (R$)</th>\n",
       "      <td>0.148836</td>\n",
       "      <td>0.312799</td>\n",
       "      <td>0.405043</td>\n",
       "      <td>0.371419</td>\n",
       "      <td>0.041808</td>\n",
       "      <td>0.336446</td>\n",
       "      <td>0.407003</td>\n",
       "      <td>1.000000</td>\n",
       "      <td>0.399910</td>\n",
       "      <td>0.584815</td>\n",
       "    </tr>\n",
       "    <tr>\n",
       "      <th>fire insurance (R$)</th>\n",
       "      <td>0.188078</td>\n",
       "      <td>0.565148</td>\n",
       "      <td>0.676399</td>\n",
       "      <td>0.597348</td>\n",
       "      <td>0.013652</td>\n",
       "      <td>0.343742</td>\n",
       "      <td>0.987343</td>\n",
       "      <td>0.399910</td>\n",
       "      <td>1.000000</td>\n",
       "      <td>0.916395</td>\n",
       "    </tr>\n",
       "    <tr>\n",
       "      <th>total (R$)</th>\n",
       "      <td>0.186350</td>\n",
       "      <td>0.542230</td>\n",
       "      <td>0.687504</td>\n",
       "      <td>0.582253</td>\n",
       "      <td>0.138417</td>\n",
       "      <td>0.646425</td>\n",
       "      <td>0.947748</td>\n",
       "      <td>0.584815</td>\n",
       "      <td>0.916395</td>\n",
       "      <td>1.000000</td>\n",
       "    </tr>\n",
       "  </tbody>\n",
       "</table>\n",
       "</div>"
      ],
      "text/plain": [
       "                         area     rooms  bathroom  parking spaces     floor  \\\n",
       "area                 1.000000  0.193796  0.226766        0.193983 -0.012724   \n",
       "rooms                0.193796  1.000000  0.733763        0.617510 -0.078687   \n",
       "bathroom             0.226766  0.733763  1.000000        0.697379  0.004894   \n",
       "parking spaces       0.193983  0.617510  0.697379        1.000000 -0.020767   \n",
       "floor               -0.012724 -0.078687  0.004894       -0.020767  1.000000   \n",
       "hoa (R$)             0.079709  0.271447  0.392169        0.276284  0.285981   \n",
       "valor_aluguel        0.180742  0.541758  0.668504        0.578361  0.073596   \n",
       "property tax (R$)    0.148836  0.312799  0.405043        0.371419  0.041808   \n",
       "fire insurance (R$)  0.188078  0.565148  0.676399        0.597348  0.013652   \n",
       "total (R$)           0.186350  0.542230  0.687504        0.582253  0.138417   \n",
       "\n",
       "                     hoa (R$)  valor_aluguel  property tax (R$)  \\\n",
       "area                 0.079709       0.180742           0.148836   \n",
       "rooms                0.271447       0.541758           0.312799   \n",
       "bathroom             0.392169       0.668504           0.405043   \n",
       "parking spaces       0.276284       0.578361           0.371419   \n",
       "floor                0.285981       0.073596           0.041808   \n",
       "hoa (R$)             1.000000       0.422263           0.336446   \n",
       "valor_aluguel        0.422263       1.000000           0.407003   \n",
       "property tax (R$)    0.336446       0.407003           1.000000   \n",
       "fire insurance (R$)  0.343742       0.987343           0.399910   \n",
       "total (R$)           0.646425       0.947748           0.584815   \n",
       "\n",
       "                     fire insurance (R$)  total (R$)  \n",
       "area                            0.188078    0.186350  \n",
       "rooms                           0.565148    0.542230  \n",
       "bathroom                        0.676399    0.687504  \n",
       "parking spaces                  0.597348    0.582253  \n",
       "floor                           0.013652    0.138417  \n",
       "hoa (R$)                        0.343742    0.646425  \n",
       "valor_aluguel                   0.987343    0.947748  \n",
       "property tax (R$)               0.399910    0.584815  \n",
       "fire insurance (R$)             1.000000    0.916395  \n",
       "total (R$)                      0.916395    1.000000  "
      ]
     },
     "execution_count": 28,
     "metadata": {},
     "output_type": "execute_result"
    }
   ],
   "source": [
    "pearson = df_lite.loc[:, filt2].corr('pearson')\n",
    "pearson"
   ]
  },
  {
   "cell_type": "markdown",
   "metadata": {},
   "source": [
    "**Spearman**"
   ]
  },
  {
   "cell_type": "code",
   "execution_count": 29,
   "metadata": {},
   "outputs": [
    {
     "data": {
      "text/html": [
       "<div>\n",
       "<style scoped>\n",
       "    .dataframe tbody tr th:only-of-type {\n",
       "        vertical-align: middle;\n",
       "    }\n",
       "\n",
       "    .dataframe tbody tr th {\n",
       "        vertical-align: top;\n",
       "    }\n",
       "\n",
       "    .dataframe thead th {\n",
       "        text-align: right;\n",
       "    }\n",
       "</style>\n",
       "<table border=\"1\" class=\"dataframe\">\n",
       "  <thead>\n",
       "    <tr style=\"text-align: right;\">\n",
       "      <th></th>\n",
       "      <th>area</th>\n",
       "      <th>rooms</th>\n",
       "      <th>bathroom</th>\n",
       "      <th>parking spaces</th>\n",
       "      <th>floor</th>\n",
       "      <th>hoa (R$)</th>\n",
       "      <th>valor_aluguel</th>\n",
       "      <th>property tax (R$)</th>\n",
       "      <th>fire insurance (R$)</th>\n",
       "      <th>total (R$)</th>\n",
       "    </tr>\n",
       "  </thead>\n",
       "  <tbody>\n",
       "    <tr>\n",
       "      <th>area</th>\n",
       "      <td>1.000000</td>\n",
       "      <td>0.848880</td>\n",
       "      <td>0.827743</td>\n",
       "      <td>0.701161</td>\n",
       "      <td>-0.146754</td>\n",
       "      <td>0.226005</td>\n",
       "      <td>0.728095</td>\n",
       "      <td>0.682270</td>\n",
       "      <td>0.745816</td>\n",
       "      <td>0.742698</td>\n",
       "    </tr>\n",
       "    <tr>\n",
       "      <th>rooms</th>\n",
       "      <td>0.848880</td>\n",
       "      <td>1.000000</td>\n",
       "      <td>0.769822</td>\n",
       "      <td>0.646679</td>\n",
       "      <td>-0.117345</td>\n",
       "      <td>0.206277</td>\n",
       "      <td>0.600969</td>\n",
       "      <td>0.595516</td>\n",
       "      <td>0.613788</td>\n",
       "      <td>0.622258</td>\n",
       "    </tr>\n",
       "    <tr>\n",
       "      <th>bathroom</th>\n",
       "      <td>0.827743</td>\n",
       "      <td>0.769822</td>\n",
       "      <td>1.000000</td>\n",
       "      <td>0.702826</td>\n",
       "      <td>-0.037922</td>\n",
       "      <td>0.293814</td>\n",
       "      <td>0.715890</td>\n",
       "      <td>0.654556</td>\n",
       "      <td>0.721150</td>\n",
       "      <td>0.740213</td>\n",
       "    </tr>\n",
       "    <tr>\n",
       "      <th>parking spaces</th>\n",
       "      <td>0.701161</td>\n",
       "      <td>0.646679</td>\n",
       "      <td>0.702826</td>\n",
       "      <td>1.000000</td>\n",
       "      <td>-0.030652</td>\n",
       "      <td>0.229236</td>\n",
       "      <td>0.620175</td>\n",
       "      <td>0.582921</td>\n",
       "      <td>0.625150</td>\n",
       "      <td>0.641492</td>\n",
       "    </tr>\n",
       "    <tr>\n",
       "      <th>floor</th>\n",
       "      <td>-0.146754</td>\n",
       "      <td>-0.117345</td>\n",
       "      <td>-0.037922</td>\n",
       "      <td>-0.030652</td>\n",
       "      <td>1.000000</td>\n",
       "      <td>0.618267</td>\n",
       "      <td>0.056828</td>\n",
       "      <td>0.048770</td>\n",
       "      <td>-0.004572</td>\n",
       "      <td>0.154157</td>\n",
       "    </tr>\n",
       "    <tr>\n",
       "      <th>hoa (R$)</th>\n",
       "      <td>0.226005</td>\n",
       "      <td>0.206277</td>\n",
       "      <td>0.293814</td>\n",
       "      <td>0.229236</td>\n",
       "      <td>0.618267</td>\n",
       "      <td>1.000000</td>\n",
       "      <td>0.355827</td>\n",
       "      <td>0.392607</td>\n",
       "      <td>0.293266</td>\n",
       "      <td>0.519565</td>\n",
       "    </tr>\n",
       "    <tr>\n",
       "      <th>valor_aluguel</th>\n",
       "      <td>0.728095</td>\n",
       "      <td>0.600969</td>\n",
       "      <td>0.715890</td>\n",
       "      <td>0.620175</td>\n",
       "      <td>0.056828</td>\n",
       "      <td>0.355827</td>\n",
       "      <td>1.000000</td>\n",
       "      <td>0.659230</td>\n",
       "      <td>0.988045</td>\n",
       "      <td>0.968393</td>\n",
       "    </tr>\n",
       "    <tr>\n",
       "      <th>property tax (R$)</th>\n",
       "      <td>0.682270</td>\n",
       "      <td>0.595516</td>\n",
       "      <td>0.654556</td>\n",
       "      <td>0.582921</td>\n",
       "      <td>0.048770</td>\n",
       "      <td>0.392607</td>\n",
       "      <td>0.659230</td>\n",
       "      <td>1.000000</td>\n",
       "      <td>0.656049</td>\n",
       "      <td>0.731728</td>\n",
       "    </tr>\n",
       "    <tr>\n",
       "      <th>fire insurance (R$)</th>\n",
       "      <td>0.745816</td>\n",
       "      <td>0.613788</td>\n",
       "      <td>0.721150</td>\n",
       "      <td>0.625150</td>\n",
       "      <td>-0.004572</td>\n",
       "      <td>0.293266</td>\n",
       "      <td>0.988045</td>\n",
       "      <td>0.656049</td>\n",
       "      <td>1.000000</td>\n",
       "      <td>0.945977</td>\n",
       "    </tr>\n",
       "    <tr>\n",
       "      <th>total (R$)</th>\n",
       "      <td>0.742698</td>\n",
       "      <td>0.622258</td>\n",
       "      <td>0.740213</td>\n",
       "      <td>0.641492</td>\n",
       "      <td>0.154157</td>\n",
       "      <td>0.519565</td>\n",
       "      <td>0.968393</td>\n",
       "      <td>0.731728</td>\n",
       "      <td>0.945977</td>\n",
       "      <td>1.000000</td>\n",
       "    </tr>\n",
       "  </tbody>\n",
       "</table>\n",
       "</div>"
      ],
      "text/plain": [
       "                         area     rooms  bathroom  parking spaces     floor  \\\n",
       "area                 1.000000  0.848880  0.827743        0.701161 -0.146754   \n",
       "rooms                0.848880  1.000000  0.769822        0.646679 -0.117345   \n",
       "bathroom             0.827743  0.769822  1.000000        0.702826 -0.037922   \n",
       "parking spaces       0.701161  0.646679  0.702826        1.000000 -0.030652   \n",
       "floor               -0.146754 -0.117345 -0.037922       -0.030652  1.000000   \n",
       "hoa (R$)             0.226005  0.206277  0.293814        0.229236  0.618267   \n",
       "valor_aluguel        0.728095  0.600969  0.715890        0.620175  0.056828   \n",
       "property tax (R$)    0.682270  0.595516  0.654556        0.582921  0.048770   \n",
       "fire insurance (R$)  0.745816  0.613788  0.721150        0.625150 -0.004572   \n",
       "total (R$)           0.742698  0.622258  0.740213        0.641492  0.154157   \n",
       "\n",
       "                     hoa (R$)  valor_aluguel  property tax (R$)  \\\n",
       "area                 0.226005       0.728095           0.682270   \n",
       "rooms                0.206277       0.600969           0.595516   \n",
       "bathroom             0.293814       0.715890           0.654556   \n",
       "parking spaces       0.229236       0.620175           0.582921   \n",
       "floor                0.618267       0.056828           0.048770   \n",
       "hoa (R$)             1.000000       0.355827           0.392607   \n",
       "valor_aluguel        0.355827       1.000000           0.659230   \n",
       "property tax (R$)    0.392607       0.659230           1.000000   \n",
       "fire insurance (R$)  0.293266       0.988045           0.656049   \n",
       "total (R$)           0.519565       0.968393           0.731728   \n",
       "\n",
       "                     fire insurance (R$)  total (R$)  \n",
       "area                            0.745816    0.742698  \n",
       "rooms                           0.613788    0.622258  \n",
       "bathroom                        0.721150    0.740213  \n",
       "parking spaces                  0.625150    0.641492  \n",
       "floor                          -0.004572    0.154157  \n",
       "hoa (R$)                        0.293266    0.519565  \n",
       "valor_aluguel                   0.988045    0.968393  \n",
       "property tax (R$)               0.656049    0.731728  \n",
       "fire insurance (R$)             1.000000    0.945977  \n",
       "total (R$)                      0.945977    1.000000  "
      ]
     },
     "execution_count": 29,
     "metadata": {},
     "output_type": "execute_result"
    }
   ],
   "source": [
    "spearman = df_lite.loc[:, filt2].corr('spearman')\n",
    "spearman"
   ]
  },
  {
   "cell_type": "code",
   "execution_count": 30,
   "metadata": {},
   "outputs": [
    {
     "data": {
      "image/png": "[encoded data removed]",
      "text/plain": [
       "<Figure size 1080x432 with 4 Axes>"
      ]
     },
     "metadata": {
      "needs_background": "light"
     },
     "output_type": "display_data"
    }
   ],
   "source": [
    "figure, (g1, g2) = plt.subplots(1, 2, figsize=(15, 6))\n",
    "sns.heatmap(pearson, annot=True, ax=g1);\n",
    "sns.heatmap(spearman, annot=True, ax=g2);"
   ]
  },
  {
   "cell_type": "markdown",
   "metadata": {},
   "source": [
    "**Visualização dos Dados**\n",
    "\n",
    "O sentido aqui é: transcrever o que o pessoal de negócio está pensando sobre o problema para visualizações que façam sentido, que senja **ENTENDíVEL**\n",
    "\n",
    "**Contagem de valores**\n",
    "```python\n",
    "sns.countplot(x='Título', y='Título', data=variavel, orient='v'ou'h', hue='Título', ax=variavel)\n",
    "```\n",
    "- x ou y = colunas do *data* que quremos que sejam as variáveis no eixo *x* ou *y*. **MAS SÓ PODE PASSAR UMA!!**\n",
    "\n",
    "**Gráfico de barras**\n",
    "```python\n",
    "sns.baplot(data=variavel, x='Título', y='Título', orient='v'ou'h', ax=variavel)\n",
    "```\n",
    "**Gráfico de disperção**\n",
    "```python\n",
    "sns.scatterplot(data=variavel, x='Título', y='Título', hue='Título', ax=variavel)\n",
    "```\n",
    "- data = dict ou dataframe\n",
    "- x ou y = colunas do *data* que quremos que sejam as variáveis no eixo *x* ou *y*.\n",
    "- orient = 'v' de *vertical* e 'h' de *horizontal*\n",
    "- ax = pra fazer subplots\n",
    "- hue = cria legendas\n",
    "\n",
    "**Histograma**\n",
    "```python\n",
    "sns.distplot(a=variável, bins=int ou não preenche, hist=bool, kde=bool, norm_hist=bool, ax=variavel)\n",
    "```\n",
    "- a = lista ou Series\n",
    "- bins = quantidade de intervalo de classes. Se não preencher, a própria função reconhece a melhor quantidade\n",
    "- hist = mostra o histograma\n",
    "- kde = mostra a curva gaussiana\n",
    "- norm_hist = mostra densidade no eixo y ou contagem. **Só funciona se o kde=False**\n",
    "- ax = para fazer subplots\n"
   ]
  },
  {
   "cell_type": "code",
   "execution_count": 77,
   "metadata": {},
   "outputs": [
    {
     "data": {
      "image/png": "[encoded data removed]",
      "text/plain": [
       "<Figure size 432x288 with 1 Axes>"
      ]
     },
     "metadata": {
      "needs_background": "light"
     },
     "output_type": "display_data"
    }
   ],
   "source": [
    "sns.countplot(data=df_lite, x='city', hue='furniture');"
   ]
  },
  {
   "cell_type": "code",
   "execution_count": 42,
   "metadata": {},
   "outputs": [
    {
     "data": {
      "text/plain": [
       "São Paulo         5887\n",
       "Rio de Janeiro    1501\n",
       "Belo Horizonte    1258\n",
       "Porto Alegre      1193\n",
       "Campinas           853\n",
       "Name: city, dtype: int64"
      ]
     },
     "execution_count": 42,
     "metadata": {},
     "output_type": "execute_result"
    }
   ],
   "source": [
    "df_lite['city'].value_counts()"
   ]
  },
  {
   "cell_type": "code",
   "execution_count": 81,
   "metadata": {},
   "outputs": [
    {
     "data": {
      "image/png": "[encoded data removed]",
      "text/plain": [
       "<Figure size 432x288 with 1 Axes>"
      ]
     },
     "metadata": {
      "needs_background": "light"
     },
     "output_type": "display_data"
    }
   ],
   "source": [
    "sns.barplot(data=df_lite.groupby('city')['floor'].mean().reset_index(), x='city', y='floor');\n",
    "plt.title('Média de andares por cidade');"
   ]
  },
  {
   "cell_type": "code",
   "execution_count": 45,
   "metadata": {},
   "outputs": [
    {
     "data": {
      "text/html": [
       "<div>\n",
       "<style scoped>\n",
       "    .dataframe tbody tr th:only-of-type {\n",
       "        vertical-align: middle;\n",
       "    }\n",
       "\n",
       "    .dataframe tbody tr th {\n",
       "        vertical-align: top;\n",
       "    }\n",
       "\n",
       "    .dataframe thead th {\n",
       "        text-align: right;\n",
       "    }\n",
       "</style>\n",
       "<table border=\"1\" class=\"dataframe\">\n",
       "  <thead>\n",
       "    <tr style=\"text-align: right;\">\n",
       "      <th></th>\n",
       "      <th>city</th>\n",
       "      <th>floor</th>\n",
       "    </tr>\n",
       "  </thead>\n",
       "  <tbody>\n",
       "    <tr>\n",
       "      <th>0</th>\n",
       "      <td>Belo Horizonte</td>\n",
       "      <td>3.860890</td>\n",
       "    </tr>\n",
       "    <tr>\n",
       "      <th>1</th>\n",
       "      <td>Campinas</td>\n",
       "      <td>4.280188</td>\n",
       "    </tr>\n",
       "    <tr>\n",
       "      <th>2</th>\n",
       "      <td>Porto Alegre</td>\n",
       "      <td>3.918692</td>\n",
       "    </tr>\n",
       "    <tr>\n",
       "      <th>3</th>\n",
       "      <td>Rio de Janeiro</td>\n",
       "      <td>5.250500</td>\n",
       "    </tr>\n",
       "    <tr>\n",
       "      <th>4</th>\n",
       "      <td>São Paulo</td>\n",
       "      <td>5.626465</td>\n",
       "    </tr>\n",
       "  </tbody>\n",
       "</table>\n",
       "</div>"
      ],
      "text/plain": [
       "             city     floor\n",
       "0  Belo Horizonte  3.860890\n",
       "1        Campinas  4.280188\n",
       "2    Porto Alegre  3.918692\n",
       "3  Rio de Janeiro  5.250500\n",
       "4       São Paulo  5.626465"
      ]
     },
     "execution_count": 45,
     "metadata": {},
     "output_type": "execute_result"
    }
   ],
   "source": [
    "df_lite.groupby('city')['floor'].mean().reset_index()"
   ]
  },
  {
   "cell_type": "code",
   "execution_count": 75,
   "metadata": {},
   "outputs": [
    {
     "data": {
      "image/png": "[encoded data removed]",
      "text/plain": [
       "<Figure size 1152x576 with 1 Axes>"
      ]
     },
     "metadata": {
      "needs_background": "light"
     },
     "output_type": "display_data"
    }
   ],
   "source": [
    "plt.figure(figsize=(16, 8))\n",
    "sns.distplot(a=df_lite['valor_aluguel'], bins=30, hist=True, kde=True, norm_hist=True);"
   ]
  },
  {
   "cell_type": "code",
   "execution_count": 87,
   "metadata": {},
   "outputs": [
    {
     "data": {
      "image/png": "[encoded data removed]",
      "text/plain": [
       "<Figure size 432x288 with 1 Axes>"
      ]
     },
     "metadata": {
      "needs_background": "light"
     },
     "output_type": "display_data"
    }
   ],
   "source": [
    "sns.scatterplot(data=df_lite, x='valor_aluguel', y='bathroom', hue='animal');"
   ]
  },
  {
   "cell_type": "code",
   "execution_count": 90,
   "metadata": {},
   "outputs": [
    {
     "ename": "SyntaxError",
     "evalue": "invalid syntax (<ipython-input-90-1a78eed69df0>, line 1)",
     "output_type": "error",
     "traceback": [
      "\u001b[0;36m  File \u001b[0;32m\"<ipython-input-90-1a78eed69df0>\"\u001b[0;36m, line \u001b[0;32m1\u001b[0m\n\u001b[0;31m    sns.pairplot(df_lite[['city':'floor']])\u001b[0m\n\u001b[0m                                ^\u001b[0m\n\u001b[0;31mSyntaxError\u001b[0m\u001b[0;31m:\u001b[0m invalid syntax\n"
     ]
    }
   ],
   "source": [
    "sns.pairplot(df_lite[['city':'floor'])"
   ]
  }
 ],
 "metadata": {
  "kernelspec": {
   "display_name": "Python 3",
   "language": "python",
   "name": "python3"
  },
  "language_info": {
   "codemirror_mode": {
    "name": "ipython",
    "version": 3
   },
   "file_extension": ".py",
   "mimetype": "text/x-python",
   "name": "python",
   "nbconvert_exporter": "python",
   "pygments_lexer": "ipython3",
   "version": "3.8.2"
  }
 },
 "nbformat": 4,
 "nbformat_minor": 4
}
