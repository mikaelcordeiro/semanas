{
 "cells": [
  {
   "cell_type": "markdown",
   "metadata": {},
   "source": [
    "# Semana 9 do Aceleradev DS Codenation\n",
    "\n",
    "### Professor: Kazuki Yokoyama | Tema: Classificação"
   ]
  },
  {
   "cell_type": "markdown",
   "metadata": {},
   "source": [
    "**[Data Catalog](https://cloud.google.com/data-catalog?hl=pt-br)** serve como um repositório de conhecimento unificado"
   ]
  },
  {
   "cell_type": "markdown",
   "metadata": {},
   "source": [
    "## O que é Classificar?"
   ]
  },
  {
   "cell_type": "markdown",
   "metadata": {},
   "source": [
    "**Classificar** é **ROTULAR**. Quando temos uma variável que possui cores como valores, ou números (sejam eles com grau intervalar ou não) por exemplo, temos classificacões que tal variável categórica pode assumir. E a idéia de um modelo preditivo de classificação é justamente **aprender como rotular** de acordo com outras variáveis categóricas."
   ]
  },
  {
   "cell_type": "markdown",
   "metadata": {},
   "source": [
    "## Tipos de Classificação"
   ]
  },
  {
   "cell_type": "markdown",
   "metadata": {},
   "source": [
    "A mais simples de todas é a **Classificação Binária**. Nela, temos apenas **duas classes**, sendo chamadas de **classe POSITIVA** e **classe NEGATIVA**. Basicamente, podemos perceber essa classificação como é ou não é.\n",
    "\n",
    "Agora, quando aumentamos o número de classes para $k$ classes, passamos para um tipo **multiclasses**"
   ]
  },
  {
   "cell_type": "markdown",
   "metadata": {},
   "source": [
    "## Geometricamente falando..."
   ]
  },
  {
   "cell_type": "markdown",
   "metadata": {},
   "source": [
    "![decision-boundary](https://miro.medium.com/max/1012/1*i_oYgWjPbXbg3Z2uQLAmtw.png)"
   ]
  },
  {
   "cell_type": "markdown",
   "metadata": {},
   "source": [
    "Podemos falar de classificação como a arte de gerar uma linha que separa as classes. Essa linha é chamada **fronteira de decisão**. Olhando para a figura, percebemos que a fronteira separa muito bem as duas classes, mas erra em alguns pontos. Porém, esses pontos nos ajudam a criar algumas métricas de avaliação desse modelo de classificação"
   ]
  },
  {
   "cell_type": "markdown",
   "metadata": {},
   "source": [
    "## Matriz de Confusão"
   ]
  },
  {
   "cell_type": "markdown",
   "metadata": {},
   "source": [
    "É uma representação tabular dos erros e acertos de um classificador, sumarizando as quantidade dos pontos classificados de maneira errada e correta."
   ]
  },
  {
   "cell_type": "markdown",
   "metadata": {},
   "source": [
    "![confusion-matrix](https://drive.google.com/uc?export=download&id=1Li5Ep-5PRpua2vtQLXHvltaeGsr-lftZ)"
   ]
  },
  {
   "cell_type": "markdown",
   "metadata": {},
   "source": [
    "Similar ao **Teste de Hipóteses** temos os mesmos dois tipos de erros na matriz de confusão:\n",
    "\n",
    "- Falso Positivo (FP): representa o **Erro Tipo I**. Nele, classificamos um valor **verdadeiramente negativo** como **positivo**\n",
    "\n",
    "- Falso Negativo (FN): representa o **Erro Tipo II**. Nesse, classificamos um valor **verdadeiramente positivo** como **negativo**"
   ]
  },
  {
   "cell_type": "markdown",
   "metadata": {},
   "source": [
    "Olhando a matriz, fica claro o objetivo em **maximizar** (TP) e (TN) e **minimizar** (FN) e (FP). Entretanto, em determinador momentos, será possível minimizar apenas (FP) ou (FN). Nesse momento, deve-se priorizar qual é menos custoso."
   ]
  },
  {
   "cell_type": "markdown",
   "metadata": {},
   "source": [
    "Como dito, os pontos errados ajudam a gerar algumas métricas importantes de avaliação do modelo classificatório, mas os (TP) e (TN) também ajudam, como podemos ver na imagem abaixo:"
   ]
  },
  {
   "cell_type": "markdown",
   "metadata": {},
   "source": [
    "![confusion-matrix-metrics](https://drive.google.com/uc?export=download&id=1GUQs3pT07UJVGTINPNEHE0ACrr1_FYOk)"
   ]
  }
 ],
 "metadata": {
  "kernelspec": {
   "display_name": "Python 3",
   "language": "python",
   "name": "python3"
  },
  "language_info": {
   "codemirror_mode": {
    "name": "ipython",
    "version": 3
   },
   "file_extension": ".py",
   "mimetype": "text/x-python",
   "name": "python",
   "nbconvert_exporter": "python",
   "pygments_lexer": "ipython3",
   "version": "3.8.2"
  }
 },
 "nbformat": 4,
 "nbformat_minor": 4
}
