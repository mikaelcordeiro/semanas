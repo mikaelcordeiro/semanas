{
 "cells": [
  {
   "cell_type": "markdown",
   "metadata": {},
   "source": [
    "# Semana 9 do Aceleradev DS Codenation\n",
    "\n",
    "### Professor: Kazuki Yokoyama | Tema: Classificação"
   ]
  },
  {
   "cell_type": "code",
   "execution_count": 1,
   "metadata": {},
   "outputs": [],
   "source": [
    "import numpy as np\n",
    "import matplotlib.pyplot as plt\n",
    "import pandas as pd\n",
    "import seaborn as sns"
   ]
  },
  {
   "cell_type": "code",
   "execution_count": 35,
   "metadata": {},
   "outputs": [],
   "source": [
    "np.random.seed(300)"
   ]
  },
  {
   "cell_type": "code",
   "execution_count": 36,
   "metadata": {},
   "outputs": [],
   "source": [
    "def visualize_classifier(model, X, y, ax=None, cmap='rainbow'):\n",
    "    ax = ax or plt.gca()\n",
    "    \n",
    "    # Plot the training points\n",
    "    ax.scatter(X[:, 0], X[:, 1], c=y, s=30, cmap=cmap,\n",
    "               clim=(y.min(), y.max()), zorder=3)\n",
    "    ax.axis('tight')\n",
    "    ax.axis('off')\n",
    "    xlim = ax.get_xlim()\n",
    "    ylim = ax.get_ylim()\n",
    "    \n",
    "    # Predict\n",
    "    xx, yy = np.meshgrid(np.linspace(*xlim, num=200),\n",
    "                         np.linspace(*ylim, num=200))\n",
    "    Z = model.predict(np.c_[xx.ravel(), yy.ravel()]).reshape(xx.shape)\n",
    "\n",
    "    # Create a color plot with the results\n",
    "    n_classes = len(np.unique(y))\n",
    "    contours = ax.contourf(xx, yy, Z, alpha=0.3,\n",
    "                           levels=np.arange(n_classes + 1) - 0.5,\n",
    "                           cmap=cmap, #clim=(y.min(), y.max()),\n",
    "                           zorder=1)\n",
    "\n",
    "    ax.set(xlim=xlim, ylim=ylim)"
   ]
  },
  {
   "cell_type": "markdown",
   "metadata": {},
   "source": [
    "**[Data Catalog](https://cloud.google.com/data-catalog?hl=pt-br)** serve como um repositório de conhecimento unificado"
   ]
  },
  {
   "cell_type": "markdown",
   "metadata": {},
   "source": [
    "## O que é Classificar?"
   ]
  },
  {
   "cell_type": "markdown",
   "metadata": {},
   "source": [
    "**Classificar** é **ROTULAR**. Quando temos uma variável que possui cores como valores, ou números (sejam eles com grau intervalar ou não) por exemplo, temos classificacões que tal variável categórica pode assumir. E a idéia de um modelo preditivo de classificação é justamente **aprender como rotular** de acordo com outras variáveis categóricas."
   ]
  },
  {
   "cell_type": "markdown",
   "metadata": {},
   "source": [
    "## Tipos de Classificação"
   ]
  },
  {
   "cell_type": "markdown",
   "metadata": {},
   "source": [
    "A mais simples de todas é a **Classificação Binária**. Nela, temos apenas **duas classes**, sendo chamadas de **classe POSITIVA** e **classe NEGATIVA**. Basicamente, podemos perceber essa classificação como é ou não é.\n",
    "\n",
    "Agora, quando aumentamos o número de classes para $k$ classes, passamos para um tipo **multiclasses**"
   ]
  },
  {
   "cell_type": "markdown",
   "metadata": {},
   "source": [
    "## Geometricamente falando..."
   ]
  },
  {
   "cell_type": "markdown",
   "metadata": {},
   "source": [
    "![decision-boundary](https://miro.medium.com/max/1012/1*i_oYgWjPbXbg3Z2uQLAmtw.png)"
   ]
  },
  {
   "cell_type": "markdown",
   "metadata": {},
   "source": [
    "Podemos falar de classificação como a arte de gerar uma linha que separa as classes. Essa linha é chamada **fronteira de decisão**. Olhando para a figura, percebemos que a fronteira separa muito bem as duas classes, mas erra em alguns pontos. Porém, esses pontos nos ajudam a criar algumas métricas de avaliação desse modelo de classificação"
   ]
  },
  {
   "cell_type": "markdown",
   "metadata": {},
   "source": [
    "## Matriz de Confusão"
   ]
  },
  {
   "cell_type": "markdown",
   "metadata": {},
   "source": [
    "É uma representação tabular dos erros e acertos de um classificador, sumarizando as quantidade dos pontos classificados de maneira errada e correta."
   ]
  },
  {
   "cell_type": "markdown",
   "metadata": {},
   "source": [
    "![confusion-matrix](https://drive.google.com/uc?export=download&id=1Li5Ep-5PRpua2vtQLXHvltaeGsr-lftZ)"
   ]
  },
  {
   "cell_type": "markdown",
   "metadata": {},
   "source": [
    "Similar ao **Teste de Hipóteses** temos os mesmos dois tipos de erros na matriz de confusão:\n",
    "\n",
    "- Falso Positivo (FP): representa o **Erro Tipo I**. Nele, classificamos um valor **verdadeiramente negativo** como **positivo**\n",
    "\n",
    "- Falso Negativo (FN): representa o **Erro Tipo II**. Nesse, classificamos um valor **verdadeiramente positivo** como **negativo**"
   ]
  },
  {
   "cell_type": "markdown",
   "metadata": {},
   "source": [
    "Olhando a matriz, fica claro o objetivo em **maximizar** (TP) e (TN) e **minimizar** (FN) e (FP). Entretanto, em determinador momentos, será possível minimizar apenas (FP) ou (FN). Nesse momento, deve-se priorizar qual é menos custoso."
   ]
  },
  {
   "cell_type": "markdown",
   "metadata": {},
   "source": [
    "Como dito, os pontos errados ajudam a gerar algumas métricas importantes de avaliação do modelo classificatório, mas os (TP) e (TN) também ajudam, como podemos ver na imagem abaixo:"
   ]
  },
  {
   "cell_type": "markdown",
   "metadata": {},
   "source": [
    "![confusion-matrix-metrics](https://drive.google.com/uc?export=download&id=1GUQs3pT07UJVGTINPNEHE0ACrr1_FYOk)"
   ]
  },
  {
   "cell_type": "markdown",
   "metadata": {},
   "source": [
    "Com o auxílio da imagem, podemos entender essas métricas:\n",
    "\n",
    "- precision\n",
    "\n",
    "$$\\frac{TP}{TP+FP}=1-FDR$$\n",
    "\n",
    "- false discovery rate (FDR)\n",
    "\n",
    "$$\\frac{FP}{TP+FP}=1-precision$$\n",
    "\n",
    "- miss rate\n",
    "\n",
    "$$\\frac{FN}{FN+TP}=1-recall$$\n",
    "\n",
    "- recall (sensitivity), ou True Positive Ratio - TPR\n",
    "\n",
    "$$\\frac{TP}{FN+TP}=1-\\text{miss rate}$$\n",
    "\n",
    "- negative predictive value (NPV)\n",
    "\n",
    "$$\\frac{TN}{TN+FN}=1-\\text{false omission rate}$$\n",
    "\n",
    "- false omission rate\n",
    "\n",
    "$$\\frac{FN}{TN+FN}=1-NPV$$\n",
    "\n",
    "- fall out, ou False Positive Ratio - FPR\n",
    "\n",
    "$$\\frac{FP}{FP+TN}=1-specificity$$\n",
    "\n",
    "- specificity\n",
    "\n",
    "$$\\frac{TN}{FP+TN}=1-\\text{fall out}$$"
   ]
  },
  {
   "cell_type": "markdown",
   "metadata": {},
   "source": [
    "Temos outras duas métricas importantes:"
   ]
  },
  {
   "cell_type": "markdown",
   "metadata": {},
   "source": [
    "- accuracy\n",
    "\n",
    "$$\\frac{TP+TN}{P+N}\\text{, sendo P os POSITIVOS e N os NEGATIVOS}$$\n",
    "\n",
    "- $F_1-score$\n",
    "\n",
    "$$\\frac{2\\times precision \\times recall}{precision+recall}$$"
   ]
  },
  {
   "cell_type": "markdown",
   "metadata": {},
   "source": [
    "## Curva ROC"
   ]
  },
  {
   "cell_type": "markdown",
   "metadata": {},
   "source": [
    "![auc](https://miro.medium.com/max/722/1*pk05QGzoWhCgRiiFbz-oKQ.png)"
   ]
  },
  {
   "cell_type": "markdown",
   "metadata": {},
   "source": [
    "![roc](https://upload.wikimedia.org/wikipedia/commons/thumb/3/36/ROC_space-2.png/1024px-ROC_space-2.png)"
   ]
  },
  {
   "cell_type": "markdown",
   "metadata": {},
   "source": [
    "A curva **ROC** é feita num gráfico cartesiano onde o x representa o **fall out $\\frac{FP}{FP+TN}$**, e o y representa **recall $\\frac{TP}{TP+FN}$**. Essa curva pode ser vista como uma fronteira de decisão, sendo que cada problema **tem uma curva ROC diferente**. Ou seja, estamos falando de uma curva que abaixo dela temos uma probabilidade. Por exemplo, para um problema que existe .6 de chance de ser classificado como uma classe **POSITIVA**, qualquer ponto acima dessa curva de área .6 será classificado como **POSITIVO**. Já os pontos que caem abaixo da curva, justamente a região **NEGATIVA** da curva ROC.\n",
    "\n",
    "Idealmente, um classificador deveria ser um ponto apenas: o ponto (0, 1). Esse representa um **recall=1**. No entando, observamos uma curva que vai de (0, 0) até (1, 1):"
   ]
  },
  {
   "cell_type": "markdown",
   "metadata": {},
   "source": [
    "***threshold = 0***\n",
    "\n",
    "Para essa condição, todos os pontos serão classificados como 1, pois as probabilidades dos pontos serem de *classe 1* serão **SEMPRE MAIORES que o limite igual a 0**. E o que isso implica?\n",
    "\n",
    "- (FN) = 0\n",
    "    \n",
    "    Como **TODOS** serao classificados como 1, não teremos valores *classe 1* sendo classificadas como *classe 0*\n",
    "\n",
    "\n",
    "- (TN) = 0\n",
    "    \n",
    "    Como **TODOS** serao classificados como 1, não teremos valores *classe 0* sendo classificados como *classe 0*\n",
    "\n",
    "\n",
    "- TPR = 1\n",
    "    \n",
    "$$TPR=\\frac{TP}{TP+FN}=1\\text{, pois FN=0}$$\n",
    "\n",
    "- FPR = 1\n",
    "    \n",
    "$$FPR=\\frac{FP}{FP+TN}=1\\text{, pois TN=0}$$\n",
    "\n",
    "***threshold = 1***\n",
    "\n",
    "Para essa condição, todos os pontos serão classificados como 0, pois as probabilidades dos pontos serem de *classe 1* serão **SEMPRE MENORES que o limite igual a 1**. E o que isso implica?\n",
    "\n",
    "- (FP) = 0\n",
    "    \n",
    "    Como **TODOS** serão classificados como 0, não teremos valores *classe 0* sendo classificados como *classe 1*\n",
    "\n",
    "\n",
    "- (TP) = 0\n",
    "    \n",
    "    Como **TODOS** serao classificados como 0, não teremos valores *classe 1* sendo classificados como *classe 1*\n",
    "\n",
    "\n",
    "- TPR = 0\n",
    "    \n",
    "    \n",
    "$$TPR=\\frac{TP}{TP+FN}=0\\text{, pois TP=0}$$\n",
    "\n",
    "- FPR = 0\n",
    "    \n",
    "$$FPR=\\frac{FP}{FP+TN}=0\\text{, pois FP=0}$$\n",
    "    \n",
    "***0 < threshold < 1***\n",
    "\n",
    "Nessa condição, temos o que vemos na curva **ROC**, um *balanço* entre **TPR** e **FPR**\n",
    "\n",
    "**Reta *Random Guess***\n",
    "\n",
    "Nessa reta, temos o seguinte cenário: a proporção de valores *classe 1* que foram classificados como *classe 1* é **IGUAL** a de *classes 0* que foram classificados como *classe 1*. Ou seja, temos a mesma proporção entre (TP) e (FP)"
   ]
  },
  {
   "cell_type": "markdown",
   "metadata": {},
   "source": [
    "O classificador trivial *random guess* é um classificador que faz classificações aleatórias, tão somente baseadas nas proporções de dados da classe negativa e positiva do *data set*. O seu desempenho é capturado pela curva $y = x$ no plano cartesiano **recall x fall out**. Como queremos ter um modelo que seja melhor que o classificador aleatório, **devemos buscar um classificador cujo ROC seja uma curva sempre acima da reta $y = x$**. Curvas abaixo da reta $y = x$ significam que o classificador se comporta pior do que chutes aleatórios sobre as classes."
   ]
  },
  {
   "cell_type": "markdown",
   "metadata": {},
   "source": [
    "Apesar de visualmente ser fácil avaliar o desempenho de um classificador usando a curva ROC, é difícil comparar o desempenho geral de múltiplos classificadores. Uma forma de sumarizar o desempenho do classificador usando o ROC é através da **área embaixo da curva ROC: AUC (*Area Under Curve*)**."
   ]
  },
  {
   "cell_type": "markdown",
   "metadata": {},
   "source": [
    "## Área abaixo da curva ROC"
   ]
  },
  {
   "cell_type": "markdown",
   "metadata": {},
   "source": [
    "Essa área nos diz quão bom um modelo de classificação é em distringuir classes.\n",
    "\n",
    "**Imagine...**\n",
    "\n",
    "Temos um problema binário, e queremos saber quem pertence à que classe. Então, podemos **calcular a probabilidade** de cada ponto (indivíduo) pertencer à uma determinada classe. Feito isso, podemos ter um gráfico dessa maneira:\n",
    "\n",
    "![gráfico](https://miro.medium.com/max/493/1*HxNvqTl-Pd63niUIbrD4pg.jpeg)\n",
    "\n",
    "Esse gráfico tem no $x$ os valores das probabilidades, e em $y$ valores de frequência, sendo *vermelho* os classificados como *classe 0 e *verde* os classificados como *classe 1*. **Note:** existem indivíduos da *classe 0* com baixa probabilidade de ser *classe 1*, como também existem indivíduos (poucos) que tem uma chance apreciável (0.6) de ser *classe 1*, mas estão classificados como *classe 0*. De maneira análoga, temos indivíduos classificados como *classe 1* com pequena chance (0.4) de ser dessa classe. Feita essa observação, vamos continuar...\n",
    "\n",
    "Agora, só a probabilidade não é suficiente para classificar um indivíduo, pois ela revela uma **chance** em ser *classe 0* ou *classe 1*. Se um indivíduo tem 0.8 de chance de ser *A*, ele tem 0.2 de ser *B*. Embora seja uma probabilidade alta, **não temos certeza absoluta**. Diante disso, devemos adotar um ***Threshold***. Vamos adotar o bom e velho 0.5. Como mostra o gráfico abaixo:\n",
    "\n",
    "![gráfico](https://miro.medium.com/max/493/1*qLjMtrdG3qIcuNBALvsYQA.jpeg)\n",
    "\n",
    "Agora, quem tem probabilidade **acima** do limite, é **classe 1**. E quem tem probabilidade **abaixo**, é **classe 0**. Vamos analisar as duas porções separadamente:\n",
    "\n",
    "- abaixo do limite\n",
    "    \n",
    "    \n",
    "    - São considerados (TN) os classificados como classe 0 que estão abaixo do limite.\n",
    "    \n",
    "    - São considerados (FN) os classificados como classe 0 que estão abaixo do limite.\n",
    "\n",
    "\n",
    "- acima do limite\n",
    "\n",
    "\n",
    "    - São considerados (TP) os classificados como *classe 1* que estão acima do limite.\n",
    "    \n",
    "    - São considerados (FP) os classificados como *classe 1* que estão acima do limite.\n",
    "\n",
    "\n",
    "Para melhor entender, olhe a imagem abaixo:\n",
    "\n",
    "![grafico](https://miro.medium.com/max/493/1*Bwhr9ots47akHbrgssKXrA.jpeg)\n",
    "\n",
    "Percebeu que aqueles casos com baixa possibilidade de ser *classe 1*, mas que são, e aqueles com chance apreciável de serem *classe 1*, mas não são, são **fortemente impactados** pelo **threshold**? E nesse cenário, as métricas que avaliam o classificador são impactadas, duas delas vão funcionar como uma espécie de *trade-off*: **Recall ($\\frac{TP}{TP+FN}$)** e **Specificity ($\\frac{TN}{TN+FP}$)**. Olhando para as duas fórmulas, percebe-se que (TN) e (TP) continuam os mesmos à medida que mudamos o limite, mas (FP) e (FN) mudam. E quando mudamos o limite, **uma métrica aumenta**, e a outra **diminui**. Podemos ver isso no gráfico abaixo:\n",
    "\n",
    "![grafico](https://miro.medium.com/max/291/1*ceB9hobuBUjnPpRKedA-VA.png)\n",
    "\n",
    "Mas a curva **ROC** não tem essa cara, para gerar ela, usamos **(1 - Specificity)**. Fazendo a brincadeira com frações, descobrimos que isso nada mais é que o nosso **Fall Out**, ou **FPR**. Agora temos a nossa curva **ROC**\n",
    "\n",
    "![grafico](https://miro.medium.com/max/292/1*QqZzGJwzYxnHWZ_axq6ynA.png)\n",
    "\n",
    "*E por que fazemos isso?*\n",
    "\n",
    "Vimos que o limite é uma medida arbitrária, e que impacta no entendimento do que é um bom classificador ou ruim. Então, devemos ter uma medida **que impacte igualmente os eixos** do gráfico. E com **TPR** e **FPR**, conseguimos isso. Agora, quando **aumentamos o threshold** nós **diminuimos tanto o FPR quanto o TPR**, e quando **diminuímos o threshold**, aumentamos **ambos**. Vejamos:\n",
    "\n",
    "![grafico](https://miro.medium.com/max/493/1*Bwhr9ots47akHbrgssKXrA.jpeg)\n",
    "\n",
    "$\\uparrow Limite:$\n",
    "\n",
    "- $(TN)$ e $(TP)$ permanescem constante\n",
    "\n",
    "- $\\downarrow (FP)$ e $\\uparrow (FN)$\n",
    "    \n",
    "$$TPR=\\frac{TP}{TP+\\uparrow FN} \\therefore \\downarrow TPR$$\n",
    "\n",
    "$$FPR=\\frac{\\downarrow FP}{\\downarrow FP+TN} \\therefore \\downarrow TPR$$\n",
    "\n",
    "\n",
    "$\\downarrow Limite:$\n",
    "\n",
    "- $(TN)$ e $(TP)$ permanescem constante\n",
    "\n",
    "- $\\uparrow (FP)$ e $\\downarrow (FN)$\n",
    "    \n",
    "$$TPR=\\frac{TP}{TP+\\downarrow FN} \\therefore \\uparrow TPR$$\n",
    "\n",
    "$$FPR=\\frac{\\uparrow FP}{\\uparrow FP+TN} \\therefore \\uparrow TPR$$"
   ]
  },
  {
   "cell_type": "markdown",
   "metadata": {},
   "source": [
    "Agora, nós temos um gráfico não tão dependente do limite. Com isso, vamos analisar o que a área em baixo da curva **ROC** quer dizer:\n",
    "\n",
    "Mais Espaçados             |  Menos Espaçados\n",
    ":-------------------------:|:-------------------------:\n",
    "![grafico1](https://miro.medium.com/max/406/1*AgDJbm6d8qr8ESHNv6VvKg.png)  |  ![grafico2](https://miro.medium.com/max/405/1*KNhNw8BsjbIETPF_BH8Qpg.png)\n",
    "\n",
    "Fica claro que: quanto mais espaçadas as classes, mais distintos são os *True Values*, e menos (FP) e (FN) temos. Diante disso, a **área da curva ROC mede quão separadas estão as probabilidades de (TN) e (TP)**. E, à medida que elas estão mais separadas, **maior a área da curva ROC**"
   ]
  },
  {
   "cell_type": "markdown",
   "metadata": {},
   "source": [
    "## Criando Dataset para Classificação"
   ]
  },
  {
   "cell_type": "code",
   "execution_count": 37,
   "metadata": {},
   "outputs": [],
   "source": [
    "from sklearn.datasets import make_blobs"
   ]
  },
  {
   "cell_type": "markdown",
   "metadata": {},
   "source": [
    "Vamos gerar um conjunto de dados com 500 indivíduos e 2 classes"
   ]
  },
  {
   "cell_type": "code",
   "execution_count": 38,
   "metadata": {},
   "outputs": [],
   "source": [
    "X, Y = make_blobs(n_samples=500, centers=2, cluster_std=2.)"
   ]
  },
  {
   "cell_type": "code",
   "execution_count": 39,
   "metadata": {},
   "outputs": [
    {
     "data": {
      "text/plain": [
       "((500, 2), (500,))"
      ]
     },
     "execution_count": 39,
     "metadata": {},
     "output_type": "execute_result"
    }
   ],
   "source": [
    "X.shape, Y.shape"
   ]
  },
  {
   "cell_type": "code",
   "execution_count": 40,
   "metadata": {},
   "outputs": [
    {
     "data": {
      "image/png": "[encoded data removed]",
      "text/plain": [
       "<Figure size 648x648 with 1 Axes>"
      ]
     },
     "metadata": {
      "needs_background": "light"
     },
     "output_type": "display_data"
    }
   ],
   "source": [
    "plt.figure(figsize=(9, 9))\n",
    "sns.scatterplot(x=X[:, 0], y=X[:, 1], hue=Y, palette='bright')\n",
    "plt.show()"
   ]
  },
  {
   "cell_type": "code",
   "execution_count": 41,
   "metadata": {},
   "outputs": [],
   "source": [
    "from sklearn.model_selection import train_test_split"
   ]
  },
  {
   "cell_type": "code",
   "execution_count": 42,
   "metadata": {},
   "outputs": [],
   "source": [
    "x_treino, x_teste, y_treino, y_teste = train_test_split(X, Y, test_size=.2)"
   ]
  },
  {
   "cell_type": "code",
   "execution_count": 43,
   "metadata": {},
   "outputs": [
    {
     "data": {
      "text/plain": [
       "((400, 2), (100, 2))"
      ]
     },
     "execution_count": 43,
     "metadata": {},
     "output_type": "execute_result"
    }
   ],
   "source": [
    "x_treino.shape, x_teste.shape"
   ]
  },
  {
   "cell_type": "markdown",
   "metadata": {},
   "source": [
    "## Regressão Logística"
   ]
  },
  {
   "cell_type": "markdown",
   "metadata": {},
   "source": [
    "Esse modelo é muito empregado em problemas binários, mas não unicamente usado, necessariamente, em modelos binários.\n",
    "\n",
    "Nesse modelo, a função utilizada retorna uma probabilidade: ser **positivo** ou **negativo**, e é escrita abaixo:\n",
    "\n",
    "$$p(X) = \\frac{e^{\\beta_{0} + \\beta_{1}X}}{1 + e^{\\beta_{0} + \\beta_{1}X}}$$\n",
    "\n",
    "Olhando para os coeficientes $\\beta_0, \\beta_1$, percebemos que eles não são lineares. E para uma regressão linear, isso não serve. Então, devemos fazer uma matemágica para deixar essa função linearizável. Diante disso:\n",
    "\n",
    "$$\\ln{\\frac{p(X)}{1 - p(X)}} = \\beta_{0} + \\beta_{1}X$$\n",
    "\n",
    "Agora é possível aplicar uma regressão, pois é uma função linear nos parâmetros $\\beta_0, \\beta_1$.\n",
    "\n",
    "![logistic](http://res.cloudinary.com/dyd911kmh/image/upload/f_auto,q_auto:best/v1534281070/linear_vs_logistic_regression_edxw03.png)\n",
    "\n",
    "Então, com a função linearizada, obtemos os coeficientes $\\beta_0, \\beta_1$, e podemos gerar um gráfico tal qual o de cima. Perceba que $p(x)$ está condicionado entre $[0, 1]$. Para uma probabilidade, que conveniente é o que estamos lidando, é muito oportuno. Assim, podemos encontrar a **probabilidade de $x$ ser de classe positiva ou negativa**. Se $p(x)\\geq.5$, $x$ tem maior chance de ser de classe **positiva** $Y=1$. Se for menor, chance de ser **negativa** $Y=0$. Mas esse .5 pode ser modificado se quisermos."
   ]
  },
  {
   "cell_type": "code",
   "execution_count": 44,
   "metadata": {},
   "outputs": [],
   "source": [
    "from sklearn.linear_model import LogisticRegression"
   ]
  },
  {
   "cell_type": "code",
   "execution_count": 45,
   "metadata": {},
   "outputs": [],
   "source": [
    "reg_log = LogisticRegression()"
   ]
  },
  {
   "cell_type": "markdown",
   "metadata": {},
   "source": [
    "**treino**"
   ]
  },
  {
   "cell_type": "code",
   "execution_count": 46,
   "metadata": {},
   "outputs": [
    {
     "data": {
      "text/plain": [
       "LogisticRegression()"
      ]
     },
     "execution_count": 46,
     "metadata": {},
     "output_type": "execute_result"
    }
   ],
   "source": [
    "reg_log.fit(x_treino, y_treino)"
   ]
  },
  {
   "cell_type": "code",
   "execution_count": 47,
   "metadata": {},
   "outputs": [
    {
     "data": {
      "text/plain": [
       "array([0.07159402])"
      ]
     },
     "execution_count": 47,
     "metadata": {},
     "output_type": "execute_result"
    }
   ],
   "source": [
    "reg_log.intercept_"
   ]
  },
  {
   "cell_type": "code",
   "execution_count": 48,
   "metadata": {},
   "outputs": [
    {
     "data": {
      "text/plain": [
       "array([[-0.51825563,  0.22648911]])"
      ]
     },
     "execution_count": 48,
     "metadata": {},
     "output_type": "execute_result"
    }
   ],
   "source": [
    "reg_log.coef_"
   ]
  },
  {
   "cell_type": "code",
   "execution_count": 49,
   "metadata": {},
   "outputs": [
    {
     "data": {
      "text/plain": [
       "array([0, 1])"
      ]
     },
     "execution_count": 49,
     "metadata": {},
     "output_type": "execute_result"
    }
   ],
   "source": [
    "reg_log.classes_"
   ]
  },
  {
   "cell_type": "markdown",
   "metadata": {},
   "source": [
    "**teste**"
   ]
  },
  {
   "cell_type": "code",
   "execution_count": 50,
   "metadata": {},
   "outputs": [],
   "source": [
    "previsto_log = reg_log.predict(x_teste)"
   ]
  },
  {
   "cell_type": "code",
   "execution_count": 51,
   "metadata": {},
   "outputs": [
    {
     "data": {
      "text/html": [
       "<div>\n",
       "<style scoped>\n",
       "    .dataframe tbody tr th:only-of-type {\n",
       "        vertical-align: middle;\n",
       "    }\n",
       "\n",
       "    .dataframe tbody tr th {\n",
       "        vertical-align: top;\n",
       "    }\n",
       "\n",
       "    .dataframe thead th {\n",
       "        text-align: right;\n",
       "    }\n",
       "</style>\n",
       "<table border=\"1\" class=\"dataframe\">\n",
       "  <thead>\n",
       "    <tr style=\"text-align: right;\">\n",
       "      <th></th>\n",
       "      <th>1</th>\n",
       "      <th>2</th>\n",
       "      <th>target_previsto</th>\n",
       "      <th>target_real</th>\n",
       "    </tr>\n",
       "  </thead>\n",
       "  <tbody>\n",
       "    <tr>\n",
       "      <th>0</th>\n",
       "      <td>-3.458875</td>\n",
       "      <td>0.049979</td>\n",
       "      <td>1</td>\n",
       "      <td>1</td>\n",
       "    </tr>\n",
       "    <tr>\n",
       "      <th>1</th>\n",
       "      <td>1.986477</td>\n",
       "      <td>-2.971032</td>\n",
       "      <td>0</td>\n",
       "      <td>0</td>\n",
       "    </tr>\n",
       "    <tr>\n",
       "      <th>2</th>\n",
       "      <td>-1.770848</td>\n",
       "      <td>-3.091978</td>\n",
       "      <td>1</td>\n",
       "      <td>0</td>\n",
       "    </tr>\n",
       "    <tr>\n",
       "      <th>3</th>\n",
       "      <td>-1.170812</td>\n",
       "      <td>-5.447947</td>\n",
       "      <td>0</td>\n",
       "      <td>1</td>\n",
       "    </tr>\n",
       "    <tr>\n",
       "      <th>4</th>\n",
       "      <td>-1.465835</td>\n",
       "      <td>-5.050420</td>\n",
       "      <td>0</td>\n",
       "      <td>1</td>\n",
       "    </tr>\n",
       "    <tr>\n",
       "      <th>5</th>\n",
       "      <td>-6.315420</td>\n",
       "      <td>-4.689623</td>\n",
       "      <td>1</td>\n",
       "      <td>1</td>\n",
       "    </tr>\n",
       "    <tr>\n",
       "      <th>6</th>\n",
       "      <td>-2.221146</td>\n",
       "      <td>-3.506250</td>\n",
       "      <td>1</td>\n",
       "      <td>1</td>\n",
       "    </tr>\n",
       "  </tbody>\n",
       "</table>\n",
       "</div>"
      ],
      "text/plain": [
       "          1         2  target_previsto  target_real\n",
       "0 -3.458875  0.049979                1            1\n",
       "1  1.986477 -2.971032                0            0\n",
       "2 -1.770848 -3.091978                1            0\n",
       "3 -1.170812 -5.447947                0            1\n",
       "4 -1.465835 -5.050420                0            1\n",
       "5 -6.315420 -4.689623                1            1\n",
       "6 -2.221146 -3.506250                1            1"
      ]
     },
     "execution_count": 51,
     "metadata": {},
     "output_type": "execute_result"
    }
   ],
   "source": [
    "pd.DataFrame(data={\n",
    "    '1': x_teste[:, 0],\n",
    "    '2': x_teste[:, 1],\n",
    "    'target_previsto': previsto_log,\n",
    "    'target_real': y_teste\n",
    "}).head(7)"
   ]
  },
  {
   "cell_type": "markdown",
   "metadata": {},
   "source": [
    "Podemos calcular algumas probabilidades interessantes com o modelo treinado"
   ]
  },
  {
   "cell_type": "code",
   "execution_count": 52,
   "metadata": {},
   "outputs": [
    {
     "data": {
      "image/png": "[encoded data removed]",
      "text/plain": [
       "<Figure size 1080x648 with 2 Axes>"
      ]
     },
     "metadata": {
      "needs_background": "light"
     },
     "output_type": "display_data"
    }
   ],
   "source": [
    "fig, g = plt.subplots(1, 2, figsize=(15, 9))\n",
    "sns.scatterplot(x=X[:, 0], y=X[:, 1], hue=Y, palette='rainbow', ax=g[0])\n",
    "visualize_classifier(reg_log, x_treino, y_treino, ax=g[1])\n",
    "plt.show()"
   ]
  },
  {
   "cell_type": "markdown",
   "metadata": {},
   "source": [
    "**Qual classe um determinado ponto pertence?**"
   ]
  },
  {
   "cell_type": "markdown",
   "metadata": {},
   "source": [
    "Ponto: (12.5, 5)\n",
    "\n",
    "- olhando para o gráfico acima, podemos perceber que esse ponto percente à classe 1\n",
    "\n",
    "Ponto: (4., 12.)\n",
    "\n",
    "- olhando para o gráfico acima, podemos perceber que esse ponto pertence à classe 0"
   ]
  },
  {
   "cell_type": "code",
   "execution_count": 53,
   "metadata": {},
   "outputs": [
    {
     "data": {
      "text/plain": [
       "array([[0.99490382, 0.00509618],\n",
       "       [0.32817721, 0.67182279]])"
      ]
     },
     "execution_count": 53,
     "metadata": {},
     "output_type": "execute_result"
    }
   ],
   "source": [
    "reg_log.predict_proba(np.array(([12.5, 5.], [4., 12.])))"
   ]
  },
  {
   "cell_type": "code",
   "execution_count": 54,
   "metadata": {},
   "outputs": [
    {
     "name": "stdout",
     "output_type": "stream",
     "text": [
      "Ponto (12.5, 5.):\n",
      "\n",
      "classe 0: 0.995\n",
      "classe 1: 0.005\n"
     ]
    }
   ],
   "source": [
    "print('Ponto (12.5, 5.):\\n')\n",
    "print(f'classe 0: {reg_log.predict_proba(np.array(([12.5, 5.], [4., 12.])))[0,0]:.3f}')\n",
    "print(f'classe 1: {reg_log.predict_proba(np.array(([12.5, 5.], [4., 12.])))[0,1]:.3f}')"
   ]
  },
  {
   "cell_type": "code",
   "execution_count": 55,
   "metadata": {},
   "outputs": [
    {
     "name": "stdout",
     "output_type": "stream",
     "text": [
      "Ponto (4., 12.):\n",
      "\n",
      "classe 0: 0.328\n",
      "classe 1: 0.672\n"
     ]
    }
   ],
   "source": [
    "print('Ponto (4., 12.):\\n')\n",
    "print(f'classe 0: {reg_log.predict_proba(np.array(([12.5, 5.], [4., 12.])))[1,0]:.3f}')\n",
    "print(f'classe 1: {reg_log.predict_proba(np.array(([12.5, 5.], [4., 12.])))[1,1]:.3f}')"
   ]
  },
  {
   "cell_type": "markdown",
   "metadata": {},
   "source": [
    "Como é possível perceber, as probabilidades são muito maiores nas classes que acreditamos que os pontos pertencem de acordo com o gráfico fronteiriço."
   ]
  },
  {
   "cell_type": "markdown",
   "metadata": {},
   "source": [
    "Tem como saber qual classe o ponto pertence, diferente da probabilidade de pertencimento. Basta usar o `predict` para um ponto só"
   ]
  },
  {
   "cell_type": "markdown",
   "metadata": {},
   "source": [
    "Ponto (12.5, 5.):"
   ]
  },
  {
   "cell_type": "code",
   "execution_count": 56,
   "metadata": {},
   "outputs": [
    {
     "data": {
      "text/plain": [
       "array([0])"
      ]
     },
     "execution_count": 56,
     "metadata": {},
     "output_type": "execute_result"
    }
   ],
   "source": [
    "reg_log.predict(np.array(([12.5, 5.])).reshape(1, -1))"
   ]
  },
  {
   "cell_type": "markdown",
   "metadata": {},
   "source": [
    "## Métricas"
   ]
  },
  {
   "cell_type": "markdown",
   "metadata": {},
   "source": [
    "Vamos aplicar as métricas da **Matriz de Confusão** e **Curva ROC** aos resultados desse modelo de regressão logística"
   ]
  },
  {
   "cell_type": "markdown",
   "metadata": {},
   "source": [
    "**Accuracy**\n",
    "\n",
    "Com essa métrica, podemos saber **com que frequência esse classificador está correto**"
   ]
  },
  {
   "cell_type": "code",
   "execution_count": 57,
   "metadata": {},
   "outputs": [],
   "source": [
    "from sklearn.metrics import accuracy_score"
   ]
  },
  {
   "cell_type": "markdown",
   "metadata": {},
   "source": [
    "Vemos que nosso classificador está certo em:"
   ]
  },
  {
   "cell_type": "code",
   "execution_count": 58,
   "metadata": {},
   "outputs": [
    {
     "data": {
      "text/plain": [
       "0.69"
      ]
     },
     "execution_count": 58,
     "metadata": {},
     "output_type": "execute_result"
    }
   ],
   "source": [
    "accuracy_score(y_pred=previsto_log, y_true=y_teste)"
   ]
  },
  {
   "cell_type": "markdown",
   "metadata": {},
   "source": [
    "**Confusion Matrix**"
   ]
  },
  {
   "cell_type": "code",
   "execution_count": 59,
   "metadata": {},
   "outputs": [],
   "source": [
    "from sklearn.metrics import confusion_matrix"
   ]
  },
  {
   "cell_type": "code",
   "execution_count": 85,
   "metadata": {
    "scrolled": false
   },
   "outputs": [
    {
     "data": {
      "image/png": "[encoded data removed]",
      "text/plain": [
       "<Figure size 648x432 with 1 Axes>"
      ]
     },
     "metadata": {
      "needs_background": "light"
     },
     "output_type": "display_data"
    }
   ],
   "source": [
    "plt.figure(figsize=(9, 6))\n",
    "sns.heatmap(confusion_matrix(y_pred=previsto_log, y_true=y_teste), \n",
    "            annot=True, \n",
    "            cmap='gray', \n",
    "            linewidths=.7, \n",
    "            cbar=False)\n",
    "plt.xlabel('Previsto')\n",
    "plt.ylabel('Verdadeiro')\n",
    "plt.show()"
   ]
  },
  {
   "cell_type": "markdown",
   "metadata": {},
   "source": [
    "Nessa matriz, temos:"
   ]
  },
  {
   "cell_type": "code",
   "execution_count": 86,
   "metadata": {},
   "outputs": [],
   "source": [
    "(TN, FP), (FN, TP) = confusion_matrix(y_pred=previsto_log, y_true=y_teste)"
   ]
  },
  {
   "cell_type": "code",
   "execution_count": 87,
   "metadata": {},
   "outputs": [
    {
     "name": "stdout",
     "output_type": "stream",
     "text": [
      "(TN) é 0 e foi classificado como 0:  26\n",
      "(TP) é 1 e foi classificado como 1:  43\n",
      "(FP) é 0 mas foi classificado como 1:  18\n",
      "(FN) é 1 mas foi classificado como 0:  13\n"
     ]
    }
   ],
   "source": [
    "print(f'(TN) é 0 e foi classificado como 0: ', TN)\n",
    "print(f'(TP) é 1 e foi classificado como 1: ', TP)\n",
    "print(f'(FP) é 0 mas foi classificado como 1: ', FP)\n",
    "print(f'(FN) é 1 mas foi classificado como 0: ', FN)"
   ]
  },
  {
   "cell_type": "markdown",
   "metadata": {},
   "source": [
    "Outra forma de ler:"
   ]
  },
  {
   "cell_type": "code",
   "execution_count": 88,
   "metadata": {},
   "outputs": [
    {
     "name": "stdout",
     "output_type": "stream",
     "text": [
      "(P) é (TP) + (FN):  56\n",
      "(N) é (TN) + (FP):  44\n"
     ]
    }
   ],
   "source": [
    "print(f'(P) é (TP) + (FN): ', TP+FN)\n",
    "print(f'(N) é (TN) + (FP): ', TN+FP)"
   ]
  },
  {
   "cell_type": "markdown",
   "metadata": {},
   "source": [
    "Olhando dessa maneira, fica fácil entender o valor de **Accuracy**"
   ]
  },
  {
   "cell_type": "markdown",
   "metadata": {},
   "source": [
    "**Recall, Sensitivity, ou TPR (True Positive Ratio)**\n",
    "\n",
    "como escrito lá em cima:\n",
    "\n",
    "$$\\frac{TP}{TP+FN}$$\n",
    "\n",
    "Com essa métrica, queremos saber **quando é um valor realmente POSITIVO, com que frequência o classificador ACERTA**. Essa métrica é usada quando objetivo é limitar a quantidade de falso negativos. Ou seja, quando temos 1 mas são classificados como 0 (falso 0)."
   ]
  },
  {
   "cell_type": "code",
   "execution_count": 89,
   "metadata": {},
   "outputs": [],
   "source": [
    "from sklearn.metrics import recall_score"
   ]
  },
  {
   "cell_type": "markdown",
   "metadata": {},
   "source": [
    "Ou seja, de 100% dos dados **realmente POSITIVOS**, o classificador acerta: "
   ]
  },
  {
   "cell_type": "code",
   "execution_count": 90,
   "metadata": {},
   "outputs": [
    {
     "data": {
      "text/plain": [
       "0.7678571428571429"
      ]
     },
     "execution_count": 90,
     "metadata": {},
     "output_type": "execute_result"
    }
   ],
   "source": [
    "recall_score(y_pred=previsto_log, y_true=y_teste)"
   ]
  },
  {
   "cell_type": "markdown",
   "metadata": {},
   "source": [
    "**Fall Out, ou FPR (False Positive Ratio)**\n",
    "\n",
    "como escrito lá em cima:\n",
    "\n",
    "$$\\frac{FP}{TN+FP}$$\n",
    "\n",
    "Com essa métrica, queremos saber **quando é um valor realmente NEGATIVO, com que frequência o classificador ERRA**"
   ]
  },
  {
   "cell_type": "markdown",
   "metadata": {},
   "source": [
    "Ou seja, dos dados **realmente NEGATIVOS**, o classificador erra:"
   ]
  },
  {
   "cell_type": "code",
   "execution_count": 91,
   "metadata": {},
   "outputs": [
    {
     "data": {
      "text/plain": [
       "0.4090909090909091"
      ]
     },
     "execution_count": 91,
     "metadata": {},
     "output_type": "execute_result"
    }
   ],
   "source": [
    "18/44"
   ]
  },
  {
   "cell_type": "markdown",
   "metadata": {},
   "source": [
    "**Precision**\n",
    "\n",
    "como escrito lá em cima:\n",
    "\n",
    "$$\\frac{TP}{TP+FP}$$\n",
    "\n",
    "Com essa métrica, queremos saber **quando o modelo prevê um valor POSITIVO, com que frequência o classificador ACERTA**. Essa métrica é usada quando o objetivo é limitar a quantidade de (FP). Ou seja, quando queremos limitar a quantidade de 0 que são classificados como 1 (falsos 1)."
   ]
  },
  {
   "cell_type": "code",
   "execution_count": 92,
   "metadata": {},
   "outputs": [],
   "source": [
    "from sklearn.metrics import precision_score"
   ]
  },
  {
   "cell_type": "markdown",
   "metadata": {},
   "source": [
    "Ou seja, quando o modelo prevê um valor **POSITIVO**, ele acerta:"
   ]
  },
  {
   "cell_type": "code",
   "execution_count": 93,
   "metadata": {},
   "outputs": [
    {
     "data": {
      "text/plain": [
       "0.7049180327868853"
      ]
     },
     "execution_count": 93,
     "metadata": {},
     "output_type": "execute_result"
    }
   ],
   "source": [
    "precision_score(y_pred=previsto_log, y_true=y_teste)"
   ]
  },
  {
   "cell_type": "markdown",
   "metadata": {},
   "source": [
    "**F_1-score**\n",
    "\n",
    "como escrito lá em cima:\n",
    "\n",
    "$$\\frac{2\\times precision \\times recall}{precision+recall}$$\n",
    "\n",
    "Essa métrica é interessante quando queremos analisar, ao mesmo tempo, o **recall** e a **precision**. Ela representa a **média harmônica** entre as duas métricas"
   ]
  },
  {
   "cell_type": "code",
   "execution_count": 94,
   "metadata": {},
   "outputs": [],
   "source": [
    "from sklearn.metrics import f1_score"
   ]
  },
  {
   "cell_type": "code",
   "execution_count": 96,
   "metadata": {},
   "outputs": [
    {
     "data": {
      "text/plain": [
       "0.7350427350427351"
      ]
     },
     "execution_count": 96,
     "metadata": {},
     "output_type": "execute_result"
    }
   ],
   "source": [
    "f1_score(y_pred=previsto_log, y_true=y_teste)"
   ]
  },
  {
   "cell_type": "markdown",
   "metadata": {},
   "source": [
    "Ainda existe uma função que retorna um resumo das métricas do classificador"
   ]
  },
  {
   "cell_type": "code",
   "execution_count": 97,
   "metadata": {},
   "outputs": [],
   "source": [
    "from sklearn.metrics import classification_report"
   ]
  },
  {
   "cell_type": "code",
   "execution_count": 103,
   "metadata": {},
   "outputs": [
    {
     "name": "stdout",
     "output_type": "stream",
     "text": [
      "              precision    recall  f1-score   support\n",
      "\n",
      "           0       0.67      0.59      0.63        44\n",
      "           1       0.70      0.77      0.74        56\n",
      "\n",
      "    accuracy                           0.69       100\n",
      "   macro avg       0.69      0.68      0.68       100\n",
      "weighted avg       0.69      0.69      0.69       100\n",
      "\n"
     ]
    }
   ],
   "source": [
    "print(classification_report(y_pred=previsto_log, y_true=y_teste))"
   ]
  },
  {
   "cell_type": "markdown",
   "metadata": {},
   "source": [
    "**Curva ROC**"
   ]
  },
  {
   "cell_type": "markdown",
   "metadata": {},
   "source": [
    "Como visto, é uma curva que possui seus eixos *x e y* representados por FPR e TPR respectivamente"
   ]
  },
  {
   "cell_type": "code",
   "execution_count": 109,
   "metadata": {},
   "outputs": [],
   "source": [
    "from sklearn.metrics import roc_curve"
   ]
  },
  {
   "cell_type": "markdown",
   "metadata": {},
   "source": [
    "Primeiro, precisamos encontrar a probabilidade associada ao ponto. Nesse caso, vamos usar a **probabilidade de ser da *classe 1***"
   ]
  },
  {
   "cell_type": "code",
   "execution_count": 118,
   "metadata": {},
   "outputs": [],
   "source": [
    "previsto_probab = reg_log.predict_proba(x_teste)[:, 1]"
   ]
  },
  {
   "cell_type": "code",
   "execution_count": 119,
   "metadata": {},
   "outputs": [],
   "source": [
    "TPR, FPR, thresholds = roc_curve(y_true=y_teste, y_score=previsto_probab)"
   ]
  },
  {
   "cell_type": "code",
   "execution_count": 129,
   "metadata": {},
   "outputs": [
    {
     "data": {
      "image/png": "[encoded data removed]",
      "text/plain": [
       "<Figure size 432x288 with 1 Axes>"
      ]
     },
     "metadata": {
      "needs_background": "light"
     },
     "output_type": "display_data"
    }
   ],
   "source": [
    "plt.plot(TPR, FPR, label='ROC')\n",
    "plt.plot([0, 1], [0, 1], label='Random Choice')\n",
    "plt.legend(loc='best')\n",
    "plt.xlabel('FPR')\n",
    "plt.ylabel('TPR')\n",
    "plt.show()"
   ]
  },
  {
   "cell_type": "markdown",
   "metadata": {},
   "source": [
    "**Área abaixo da curva ROC**\n",
    "\n",
    "Uma medida muito boa para avaliar se o classificador é bom, como vimos lá em cima, é obter a área abaixo da curva ROC, área essa que varia dentro [0, 1]. Se o valor é próximo de 0.5, é sinal que o classificador é tão bom quando uma chute. Se for maior que 0.5, é melhor que classificar na sorte. Por fim, se for menor que 0.5, o classificador é ruim."
   ]
  },
  {
   "cell_type": "code",
   "execution_count": 126,
   "metadata": {},
   "outputs": [],
   "source": [
    "from sklearn.metrics import roc_auc_score"
   ]
  },
  {
   "cell_type": "code",
   "execution_count": 128,
   "metadata": {},
   "outputs": [
    {
     "data": {
      "text/plain": [
       "0.807224025974026"
      ]
     },
     "execution_count": 128,
     "metadata": {},
     "output_type": "execute_result"
    }
   ],
   "source": [
    "roc_auc_score(y_true=y_teste, y_score=previsto_probab)"
   ]
  },
  {
   "cell_type": "markdown",
   "metadata": {},
   "source": [
    "E como estamos pegando a área, não existe nenhuma relação a qualquer espécie de limite. Então, essa área não nos diz qual o limite útil para obtermos um bom classificador"
   ]
  },
  {
   "cell_type": "code",
   "execution_count": null,
   "metadata": {},
   "outputs": [],
   "source": []
  },
  {
   "cell_type": "markdown",
   "metadata": {},
   "source": [
    "## Dados Desbalanceados"
   ]
  }
 ],
 "metadata": {
  "kernelspec": {
   "display_name": "Python 3",
   "language": "python",
   "name": "python3"
  },
  "language_info": {
   "codemirror_mode": {
    "name": "ipython",
    "version": 3
   },
   "file_extension": ".py",
   "mimetype": "text/x-python",
   "name": "python",
   "nbconvert_exporter": "python",
   "pygments_lexer": "ipython3",
   "version": "3.8.2"
  }
 },
 "nbformat": 4,
 "nbformat_minor": 4
}
