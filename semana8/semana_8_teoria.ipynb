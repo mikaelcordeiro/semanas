{
 "cells": [
  {
   "cell_type": "markdown",
   "metadata": {},
   "source": [
    "# Semana 8 do Aceleradev DS Codenation\n",
    "\n",
    "### Professor: Kazuki Yokoyama | Tema: Modelagem e Regressão"
   ]
  },
  {
   "cell_type": "code",
   "execution_count": 341,
   "metadata": {},
   "outputs": [],
   "source": [
    "import pandas as pd\n",
    "import numpy as np\n",
    "import matplotlib.pyplot as plt\n",
    "import seaborn as sns\n",
    "import scipy.stats as sct\n",
    "from sklearn.datasets import load_boston\n",
    "from sklearn.linear_model import LinearRegression, Ridge, Lasso\n",
    "from sklearn.decomposition import PCA\n",
    "from sklearn.metrics import mean_squared_error, median_absolute_error, r2_score\n",
    "from sklearn.model_selection import train_test_split\n",
    "from sklearn.preprocessing import StandardScaler"
   ]
  },
  {
   "cell_type": "markdown",
   "metadata": {},
   "source": [
    "balanço de sustentabilidade"
   ]
  },
  {
   "cell_type": "code",
   "execution_count": 342,
   "metadata": {},
   "outputs": [],
   "source": [
    "np.random.seed(1000)"
   ]
  },
  {
   "cell_type": "markdown",
   "metadata": {},
   "source": [
    "### Regressao Linear"
   ]
  },
  {
   "cell_type": "markdown",
   "metadata": {},
   "source": [
    "Aqui, falaremos do modelo mais simples e mais usado de predição. Trazendo os significados de conceitos importantes sobre o tema."
   ]
  },
  {
   "cell_type": "markdown",
   "metadata": {},
   "source": [
    "![regressoes](https://cdn-images-1.medium.com/max/800/1*_7OPgojau8hkiPUiHoGK_w.png)"
   ]
  },
  {
   "cell_type": "markdown",
   "metadata": {},
   "source": [
    "Logo de cara, já temos 3 resultados possíveis que um modelo de regressão pode gerar. Esses resultados tem relação com *Trade-Off* e *Viés-Variância*."
   ]
  },
  {
   "cell_type": "markdown",
   "metadata": {},
   "source": [
    "### Trade-Off Viés-Variância"
   ]
  },
  {
   "cell_type": "markdown",
   "metadata": {},
   "source": [
    "O erro cometido por um modelo pode ser dividido em 3 partes:\n",
    "\n",
    "$$\\mathbb{E}[(f(x) - \\hat{f}(x))^{2}] = \\underbrace{\\text{Bias}(\\hat{f}(x))^{2}}_{\\text{viés}} + \\underbrace{\\text{Var}[\\hat{f}(x)]}_{\\text{variância}} + \\underbrace{\\varepsilon^{2}}_{\\text{erro irredutível}}$$\n",
    "\n",
    "- Viés: conceitualmente, é a diferença entre o previsto e o valor correto que estamos prever. Podemos introduzir um viés na regressão através da escolha do modelo. Quando temos um *dataset* não linear, mas usamos uma regressão linear para tentar predizer algo sobre ele, estamos introduzindo um viés ao modelo. No caso, esse viés é a **simplicidade do modelo perante a complexidade dos dados**. Ou seja, o algoritmo *não apendem* muito bem, não capta as variações legítimas dos dados, gerando um **Underfitting**. São exemplos de **modelos com alto viés:** regressão linear, regressão logística, e são exemplos de **baixo viés:** árvores de decisão, kNN e SVM(Support Vector Machines)\n",
    "\n",
    "- Variância: conceitualmete, representa quanto os valores previstos variam frente frente as repetições das predições através de dados diferentes. Essa é o oposto do viés. Ocorre quando usamos **um modelo muito complexo em um *dataset* com linearidade alta**. O resultado se parece muito com uma interpolação de grau $n-1$, sendo n o número de pontos. Nesse cenário, o modelo gera um **Overfitting**. Parece que os algorítmos *decoraram* os dados de treino, obtendo um *superaprendizado*, **ele não aprende a generalizar**. Reflexo disso é o *fit* gerado apresentar baixa variação nos dados de treino e alta variação nos dados de teste. São exemplos de **modelos com baixa variância:** regressão linear, regressão logística, e são exemplos de **alta variância:** árvores de decisão, kNN e SVM(Support Vector Machines)\n",
    "\n",
    "- erro irreditível: é o erro inerente à regressão linear. Não tem como mitigá-lo.\n",
    "\n",
    "Eu creio que foi possível perceber que o viés e a variância são antagônicos: se vc aumenta um, diminui o outro (por isso se chama *trade-off*). E visto como um modelo se equilibra nessas 3 partes. O que fazemos? Nesse equilíbrio entre viés/variância, podemos ter 2 cenários críticos:\n",
    "\n",
    "- modelo com baixa flexibilidade: ocorre quando o **viés está alto, mas a variância está baixa**. Nesse cenário, **o modelo erra muito quando são *inputados* os dados de teste** devido ao *underfitting*,\n",
    "\n",
    "- modelo com alta flexibilidade: ocorre quando o **viés está baixo, mas a variância está alta**. Aí entramos no estágio de *overfitting*, onde o modelo começa a errar bastante com os dados de teste.\n",
    "\n",
    "Como eu dei ênfase nos dados de teste, deu pra perceber que é nesse momento que avaliamos se um modelo está bom ou não, é o erro nessa fase que conta, pois é nessa hora que o modelo treinado encara valores que ele não conhece, e a idéia de *treinamento* é justamente essa: ter uma boa performance com dados que o modelo não conhece. E a chave é encontrar o equilíbrio entre viés/variância, para que o modelo erre o dentro do aceitável de erro (cada problema tem sua régua de erro).\n",
    "\n",
    "**Resumindo:** o viés está relacionado à falha do modelo em aprender com os dados de treino, enquanto a variância está relacionada à falha em prever através dos dados de teste. "
   ]
  },
  {
   "cell_type": "markdown",
   "metadata": {},
   "source": [
    "### Modelo de Regressão Linear (OLS - Ordinary Least Squares)"
   ]
  },
  {
   "cell_type": "markdown",
   "metadata": {},
   "source": [
    "**Objetivo do modelo:** previsão de uma variável **dependente** através de variáveis **independentes**. Vale ressaltar que, embora se chame regressão linear, não são apenas retas que o modelo gera, ele é capaz de gerar *fit*  não lineares também, como um polinômio por exemplo.\n",
    "\n",
    "**Modelo Teórico Simples:** Para enterdermos, vamos começar com um problema de regressão de apenas uma variável independente. Podemos escrever que o valor esperado da variável independente $Y$ para um dado $X_i$ de $X$ é:\n",
    "\n",
    "$$\\mathbb{E}(Y|X_i)=f(X_i)$$\n",
    "\n",
    "Tomando que $f(X)$ é **linear**, temos:\n",
    "\n",
    "$$f(X)=\\beta_0+\\beta_1X \\text{, sendo chamada de FRP(Função de Regressão Populacional)}$$\n",
    "\n",
    "Como de praxe, para um dado valor de $X$, existe um valor de $Y$. Assim, para não trabalharmos com o valor populacional, devemos introduzir um erro à equação caso usemos uma amostra:\n",
    "\n",
    "$$y_i=f(X_i)=\\beta_0+\\beta_1X_i+e_i \\text{, sendo chamada de FRA(Função de Regressão Amostral)}$$\n",
    "\n",
    "E o erro $e_i$ relaciona-se com $Y_i$ através de $y_i$ da seguinte maneira:\n",
    "\n",
    "$$e_i=Y_i-y_i$$\n",
    "\n",
    "Imagine que temos várias observações de $X$. Portanto, teremos vários pares ordenados $(X_i,Y_i)$. Como usamos sempre amostras para treinar modelos, quando essa equação encontra dados de teste, sempre terá um erro $\\epsilon_i$ associado a cada valor. Podemos escrever esse erro da seguinte maneira:\n",
    "\n",
    "$$\\text{RSS} = \\sum_{1 \\leq i \\leq n} e_{i}^{2} = \\sum_{1 \\leq i \\leq n} (Y_{i} - {y}_{i})^{2}\\text{, sendo Residual Sum of Squares}$$\n",
    "\n",
    "No caso da regressão, procura-se por uma curva que **minimize** o MSE(Mean Square Error):\n",
    "\n",
    "$$\\text{MSE} = \\frac{1}{n} \\sum_{1 \\leq i \\leq n} e_{i}^{2} = \\frac{1}{n} \\sum_{1 \\leq i \\leq n} (Y_{i} - {y}_{i})^{2}$$\n",
    "\n",
    "ou seja:\n",
    "\n",
    "$$\\underset{\\hat{\\beta}_{0}, \\hat{\\beta}_{2}, \\cdots, \\hat{\\beta}_{p}}{\\text{minimizar}} \\text{MSE} = \\frac{1}{n} \\sum_{1 \\leq i \\leq n} (Y_{i} - \\hat{\\beta}_{0} - \\sum_{1 \\leq j \\leq p} \\hat{\\beta}_{j}x_{ij})^{2}$$\n",
    "\n",
    "E para avaliar o nosso modelo após treiná-lo, temos o RMSE(Root Mean Square Error):\n",
    "\n",
    "$$\\text{RMSE} = \\sqrt{\\frac{1}{n} \\sum_{1 \\leq i \\leq n} e_{i}^{2} = \\sum_{1 \\leq i \\leq n} (Y_{i} - {y}_{i})^{2}}$$\n",
    "\n",
    "Para ilustrar:\n",
    "\n",
    "![residual](https://uc-r.github.io/public/images/analytics/regression/sq.errors-1.png)\n",
    "\n",
    "*Repare:* os pontos **vermelhos** representam as posições reais dos pontos de teste, as retas **pretas** representam o MSE, e a **linha azul** representa o lugar geométrico onde MSE é mínimo.\n",
    "\n",
    "**Modelo Teórico Geral:** podemos extrapolar essa idéia para um problema de várias variáveis agora. Vamos imaginar uma mesmo variável dependente $Y$ que se relaciona **linearmente** com as variáveis independentes de $\\Omega=[X_1,X_2, \\dots, X_p]$. Então, podemos escrever $Y$ como uma **combinação linear** de $\\Omega$:\n",
    "\n",
    "$$Y(X_1,X_2,\\dots,X_p)=\\beta_0+\\beta_1X_1+\\beta_2X_2+\\dots+\\beta_pX_p$$\n",
    "\n",
    "*Nota:* perceba que cada $X_p$ tem seu conjunto de valores, ou seja: cada um é uma *feature*\n",
    "\n",
    "**Pontos Fracos da OLS**\n",
    "\n",
    "Esse tipo de regressão possui uma sensitividade alta à **outliers** e **multicolinearidade**, tendendo ao **Overfitting**"
   ]
  },
  {
   "cell_type": "markdown",
   "metadata": {},
   "source": [
    "### Prática em Regressão"
   ]
  },
  {
   "cell_type": "markdown",
   "metadata": {},
   "source": [
    "vamos importar o *dataset* Boston house prices dataset"
   ]
  },
  {
   "cell_type": "code",
   "execution_count": 343,
   "metadata": {},
   "outputs": [],
   "source": [
    "boston_dataset = load_boston()"
   ]
  },
  {
   "cell_type": "code",
   "execution_count": 344,
   "metadata": {},
   "outputs": [],
   "source": [
    "features = boston_dataset.data"
   ]
  },
  {
   "cell_type": "code",
   "execution_count": 345,
   "metadata": {},
   "outputs": [],
   "source": [
    "target = boston_dataset.target"
   ]
  },
  {
   "cell_type": "code",
   "execution_count": 346,
   "metadata": {},
   "outputs": [
    {
     "data": {
      "text/html": [
       "<div>\n",
       "<style scoped>\n",
       "    .dataframe tbody tr th:only-of-type {\n",
       "        vertical-align: middle;\n",
       "    }\n",
       "\n",
       "    .dataframe tbody tr th {\n",
       "        vertical-align: top;\n",
       "    }\n",
       "\n",
       "    .dataframe thead th {\n",
       "        text-align: right;\n",
       "    }\n",
       "</style>\n",
       "<table border=\"1\" class=\"dataframe\">\n",
       "  <thead>\n",
       "    <tr style=\"text-align: right;\">\n",
       "      <th></th>\n",
       "      <th>CRIM</th>\n",
       "      <th>ZN</th>\n",
       "      <th>INDUS</th>\n",
       "      <th>CHAS</th>\n",
       "      <th>NOX</th>\n",
       "      <th>RM</th>\n",
       "      <th>AGE</th>\n",
       "      <th>DIS</th>\n",
       "      <th>RAD</th>\n",
       "      <th>TAX</th>\n",
       "      <th>PTRATIO</th>\n",
       "      <th>B</th>\n",
       "      <th>LSTAT</th>\n",
       "      <th>TARGET</th>\n",
       "    </tr>\n",
       "  </thead>\n",
       "  <tbody>\n",
       "    <tr>\n",
       "      <th>0</th>\n",
       "      <td>0.00632</td>\n",
       "      <td>18.0</td>\n",
       "      <td>2.31</td>\n",
       "      <td>0.0</td>\n",
       "      <td>0.538</td>\n",
       "      <td>6.575</td>\n",
       "      <td>65.2</td>\n",
       "      <td>4.0900</td>\n",
       "      <td>1.0</td>\n",
       "      <td>296.0</td>\n",
       "      <td>15.3</td>\n",
       "      <td>396.90</td>\n",
       "      <td>4.98</td>\n",
       "      <td>24.0</td>\n",
       "    </tr>\n",
       "    <tr>\n",
       "      <th>1</th>\n",
       "      <td>0.02731</td>\n",
       "      <td>0.0</td>\n",
       "      <td>7.07</td>\n",
       "      <td>0.0</td>\n",
       "      <td>0.469</td>\n",
       "      <td>6.421</td>\n",
       "      <td>78.9</td>\n",
       "      <td>4.9671</td>\n",
       "      <td>2.0</td>\n",
       "      <td>242.0</td>\n",
       "      <td>17.8</td>\n",
       "      <td>396.90</td>\n",
       "      <td>9.14</td>\n",
       "      <td>21.6</td>\n",
       "    </tr>\n",
       "    <tr>\n",
       "      <th>2</th>\n",
       "      <td>0.02729</td>\n",
       "      <td>0.0</td>\n",
       "      <td>7.07</td>\n",
       "      <td>0.0</td>\n",
       "      <td>0.469</td>\n",
       "      <td>7.185</td>\n",
       "      <td>61.1</td>\n",
       "      <td>4.9671</td>\n",
       "      <td>2.0</td>\n",
       "      <td>242.0</td>\n",
       "      <td>17.8</td>\n",
       "      <td>392.83</td>\n",
       "      <td>4.03</td>\n",
       "      <td>34.7</td>\n",
       "    </tr>\n",
       "    <tr>\n",
       "      <th>3</th>\n",
       "      <td>0.03237</td>\n",
       "      <td>0.0</td>\n",
       "      <td>2.18</td>\n",
       "      <td>0.0</td>\n",
       "      <td>0.458</td>\n",
       "      <td>6.998</td>\n",
       "      <td>45.8</td>\n",
       "      <td>6.0622</td>\n",
       "      <td>3.0</td>\n",
       "      <td>222.0</td>\n",
       "      <td>18.7</td>\n",
       "      <td>394.63</td>\n",
       "      <td>2.94</td>\n",
       "      <td>33.4</td>\n",
       "    </tr>\n",
       "    <tr>\n",
       "      <th>4</th>\n",
       "      <td>0.06905</td>\n",
       "      <td>0.0</td>\n",
       "      <td>2.18</td>\n",
       "      <td>0.0</td>\n",
       "      <td>0.458</td>\n",
       "      <td>7.147</td>\n",
       "      <td>54.2</td>\n",
       "      <td>6.0622</td>\n",
       "      <td>3.0</td>\n",
       "      <td>222.0</td>\n",
       "      <td>18.7</td>\n",
       "      <td>396.90</td>\n",
       "      <td>5.33</td>\n",
       "      <td>36.2</td>\n",
       "    </tr>\n",
       "  </tbody>\n",
       "</table>\n",
       "</div>"
      ],
      "text/plain": [
       "      CRIM    ZN  INDUS  CHAS    NOX     RM   AGE     DIS  RAD    TAX  \\\n",
       "0  0.00632  18.0   2.31   0.0  0.538  6.575  65.2  4.0900  1.0  296.0   \n",
       "1  0.02731   0.0   7.07   0.0  0.469  6.421  78.9  4.9671  2.0  242.0   \n",
       "2  0.02729   0.0   7.07   0.0  0.469  7.185  61.1  4.9671  2.0  242.0   \n",
       "3  0.03237   0.0   2.18   0.0  0.458  6.998  45.8  6.0622  3.0  222.0   \n",
       "4  0.06905   0.0   2.18   0.0  0.458  7.147  54.2  6.0622  3.0  222.0   \n",
       "\n",
       "   PTRATIO       B  LSTAT  TARGET  \n",
       "0     15.3  396.90   4.98    24.0  \n",
       "1     17.8  396.90   9.14    21.6  \n",
       "2     17.8  392.83   4.03    34.7  \n",
       "3     18.7  394.63   2.94    33.4  \n",
       "4     18.7  396.90   5.33    36.2  "
      ]
     },
     "execution_count": 346,
     "metadata": {},
     "output_type": "execute_result"
    }
   ],
   "source": [
    "pd.DataFrame(features, columns=boston_dataset.feature_names).join(pd.Series(target, name='TARGET')).head()"
   ]
  },
  {
   "cell_type": "markdown",
   "metadata": {},
   "source": [
    "**Separando dados para treino e teste**\n",
    "\n",
    "para fazer isso, usamos uma função do `sklearn.model_selection`\n",
    "\n",
    "```python\n",
    "sklearn.model_selection.train_test_split(*arrays, test_size=, random_state=)\n",
    "```\n",
    "*Parâmetros:*\n",
    "\n",
    "- arrays: aqui vc coloca X com as *features* e Y com o *target*\n",
    "- test_size:\n",
    "    - int: representa o número absoluto de amostras de teste\n",
    "    - float: valor dentro de [0,1] que representa a proporção dos dados que vai ser usada para teste\n",
    "- random_state: int que representa alguma coisa de embaralhamento dos dados\n",
    "\n",
    "*O que retorna:*\n",
    "\n",
    "retorna uma lista de arrays na seguinte ordem: x_treino, x_teste, y_treino, y_teste"
   ]
  },
  {
   "cell_type": "code",
   "execution_count": 347,
   "metadata": {},
   "outputs": [],
   "source": [
    "x_treino, x_teste, y_treino, y_teste = train_test_split(boston_dataset.data, boston_dataset.target, test_size=.2, random_state=42)"
   ]
  },
  {
   "cell_type": "markdown",
   "metadata": {},
   "source": [
    "**Treinamento do modelo de regressão linear**\n",
    "\n",
    "Vamos treinar com todas as *features*"
   ]
  },
  {
   "cell_type": "code",
   "execution_count": 348,
   "metadata": {},
   "outputs": [],
   "source": [
    "regressor = LinearRegression()"
   ]
  },
  {
   "cell_type": "code",
   "execution_count": 349,
   "metadata": {},
   "outputs": [
    {
     "data": {
      "text/plain": [
       "LinearRegression()"
      ]
     },
     "execution_count": 349,
     "metadata": {},
     "output_type": "execute_result"
    }
   ],
   "source": [
    "regressor.fit(x_treino, y_treino)"
   ]
  },
  {
   "cell_type": "markdown",
   "metadata": {},
   "source": [
    "O modelo linear foi treinado de acordo com as *features* de treino e *target*. **NÃO SE TREINA UM MODELO COM DADOS DE TESTE**\n",
    "\n",
    "Podemos resgatar algumas informações interessantes como:\n",
    "\n",
    "Coeficientes $\\beta_1, \\beta_2, \\dots, \\beta_{13}$"
   ]
  },
  {
   "cell_type": "code",
   "execution_count": 350,
   "metadata": {},
   "outputs": [
    {
     "data": {
      "text/plain": [
       "array([-1.13055924e-01,  3.01104641e-02,  4.03807204e-02,  2.78443820e+00,\n",
       "       -1.72026334e+01,  4.43883520e+00, -6.29636221e-03, -1.44786537e+00,\n",
       "        2.62429736e-01, -1.06467863e-02, -9.15456240e-01,  1.23513347e-02,\n",
       "       -5.08571424e-01])"
      ]
     },
     "execution_count": 350,
     "metadata": {},
     "output_type": "execute_result"
    }
   ],
   "source": [
    "regressor.coef_"
   ]
  },
  {
   "cell_type": "markdown",
   "metadata": {},
   "source": [
    "Termo independente $\\beta_0$"
   ]
  },
  {
   "cell_type": "code",
   "execution_count": 351,
   "metadata": {},
   "outputs": [
    {
     "data": {
      "text/plain": [
       "30.246750993923513"
      ]
     },
     "execution_count": 351,
     "metadata": {},
     "output_type": "execute_result"
    }
   ],
   "source": [
    "regressor.intercept_"
   ]
  },
  {
   "cell_type": "markdown",
   "metadata": {},
   "source": [
    "**Prevendo valores do *target* através dos dados de teste**\n",
    "\n",
    "Agora usamos nossos dados de teste"
   ]
  },
  {
   "cell_type": "code",
   "execution_count": 352,
   "metadata": {},
   "outputs": [],
   "source": [
    "previsto = regressor.predict(x_teste)"
   ]
  },
  {
   "cell_type": "code",
   "execution_count": 353,
   "metadata": {},
   "outputs": [
    {
     "data": {
      "text/plain": [
       "array([28.99672362, 36.02556534, 14.81694405, 25.03197915, 18.76987992])"
      ]
     },
     "execution_count": 353,
     "metadata": {},
     "output_type": "execute_result"
    }
   ],
   "source": [
    "previsto[:5]"
   ]
  },
  {
   "cell_type": "markdown",
   "metadata": {},
   "source": [
    "**Comparando com os valores esperados**"
   ]
  },
  {
   "cell_type": "code",
   "execution_count": 354,
   "metadata": {},
   "outputs": [
    {
     "data": {
      "text/plain": [
       "array([23.6, 32.4, 13.6, 22.8, 16.1])"
      ]
     },
     "execution_count": 354,
     "metadata": {},
     "output_type": "execute_result"
    }
   ],
   "source": [
    "y_teste[:5]"
   ]
  },
  {
   "cell_type": "markdown",
   "metadata": {},
   "source": [
    "percebe-se que não estão muito parecidos. Embora seja possível constatar visualmente que o predito não está bom, podemos usar as medidas de erro aprendidas nesse notebook\n",
    "\n",
    "**MSE - Mean Squared Error**\n",
    "\n",
    "Seu valor é sempre não negativo, e considera a **Média** dos erros. Como toda média, sofre com valores extremos. Ou seja, se você não tratou os *outliers* antes, essa medida será afetada. Quanto mais próximo do zero, melhor é a performance do modelo. Entretanto, seu valor sozinho só serve para **comparar modelos**, caso você gere modelos diferentes, ou o mesmo modelo, mas com *features* diferentes, usar o MSE é uma boa para dizer que modelo está melhor que o outro"
   ]
  },
  {
   "cell_type": "code",
   "execution_count": 355,
   "metadata": {},
   "outputs": [
    {
     "data": {
      "text/plain": [
       "24.291119474973588"
      ]
     },
     "execution_count": 355,
     "metadata": {},
     "output_type": "execute_result"
    }
   ],
   "source": [
    "mean_squared_error(y_true=y_teste, y_pred=previsto)"
   ]
  },
  {
   "cell_type": "markdown",
   "metadata": {},
   "source": [
    "**MedSE - Median Squared Error**\n",
    "\n",
    "Seu valor pode assumir qualquer valor Real. Essa medida de erro busca a **Mediana** dos erros de cada ponto, e é mais resistente aos *outliers*. Tal qual o MSE, seu valor sozinho é bom para comparação entre de modelos de regressão."
   ]
  },
  {
   "cell_type": "code",
   "execution_count": 356,
   "metadata": {},
   "outputs": [
    {
     "data": {
      "text/plain": [
       "2.32433190641245"
      ]
     },
     "execution_count": 356,
     "metadata": {},
     "output_type": "execute_result"
    }
   ],
   "source": [
    "median_absolute_error(y_true=y_teste, y_pred=previsto)"
   ]
  },
  {
   "cell_type": "markdown",
   "metadata": {},
   "source": [
    "**Coeficiente de Determinação $R^2$**\n",
    "\n",
    "Valor compreendido no intervalo [0,1]. Sua maneira de interpretar é simples: seu resultado reflete a proporção dos valores que o modelo consegue explicar.\n",
    "\n",
    "*Nota*: se for usar essa medida para comparar modelos diferentes, certifique-se que eles foram treinados com o mesmo número de variáveis, pois essa métrica aumenta seu valor à medida que se aumenta o número de features, ai não dá pra saber se, de fato, um modelo explica mais sobre os dados porque é bom ou porque tem mais variáveis\n",
    "\n",
    "*Nota 2*: o $R^2$ pode apresentar valores negativos se não tiver o intercepto incluso no modelo. Caso isso aconteça, repare na classe LinearRegression() se o parâmetro do intercepto está *setado*"
   ]
  },
  {
   "cell_type": "code",
   "execution_count": 357,
   "metadata": {},
   "outputs": [
    {
     "data": {
      "text/plain": [
       "0.668759493535631"
      ]
     },
     "execution_count": 357,
     "metadata": {},
     "output_type": "execute_result"
    }
   ],
   "source": [
    "r2_score(y_true=y_teste, y_pred=previsto)"
   ]
  },
  {
   "cell_type": "markdown",
   "metadata": {},
   "source": [
    "Portanto, esse modelo explica 66,88% da variação dos dados"
   ]
  },
  {
   "cell_type": "markdown",
   "metadata": {},
   "source": [
    "**Modo gráfico**\n",
    "\n",
    "Visualmente, podemos perceber se escolhemos boas variáveis para o modelo aprender sobre o `Target`, basta confrontar os valores do `Target` de teste com os valores previstos através do modelo"
   ]
  },
  {
   "cell_type": "code",
   "execution_count": 358,
   "metadata": {},
   "outputs": [
    {
     "data": {
      "image/png": "[encoded data removed]",
      "text/plain": [
       "<Figure size 432x288 with 1 Axes>"
      ]
     },
     "metadata": {
      "needs_background": "light"
     },
     "output_type": "display_data"
    }
   ],
   "source": [
    "plt.plot(y_teste, previsto, '.')\n",
    "plt.show()"
   ]
  },
  {
   "cell_type": "markdown",
   "metadata": {},
   "source": [
    "É possível perceber que existe uma linearidade, e que a falta de tratamento dos *outliers*, bem como a não padronização/normalização dos dados, está derrubando a performance do modelo"
   ]
  },
  {
   "cell_type": "markdown",
   "metadata": {},
   "source": [
    "**Prevendo o valor de uma tupla**\n",
    "\n",
    "Só para segmentar, o valor previsto do *target* é descrito como a combinação linear das variáveis escolhidas para o modelo. E nesse processo de treino, obteve-se um array de coeficientes $\\beta_1, \\beta_2, \\dots, \\beta_{13}$. Repare: podemos decompor a equação da combinação linear numa multiplicação de matrizes. Veja:\n",
    "\n",
    "$$target(X_1,\\dots,X_{13})=\\beta_0+\\beta_1X_1+\\dots+\\beta_{13}X_{13}=\\beta_0+\\begin{bmatrix}X_1& \\dots& X_{13}\\end{bmatrix}\\begin{bmatrix}\\beta_1\\\\ \\vdots \\\\ \\beta_{13}\\end{bmatrix}$$\n",
    "\n",
    "Assim, se eu quiser saber o valor de previsão de uma tupla, basta eu fazer um **produto escalar** entre o vetor da tupla e o dos coeficientes, e depois somar ao valor do intercepto. Então, vamos descobrir o valor do `Target` da primera tupla do *set* de treino"
   ]
  },
  {
   "cell_type": "code",
   "execution_count": 359,
   "metadata": {},
   "outputs": [
    {
     "data": {
      "text/plain": [
       "10.969524053507278"
      ]
     },
     "execution_count": 359,
     "metadata": {},
     "output_type": "execute_result"
    }
   ],
   "source": [
    "beta_0 = regressor.intercept_\n",
    "target_tupla_000 = beta_0 + x_treino[0, :].dot(regressor.coef_)\n",
    "target_tupla_000"
   ]
  },
  {
   "cell_type": "markdown",
   "metadata": {},
   "source": [
    "### Regressões Lineares Regularizadas"
   ]
  },
  {
   "cell_type": "markdown",
   "metadata": {},
   "source": [
    "**Regressão Linear Ridge**\n",
    "\n",
    "$$J^{\\text{ridge}}(\\hat{\\beta}) = \\frac{1}{n} \\sum_{1 \\leq i \\leq n} (y_{i} - \\hat{\\beta}_{0} - \\sum_{1 \\leq j \\leq p} \\hat{\\beta}_{j}x_{ij})^{2} + \\underbrace{\\lambda \\sum_{1 \\leq j \\leq p} \\hat{\\beta}_{j}^{2}}_{\\text{termo de regularização}}$$\n",
    "\n",
    "Para $\\lambda=0$, temos a já vista MSE que obtém os parâmetros $\\beta_1, \\dots, \\beta_p$. Perceba também que a porção de regularização começa em 1, justamente para não regularizar o intercepto $\\beta_0$.\n",
    "\n",
    "Graficamente, podemos ver como o hiperparâmetro de regularização $\\lambda$ influencia o MSE:\n",
    "\n",
    "![mse-lambda](https://drive.google.com/uc?export=download&id=196MmaQswPNPhBt46zttNJbffFny3bBGH)\n",
    "\n",
    "**curva preta:** representa a viés\n",
    "\n",
    "**curva verde:** representa o variânia\n",
    "\n",
    "**curva rosa:** representa a MSE\n",
    "\n",
    "**linha tracejada:** representa o erro irredutível\n",
    "\n",
    "Esse gráfico demonstra o *trade-off*, partindo de um estado de **Overfitting** (alta variância e baixo viés), para um de **Underfitting** (baixa variância e alto viés). Percebe-se que, no início, a taxa de queda da variância é mais acentuada que a taxa de crescimento do viés. Entretanto, a partir do valor do hiperparâmetro $\\lambda$, o viés tem taxa de crescimento alta e taxa de queda baixa. Encontrar o valor do hiperparâmetro é o que nos dá os valores dos coeficientes $\\beta_1, \\dots, \\beta_p$ que **minimizam a MSE**. E para obter o valor do $\\lambda$ que leva à essa situação, fazermos *cross-validarion*\n",
    "\n",
    "A regressão Ridge é muito resistente à covariância, pois lida muito bem com a alta variância.\n",
    "\n",
    "**Nota:** fazemos a **regularização apenas no momento de TREINO**, ou seja, com o *trainig set*\n",
    "\n",
    "**Nota 2:** os **dados devem estar PADRONIZADOS** no momento de treino\n",
    "\n",
    "A Regressão de Ridge também é chamada de Regressão $\\mathcal{l}_2$."
   ]
  },
  {
   "cell_type": "markdown",
   "metadata": {},
   "source": [
    "**Vamos praticar essa regressão com o *dataset* padronizado**"
   ]
  },
  {
   "cell_type": "code",
   "execution_count": 360,
   "metadata": {},
   "outputs": [],
   "source": [
    "padronizador = StandardScaler()"
   ]
  },
  {
   "cell_type": "code",
   "execution_count": 361,
   "metadata": {},
   "outputs": [],
   "source": [
    "x_treino_std = padronizador.fit_transform(x_treino)"
   ]
  },
  {
   "cell_type": "code",
   "execution_count": 362,
   "metadata": {},
   "outputs": [],
   "source": [
    "y_treino_std = padronizador.fit_transform(y_treino.reshape(-1, 1))"
   ]
  },
  {
   "cell_type": "code",
   "execution_count": 363,
   "metadata": {},
   "outputs": [],
   "source": [
    "x_teste_std = padronizador.fit_transform(x_teste)"
   ]
  },
  {
   "cell_type": "code",
   "execution_count": 364,
   "metadata": {},
   "outputs": [],
   "source": [
    "y_teste_std = padronizador.fit_transform(y_teste.reshape(-1, 1))"
   ]
  },
  {
   "cell_type": "markdown",
   "metadata": {},
   "source": [
    "Com os dados de treino padronizados, vamos treinar o modelo. Eu creio que `alpha` da classe `Ridge` seja o nosso $\\lambda$"
   ]
  },
  {
   "cell_type": "code",
   "execution_count": 365,
   "metadata": {},
   "outputs": [],
   "source": [
    "ridge_regressor = Ridge(alpha=1, solver='cholesky', fit_intercept=True)"
   ]
  },
  {
   "cell_type": "code",
   "execution_count": 366,
   "metadata": {},
   "outputs": [
    {
     "data": {
      "text/plain": [
       "Ridge(alpha=1, solver='cholesky')"
      ]
     },
     "execution_count": 366,
     "metadata": {},
     "output_type": "execute_result"
    }
   ],
   "source": [
    "ridge_regressor.fit(x_treino_std, y_treino)"
   ]
  },
  {
   "cell_type": "markdown",
   "metadata": {},
   "source": [
    "**Coeficientes e o intercepto**"
   ]
  },
  {
   "cell_type": "code",
   "execution_count": 367,
   "metadata": {},
   "outputs": [
    {
     "data": {
      "text/plain": [
       "array([-0.99218679,  0.6777488 ,  0.2522143 ,  0.72248078, -1.99083465,\n",
       "        3.15157218, -0.17726162, -3.04502895,  2.17324941, -1.69555879,\n",
       "       -2.02783351,  1.127197  , -3.59897667])"
      ]
     },
     "execution_count": 367,
     "metadata": {},
     "output_type": "execute_result"
    }
   ],
   "source": [
    "ridge_regressor.coef_"
   ]
  },
  {
   "cell_type": "code",
   "execution_count": 368,
   "metadata": {},
   "outputs": [
    {
     "data": {
      "text/plain": [
       "22.796534653465375"
      ]
     },
     "execution_count": 368,
     "metadata": {},
     "output_type": "execute_result"
    }
   ],
   "source": [
    "ridge_regressor.intercept_"
   ]
  },
  {
   "cell_type": "markdown",
   "metadata": {},
   "source": [
    "**Previsão com Ridge**"
   ]
  },
  {
   "cell_type": "code",
   "execution_count": 369,
   "metadata": {},
   "outputs": [],
   "source": [
    "previsto_ridge = ridge_regressor.predict(x_teste_std)"
   ]
  },
  {
   "cell_type": "markdown",
   "metadata": {},
   "source": [
    "**Vamos analisar os erros**\n",
    "\n",
    "*MSE*"
   ]
  },
  {
   "cell_type": "code",
   "execution_count": 370,
   "metadata": {},
   "outputs": [
    {
     "data": {
      "text/plain": [
       "27.401919702622887"
      ]
     },
     "execution_count": 370,
     "metadata": {},
     "output_type": "execute_result"
    }
   ],
   "source": [
    "mean_squared_error(y_true=y_teste, y_pred=previsto_ridge)"
   ]
  },
  {
   "cell_type": "markdown",
   "metadata": {},
   "source": [
    "*MedSE*"
   ]
  },
  {
   "cell_type": "code",
   "execution_count": 371,
   "metadata": {},
   "outputs": [
    {
     "data": {
      "text/plain": [
       "2.9686802590091013"
      ]
     },
     "execution_count": 371,
     "metadata": {},
     "output_type": "execute_result"
    }
   ],
   "source": [
    "median_absolute_error(y_true=y_teste, y_pred=previsto_ridge)"
   ]
  },
  {
   "cell_type": "markdown",
   "metadata": {},
   "source": [
    "*$R²$*"
   ]
  },
  {
   "cell_type": "code",
   "execution_count": 372,
   "metadata": {},
   "outputs": [
    {
     "data": {
      "text/plain": [
       "0.6263397506342121"
      ]
     },
     "execution_count": 372,
     "metadata": {},
     "output_type": "execute_result"
    }
   ],
   "source": [
    "r2_score(y_true=y_teste, y_pred=previsto_ridge)"
   ]
  },
  {
   "cell_type": "markdown",
   "metadata": {},
   "source": [
    "*Modo Gráfico*"
   ]
  },
  {
   "cell_type": "code",
   "execution_count": 373,
   "metadata": {},
   "outputs": [
    {
     "data": {
      "image/png": "[encoded data removed]",
      "text/plain": [
       "<Figure size 432x288 with 1 Axes>"
      ]
     },
     "metadata": {
      "needs_background": "light"
     },
     "output_type": "display_data"
    }
   ],
   "source": [
    "plt.plot(y_teste, previsto_ridge, '.')\n",
    "plt.show()"
   ]
  },
  {
   "cell_type": "markdown",
   "metadata": {},
   "source": [
    "*Podemos comparar tabularmente também*"
   ]
  },
  {
   "cell_type": "code",
   "execution_count": 374,
   "metadata": {},
   "outputs": [
    {
     "data": {
      "text/html": [
       "<div>\n",
       "<style scoped>\n",
       "    .dataframe tbody tr th:only-of-type {\n",
       "        vertical-align: middle;\n",
       "    }\n",
       "\n",
       "    .dataframe tbody tr th {\n",
       "        vertical-align: top;\n",
       "    }\n",
       "\n",
       "    .dataframe thead th {\n",
       "        text-align: right;\n",
       "    }\n",
       "</style>\n",
       "<table border=\"1\" class=\"dataframe\">\n",
       "  <thead>\n",
       "    <tr style=\"text-align: right;\">\n",
       "      <th></th>\n",
       "      <th>target_ridge</th>\n",
       "      <th>target_regressao</th>\n",
       "      <th>target_teste</th>\n",
       "    </tr>\n",
       "  </thead>\n",
       "  <tbody>\n",
       "    <tr>\n",
       "      <th>0</th>\n",
       "      <td>31.327134</td>\n",
       "      <td>28.996724</td>\n",
       "      <td>23.6</td>\n",
       "    </tr>\n",
       "    <tr>\n",
       "      <th>1</th>\n",
       "      <td>38.353747</td>\n",
       "      <td>36.025565</td>\n",
       "      <td>32.4</td>\n",
       "    </tr>\n",
       "    <tr>\n",
       "      <th>2</th>\n",
       "      <td>16.662772</td>\n",
       "      <td>14.816944</td>\n",
       "      <td>13.6</td>\n",
       "    </tr>\n",
       "    <tr>\n",
       "      <th>3</th>\n",
       "      <td>26.578092</td>\n",
       "      <td>25.031979</td>\n",
       "      <td>22.8</td>\n",
       "    </tr>\n",
       "    <tr>\n",
       "      <th>4</th>\n",
       "      <td>19.920463</td>\n",
       "      <td>18.769880</td>\n",
       "      <td>16.1</td>\n",
       "    </tr>\n",
       "    <tr>\n",
       "      <th>5</th>\n",
       "      <td>25.175862</td>\n",
       "      <td>23.254429</td>\n",
       "      <td>20.0</td>\n",
       "    </tr>\n",
       "    <tr>\n",
       "      <th>6</th>\n",
       "      <td>19.393308</td>\n",
       "      <td>17.662538</td>\n",
       "      <td>17.8</td>\n",
       "    </tr>\n",
       "    <tr>\n",
       "      <th>7</th>\n",
       "      <td>15.794558</td>\n",
       "      <td>14.341190</td>\n",
       "      <td>14.0</td>\n",
       "    </tr>\n",
       "  </tbody>\n",
       "</table>\n",
       "</div>"
      ],
      "text/plain": [
       "   target_ridge  target_regressao  target_teste\n",
       "0     31.327134         28.996724          23.6\n",
       "1     38.353747         36.025565          32.4\n",
       "2     16.662772         14.816944          13.6\n",
       "3     26.578092         25.031979          22.8\n",
       "4     19.920463         18.769880          16.1\n",
       "5     25.175862         23.254429          20.0\n",
       "6     19.393308         17.662538          17.8\n",
       "7     15.794558         14.341190          14.0"
      ]
     },
     "execution_count": 374,
     "metadata": {},
     "output_type": "execute_result"
    }
   ],
   "source": [
    "pd.DataFrame({'target_ridge': previsto_ridge.flatten(), 'target_regressao': previsto, 'target_teste': y_teste}).head(8)"
   ]
  },
  {
   "cell_type": "markdown",
   "metadata": {},
   "source": [
    "**Regressão Linear Lasso**\n",
    "\n",
    "LASSO (Least Absolute Shrinkage and Selection Operator) é uma outra maneira de regularizar **MSE**\n",
    "\n",
    "$$J^{\\text{LASSO}}(\\hat{\\beta}) = \\frac{1}{n} \\sum_{1 \\leq i \\leq n} (y_{i} - \\hat{\\beta}_{0} - \\sum_{1 \\leq j \\leq p} \\hat{\\beta}_{j}x_{ij})^{2} + \\underbrace{\\lambda \\sum_{1 \\leq j \\leq p} \\| \\hat{\\beta}_{j} \\|}_{\\text{termo de regularização}}$$\n",
    "\n",
    "Perceba que o termo de regularização é um pouco diferente, mas não modifica o intercepto. E essa diferença é sufuciente para fazer essa regressão ter um comportamento muito peculiar: ser capaz de zerar os coeficientes $\\beta_1, \\dots, \\beta_p$ que possuiem pouca relevância, como se fosse uma seleção de *features* embutida nesse modelo de regressão\n",
    "\n",
    "**Nota:** fazemos a **regularização apenas no momento de TREINO**, ou seja, com o *trainig set*\n",
    "\n",
    "**Nota 2:** os **dados devem estar PADRONIZADOS** no momento de treino\n",
    "\n",
    "A Regressão de Ridge também é chamada de Regressão $\\mathcal{l}_1$. "
   ]
  },
  {
   "cell_type": "code",
   "execution_count": 375,
   "metadata": {},
   "outputs": [],
   "source": [
    "lasso_regressor = Lasso(alpha=.5)"
   ]
  },
  {
   "cell_type": "code",
   "execution_count": 376,
   "metadata": {},
   "outputs": [
    {
     "data": {
      "text/plain": [
       "Lasso(alpha=0.5)"
      ]
     },
     "execution_count": 376,
     "metadata": {},
     "output_type": "execute_result"
    }
   ],
   "source": [
    "lasso_regressor.fit(x_treino_std, y_treino)"
   ]
  },
  {
   "cell_type": "markdown",
   "metadata": {},
   "source": [
    "**Coeficientes e intercepto**"
   ]
  },
  {
   "cell_type": "code",
   "execution_count": 377,
   "metadata": {},
   "outputs": [
    {
     "data": {
      "text/plain": [
       "22.79653465346538"
      ]
     },
     "execution_count": 377,
     "metadata": {},
     "output_type": "execute_result"
    }
   ],
   "source": [
    "lasso_regressor.intercept_"
   ]
  },
  {
   "cell_type": "code",
   "execution_count": 378,
   "metadata": {},
   "outputs": [
    {
     "data": {
      "text/plain": [
       "array([-0.30737992,  0.        , -0.        ,  0.40396576, -0.        ,\n",
       "        3.32512039, -0.        , -0.3333949 , -0.        , -0.        ,\n",
       "       -1.46416614,  0.80194371, -3.53546088])"
      ]
     },
     "execution_count": 378,
     "metadata": {},
     "output_type": "execute_result"
    }
   ],
   "source": [
    "lasso_regressor.coef_"
   ]
  },
  {
   "cell_type": "markdown",
   "metadata": {},
   "source": [
    "**Previsão com Lasso**"
   ]
  },
  {
   "cell_type": "code",
   "execution_count": 379,
   "metadata": {},
   "outputs": [],
   "source": [
    "previsto_lasso = lasso_regressor.predict(x_teste_std)"
   ]
  },
  {
   "cell_type": "markdown",
   "metadata": {},
   "source": [
    "**Análise de Erros**"
   ]
  },
  {
   "cell_type": "markdown",
   "metadata": {},
   "source": [
    "*MSE*"
   ]
  },
  {
   "cell_type": "code",
   "execution_count": 380,
   "metadata": {},
   "outputs": [
    {
     "data": {
      "text/plain": [
       "28.887699514722406"
      ]
     },
     "execution_count": 380,
     "metadata": {},
     "output_type": "execute_result"
    }
   ],
   "source": [
    "mean_squared_error(y_true=y_teste, y_pred=previsto_lasso)"
   ]
  },
  {
   "cell_type": "markdown",
   "metadata": {},
   "source": [
    "*MedSE*"
   ]
  },
  {
   "cell_type": "code",
   "execution_count": 381,
   "metadata": {},
   "outputs": [
    {
     "data": {
      "text/plain": [
       "2.9165732440979752"
      ]
     },
     "execution_count": 381,
     "metadata": {},
     "output_type": "execute_result"
    }
   ],
   "source": [
    "median_absolute_error(y_true=y_teste, y_pred=previsto_lasso)"
   ]
  },
  {
   "cell_type": "markdown",
   "metadata": {},
   "source": [
    "*$R^2$*"
   ]
  },
  {
   "cell_type": "code",
   "execution_count": 382,
   "metadata": {},
   "outputs": [
    {
     "data": {
      "text/plain": [
       "0.6060792411109097"
      ]
     },
     "execution_count": 382,
     "metadata": {},
     "output_type": "execute_result"
    }
   ],
   "source": [
    "r2_score(y_true=y_teste, y_pred=previsto_lasso)"
   ]
  },
  {
   "cell_type": "markdown",
   "metadata": {},
   "source": [
    "*$R^2$ ajustado para k = 8 (7 features + 1 intercepto)*"
   ]
  },
  {
   "cell_type": "code",
   "execution_count": 383,
   "metadata": {},
   "outputs": [
    {
     "data": {
      "text/plain": [
       "0.5721935844322783"
      ]
     },
     "execution_count": 383,
     "metadata": {},
     "output_type": "execute_result"
    }
   ],
   "source": [
    "1 - (1 - r2_score(y_true=y_teste, y_pred=previsto_lasso)) * (y_teste.size - 1) / (y_teste.size - (8 + 1))"
   ]
  },
  {
   "cell_type": "markdown",
   "metadata": {},
   "source": [
    "*Graficamente*"
   ]
  },
  {
   "cell_type": "code",
   "execution_count": 384,
   "metadata": {},
   "outputs": [
    {
     "data": {
      "image/png": "[encoded data removed]",
      "text/plain": [
       "<Figure size 432x288 with 1 Axes>"
      ]
     },
     "metadata": {
      "needs_background": "light"
     },
     "output_type": "display_data"
    }
   ],
   "source": [
    "plt.plot(y_teste, previsto_lasso, '.')\n",
    "plt.show()"
   ]
  },
  {
   "cell_type": "markdown",
   "metadata": {},
   "source": [
    "*Tabularmente*"
   ]
  },
  {
   "cell_type": "code",
   "execution_count": 385,
   "metadata": {},
   "outputs": [
    {
     "data": {
      "text/html": [
       "<div>\n",
       "<style scoped>\n",
       "    .dataframe tbody tr th:only-of-type {\n",
       "        vertical-align: middle;\n",
       "    }\n",
       "\n",
       "    .dataframe tbody tr th {\n",
       "        vertical-align: top;\n",
       "    }\n",
       "\n",
       "    .dataframe thead th {\n",
       "        text-align: right;\n",
       "    }\n",
       "</style>\n",
       "<table border=\"1\" class=\"dataframe\">\n",
       "  <thead>\n",
       "    <tr style=\"text-align: right;\">\n",
       "      <th></th>\n",
       "      <th>target_ridge</th>\n",
       "      <th>target_lasso</th>\n",
       "      <th>target_regressao</th>\n",
       "      <th>target_teste</th>\n",
       "    </tr>\n",
       "  </thead>\n",
       "  <tbody>\n",
       "    <tr>\n",
       "      <th>0</th>\n",
       "      <td>31.327134</td>\n",
       "      <td>28.753071</td>\n",
       "      <td>28.996724</td>\n",
       "      <td>23.6</td>\n",
       "    </tr>\n",
       "    <tr>\n",
       "      <th>1</th>\n",
       "      <td>38.353747</td>\n",
       "      <td>33.851945</td>\n",
       "      <td>36.025565</td>\n",
       "      <td>32.4</td>\n",
       "    </tr>\n",
       "    <tr>\n",
       "      <th>2</th>\n",
       "      <td>16.662772</td>\n",
       "      <td>19.365964</td>\n",
       "      <td>14.816944</td>\n",
       "      <td>13.6</td>\n",
       "    </tr>\n",
       "    <tr>\n",
       "      <th>3</th>\n",
       "      <td>26.578092</td>\n",
       "      <td>26.106978</td>\n",
       "      <td>25.031979</td>\n",
       "      <td>22.8</td>\n",
       "    </tr>\n",
       "    <tr>\n",
       "      <th>4</th>\n",
       "      <td>19.920463</td>\n",
       "      <td>20.922822</td>\n",
       "      <td>18.769880</td>\n",
       "      <td>16.1</td>\n",
       "    </tr>\n",
       "    <tr>\n",
       "      <th>5</th>\n",
       "      <td>25.175862</td>\n",
       "      <td>24.481583</td>\n",
       "      <td>23.254429</td>\n",
       "      <td>20.0</td>\n",
       "    </tr>\n",
       "    <tr>\n",
       "      <th>6</th>\n",
       "      <td>19.393308</td>\n",
       "      <td>19.921782</td>\n",
       "      <td>17.662538</td>\n",
       "      <td>17.8</td>\n",
       "    </tr>\n",
       "    <tr>\n",
       "      <th>7</th>\n",
       "      <td>15.794558</td>\n",
       "      <td>16.458811</td>\n",
       "      <td>14.341190</td>\n",
       "      <td>14.0</td>\n",
       "    </tr>\n",
       "  </tbody>\n",
       "</table>\n",
       "</div>"
      ],
      "text/plain": [
       "   target_ridge  target_lasso  target_regressao  target_teste\n",
       "0     31.327134     28.753071         28.996724          23.6\n",
       "1     38.353747     33.851945         36.025565          32.4\n",
       "2     16.662772     19.365964         14.816944          13.6\n",
       "3     26.578092     26.106978         25.031979          22.8\n",
       "4     19.920463     20.922822         18.769880          16.1\n",
       "5     25.175862     24.481583         23.254429          20.0\n",
       "6     19.393308     19.921782         17.662538          17.8\n",
       "7     15.794558     16.458811         14.341190          14.0"
      ]
     },
     "execution_count": 385,
     "metadata": {},
     "output_type": "execute_result"
    }
   ],
   "source": [
    "pd.DataFrame({'target_ridge': previsto_ridge.flatten(), 'target_lasso': previsto_lasso.flatten(), 'target_regressao': previsto, 'target_teste': y_teste}).head(8)"
   ]
  },
  {
   "cell_type": "markdown",
   "metadata": {},
   "source": [
    "**Perceba:** os valores de validação de erro para Lasso e Ridge foram bem parecidos. Entretanto, como na regressão Lasso 6 variáveis tiveram seus coeficientes zerados, pode-se perceber que conseguimos ter uma mesma performance com menos *features*.\n",
    "\n",
    "**Nota:** Não tratamos os *outliers*, essas regressões faziam parte do objetivo de entender a teoria e aplicação dela"
   ]
  }
 ],
 "metadata": {
  "kernelspec": {
   "display_name": "Python 3",
   "language": "python",
   "name": "python3"
  },
  "language_info": {
   "codemirror_mode": {
    "name": "ipython",
    "version": 3
   },
   "file_extension": ".py",
   "mimetype": "text/x-python",
   "name": "python",
   "nbconvert_exporter": "python",
   "pygments_lexer": "ipython3",
   "version": "3.8.2"
  }
 },
 "nbformat": 4,
 "nbformat_minor": 4
}
