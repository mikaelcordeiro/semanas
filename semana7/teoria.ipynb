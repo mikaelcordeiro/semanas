{
 "cells": [
  {
   "cell_type": "markdown",
   "metadata": {},
   "source": [
    "# Semana 7 do Aceleradev DS Codenation\n",
    "\n",
    "### Professor: Kazuki Yokoyama | Tema: Feature Engineering"
   ]
  },
  {
   "cell_type": "code",
   "execution_count": 1,
   "metadata": {},
   "outputs": [],
   "source": [
    "import numpy as np\n",
    "import pandas as pd\n",
    "import matplotlib.pyplot as plt"
   ]
  },
  {
   "cell_type": "markdown",
   "metadata": {},
   "source": [
    "## O que é Feature Engeeniring?\n",
    "\n",
    "Todo modelo de aprendizado de máquinas é alimentado com dados, que precisam ser trabalhados para que o modelo aprenda adequadamente e retorne boa predições. Isso é *engenharia de features*! muitas vezes os dados estão fora de escala, ou um dado categórico, se transformado em categoria numérica, pode enriquecer os dados de treino. Essa habilidade do DS é muito importante no processo, pois os dados não vêm *bonitinhos* prontos para serem consumidos, eles precisam ser *engenheirados* primeiro, e grande parte do tempo gasto na resolução de um problema com ML, é nessa etapa. Diante disso, a qualidade dela é diretamente proporcional a do modelo preditivo"
   ]
  },
  {
   "cell_type": "markdown",
   "metadata": {},
   "source": [
    "**Fixando uma seed**"
   ]
  },
  {
   "cell_type": "code",
   "execution_count": 2,
   "metadata": {},
   "outputs": [],
   "source": [
    "np.random.seed(1000)"
   ]
  },
  {
   "cell_type": "markdown",
   "metadata": {},
   "source": [
    "**Criação de DataFrame Aleatório com variáveis categóricas e numéricas**"
   ]
  },
  {
   "cell_type": "code",
   "execution_count": 3,
   "metadata": {},
   "outputs": [],
   "source": [
    "linhas = 100"
   ]
  },
  {
   "cell_type": "code",
   "execution_count": 4,
   "metadata": {},
   "outputs": [],
   "source": [
    "altura = np.random.normal(loc=1.7, scale=.2, size=linhas).round(3)\n",
    "ponto = np.random.normal(loc=7, scale=1,size=linhas).round(3)\n",
    "cursos = ['mat', 'fis', 'bio']\n",
    "curso = np.random.choice(a=cursos, size=linhas)"
   ]
  },
  {
   "cell_type": "code",
   "execution_count": 5,
   "metadata": {},
   "outputs": [
    {
     "data": {
      "text/html": [
       "<div>\n",
       "<style scoped>\n",
       "    .dataframe tbody tr th:only-of-type {\n",
       "        vertical-align: middle;\n",
       "    }\n",
       "\n",
       "    .dataframe tbody tr th {\n",
       "        vertical-align: top;\n",
       "    }\n",
       "\n",
       "    .dataframe thead th {\n",
       "        text-align: right;\n",
       "    }\n",
       "</style>\n",
       "<table border=\"1\" class=\"dataframe\">\n",
       "  <thead>\n",
       "    <tr style=\"text-align: right;\">\n",
       "      <th></th>\n",
       "      <th>altura</th>\n",
       "      <th>ponto</th>\n",
       "      <th>curso</th>\n",
       "    </tr>\n",
       "  </thead>\n",
       "  <tbody>\n",
       "    <tr>\n",
       "      <th>0</th>\n",
       "      <td>1.539</td>\n",
       "      <td>6.610</td>\n",
       "      <td>bio</td>\n",
       "    </tr>\n",
       "    <tr>\n",
       "      <th>1</th>\n",
       "      <td>1.764</td>\n",
       "      <td>6.419</td>\n",
       "      <td>bio</td>\n",
       "    </tr>\n",
       "    <tr>\n",
       "      <th>2</th>\n",
       "      <td>1.695</td>\n",
       "      <td>8.949</td>\n",
       "      <td>bio</td>\n",
       "    </tr>\n",
       "    <tr>\n",
       "      <th>3</th>\n",
       "      <td>1.829</td>\n",
       "      <td>5.137</td>\n",
       "      <td>bio</td>\n",
       "    </tr>\n",
       "    <tr>\n",
       "      <th>4</th>\n",
       "      <td>1.640</td>\n",
       "      <td>6.432</td>\n",
       "      <td>fis</td>\n",
       "    </tr>\n",
       "  </tbody>\n",
       "</table>\n",
       "</div>"
      ],
      "text/plain": [
       "   altura  ponto curso\n",
       "0   1.539  6.610   bio\n",
       "1   1.764  6.419   bio\n",
       "2   1.695  8.949   bio\n",
       "3   1.829  5.137   bio\n",
       "4   1.640  6.432   fis"
      ]
     },
     "execution_count": 5,
     "metadata": {},
     "output_type": "execute_result"
    }
   ],
   "source": [
    "df = pd.DataFrame({'altura': altura,\n",
    "                  'ponto': ponto,\n",
    "                  'curso': curso})\n",
    "df.head()"
   ]
  },
  {
   "cell_type": "markdown",
   "metadata": {},
   "source": [
    "`df` é uma tabela que contém três variáveis, duas **numéricas** e uma **categórica**"
   ]
  },
  {
   "cell_type": "markdown",
   "metadata": {},
   "source": [
    "## Começando a Engenharia de Features\n",
    "\n",
    "### Variáveis Categóricas"
   ]
  },
  {
   "cell_type": "markdown",
   "metadata": {},
   "source": [
    "**One-hot Encoding:** As $n$ categorias da variável categórica serão usadas para criação de novas colunas na sua tabela. Cada categoria representará uma coluna. Como uma tupla consegue ter apenas uma categoria, a coluna correspondente à categoria terá o valor 1 (Hot) preenchido, enquanto as demais terão 0 (Cold) preenchido. Perceba que teremos novas variáveis **binarias** em nosso `df`"
   ]
  },
  {
   "cell_type": "markdown",
   "metadata": {},
   "source": [
    "Para fazer isso, usaremos uma classe do sklearn.preprocessing, o **OneHotEncoder**\n",
    "\n",
    "```python\n",
    "sklearn.preprocessing.OneHotEncoder(sparse=False, dtype=np.uint8)\n",
    "```\n",
    "\n",
    "**Nota:** caso deixe `sparse=True`, vc terá uma matriz `sparse matrix`. Ela economiza mais memória, mas não mostra a matriz diretamente. Para revelar então\n",
    "\n",
    "```python\n",
    "sparse_matrix.toarray()\n",
    "```"
   ]
  },
  {
   "cell_type": "code",
   "execution_count": 6,
   "metadata": {},
   "outputs": [],
   "source": [
    "from sklearn.preprocessing import OneHotEncoder"
   ]
  },
  {
   "cell_type": "code",
   "execution_count": 7,
   "metadata": {},
   "outputs": [],
   "source": [
    "one_hot_enc = OneHotEncoder(sparse=False, dtype=np.uint8)"
   ]
  },
  {
   "cell_type": "code",
   "execution_count": 8,
   "metadata": {},
   "outputs": [],
   "source": [
    "course_enc = one_hot_enc.fit_transform(df[['curso']])  # lembre de colocar [[]] pro atributo entender que é um (n x 1)"
   ]
  },
  {
   "cell_type": "code",
   "execution_count": 9,
   "metadata": {},
   "outputs": [
    {
     "data": {
      "text/plain": [
       "(100, 3)"
      ]
     },
     "execution_count": 9,
     "metadata": {},
     "output_type": "execute_result"
    }
   ],
   "source": [
    "course_enc.shape"
   ]
  },
  {
   "cell_type": "code",
   "execution_count": 10,
   "metadata": {},
   "outputs": [
    {
     "data": {
      "text/plain": [
       "array([[1, 0, 0],\n",
       "       [1, 0, 0],\n",
       "       [1, 0, 0],\n",
       "       [1, 0, 0],\n",
       "       [0, 1, 0]], dtype=uint8)"
      ]
     },
     "execution_count": 10,
     "metadata": {},
     "output_type": "execute_result"
    }
   ],
   "source": [
    "course_enc[:5]"
   ]
  },
  {
   "cell_type": "code",
   "execution_count": 11,
   "metadata": {},
   "outputs": [
    {
     "data": {
      "text/plain": [
       "[array(['bio', 'fis', 'mat'], dtype=object)]"
      ]
     },
     "execution_count": 11,
     "metadata": {},
     "output_type": "execute_result"
    }
   ],
   "source": [
    "one_hot_enc.categories_"
   ]
  },
  {
   "cell_type": "code",
   "execution_count": 12,
   "metadata": {},
   "outputs": [],
   "source": [
    "cat_columns = one_hot_enc.categories_[0]"
   ]
  },
  {
   "cell_type": "markdown",
   "metadata": {},
   "source": [
    "Podemos concatenar essas informações ao `df`"
   ]
  },
  {
   "cell_type": "code",
   "execution_count": 13,
   "metadata": {},
   "outputs": [
    {
     "data": {
      "text/html": [
       "<div>\n",
       "<style scoped>\n",
       "    .dataframe tbody tr th:only-of-type {\n",
       "        vertical-align: middle;\n",
       "    }\n",
       "\n",
       "    .dataframe tbody tr th {\n",
       "        vertical-align: top;\n",
       "    }\n",
       "\n",
       "    .dataframe thead th {\n",
       "        text-align: right;\n",
       "    }\n",
       "</style>\n",
       "<table border=\"1\" class=\"dataframe\">\n",
       "  <thead>\n",
       "    <tr style=\"text-align: right;\">\n",
       "      <th></th>\n",
       "      <th>altura</th>\n",
       "      <th>ponto</th>\n",
       "      <th>curso</th>\n",
       "      <th>bio</th>\n",
       "      <th>fis</th>\n",
       "      <th>mat</th>\n",
       "    </tr>\n",
       "  </thead>\n",
       "  <tbody>\n",
       "    <tr>\n",
       "      <th>0</th>\n",
       "      <td>1.539</td>\n",
       "      <td>6.610</td>\n",
       "      <td>bio</td>\n",
       "      <td>1</td>\n",
       "      <td>0</td>\n",
       "      <td>0</td>\n",
       "    </tr>\n",
       "    <tr>\n",
       "      <th>1</th>\n",
       "      <td>1.764</td>\n",
       "      <td>6.419</td>\n",
       "      <td>bio</td>\n",
       "      <td>1</td>\n",
       "      <td>0</td>\n",
       "      <td>0</td>\n",
       "    </tr>\n",
       "    <tr>\n",
       "      <th>2</th>\n",
       "      <td>1.695</td>\n",
       "      <td>8.949</td>\n",
       "      <td>bio</td>\n",
       "      <td>1</td>\n",
       "      <td>0</td>\n",
       "      <td>0</td>\n",
       "    </tr>\n",
       "    <tr>\n",
       "      <th>3</th>\n",
       "      <td>1.829</td>\n",
       "      <td>5.137</td>\n",
       "      <td>bio</td>\n",
       "      <td>1</td>\n",
       "      <td>0</td>\n",
       "      <td>0</td>\n",
       "    </tr>\n",
       "    <tr>\n",
       "      <th>4</th>\n",
       "      <td>1.640</td>\n",
       "      <td>6.432</td>\n",
       "      <td>fis</td>\n",
       "      <td>0</td>\n",
       "      <td>1</td>\n",
       "      <td>0</td>\n",
       "    </tr>\n",
       "  </tbody>\n",
       "</table>\n",
       "</div>"
      ],
      "text/plain": [
       "   altura  ponto curso  bio  fis  mat\n",
       "0   1.539  6.610   bio    1    0    0\n",
       "1   1.764  6.419   bio    1    0    0\n",
       "2   1.695  8.949   bio    1    0    0\n",
       "3   1.829  5.137   bio    1    0    0\n",
       "4   1.640  6.432   fis    0    1    0"
      ]
     },
     "execution_count": 13,
     "metadata": {},
     "output_type": "execute_result"
    }
   ],
   "source": [
    "df_dois = df.join(pd.DataFrame(course_enc, columns=cat_columns))\n",
    "df_dois.head()"
   ]
  },
  {
   "cell_type": "markdown",
   "metadata": {},
   "source": [
    "**Binarização:** Processo que discretiza uma variável numérica contínua, tendo um certo *limite* como parâmetro. O valor **acima do limite** recebe 1, já **abaixo do limite** recebe 0"
   ]
  },
  {
   "cell_type": "markdown",
   "metadata": {},
   "source": [
    "Para fazer isso, usaremos uma classe do sklearn.preprocessing, o **Binarizer**\n",
    "```python\n",
    "sklearn.preprocessing.Binarizer(threshold=float)\n",
    "```"
   ]
  },
  {
   "cell_type": "code",
   "execution_count": 14,
   "metadata": {},
   "outputs": [],
   "source": [
    "from sklearn.preprocessing import Binarizer"
   ]
  },
  {
   "cell_type": "markdown",
   "metadata": {},
   "source": [
    "O limite para `altura` será de 1.8"
   ]
  },
  {
   "cell_type": "code",
   "execution_count": 15,
   "metadata": {},
   "outputs": [],
   "source": [
    "binarizer = Binarizer(threshold=1.8)"
   ]
  },
  {
   "cell_type": "code",
   "execution_count": 16,
   "metadata": {},
   "outputs": [],
   "source": [
    "binary = binarizer.fit_transform(df[['altura']])"
   ]
  },
  {
   "cell_type": "code",
   "execution_count": 17,
   "metadata": {},
   "outputs": [
    {
     "data": {
      "text/plain": [
       "array([0., 0., 0., 1., 0., 0., 0., 0., 1., 0., 1., 0., 0., 0., 0., 0., 0.,\n",
       "       1., 1., 0., 0., 0., 0., 1., 0., 1., 0., 0., 0., 1., 0., 0., 0., 0.,\n",
       "       0., 1., 0., 0., 0., 1., 0., 1., 1., 1., 0., 0., 0., 0., 0., 0., 1.,\n",
       "       1., 0., 0., 1., 0., 0., 0., 1., 1., 0., 0., 0., 1., 0., 0., 1., 0.,\n",
       "       1., 0., 0., 0., 0., 0., 0., 1., 0., 1., 0., 1., 0., 1., 0., 0., 1.,\n",
       "       1., 0., 0., 1., 1., 0., 1., 0., 0., 0., 1., 1., 0., 0., 1.])"
      ]
     },
     "execution_count": 17,
     "metadata": {},
     "output_type": "execute_result"
    }
   ],
   "source": [
    "binary.flatten()"
   ]
  },
  {
   "cell_type": "code",
   "execution_count": 18,
   "metadata": {},
   "outputs": [
    {
     "data": {
      "text/html": [
       "<div>\n",
       "<style scoped>\n",
       "    .dataframe tbody tr th:only-of-type {\n",
       "        vertical-align: middle;\n",
       "    }\n",
       "\n",
       "    .dataframe tbody tr th {\n",
       "        vertical-align: top;\n",
       "    }\n",
       "\n",
       "    .dataframe thead th {\n",
       "        text-align: right;\n",
       "    }\n",
       "</style>\n",
       "<table border=\"1\" class=\"dataframe\">\n",
       "  <thead>\n",
       "    <tr style=\"text-align: right;\">\n",
       "      <th></th>\n",
       "      <th>altura</th>\n",
       "      <th>ponto</th>\n",
       "      <th>curso</th>\n",
       "      <th>bio</th>\n",
       "      <th>fis</th>\n",
       "      <th>mat</th>\n",
       "      <th>alto</th>\n",
       "    </tr>\n",
       "  </thead>\n",
       "  <tbody>\n",
       "    <tr>\n",
       "      <th>0</th>\n",
       "      <td>1.539</td>\n",
       "      <td>6.610</td>\n",
       "      <td>bio</td>\n",
       "      <td>1</td>\n",
       "      <td>0</td>\n",
       "      <td>0</td>\n",
       "      <td>0.0</td>\n",
       "    </tr>\n",
       "    <tr>\n",
       "      <th>1</th>\n",
       "      <td>1.764</td>\n",
       "      <td>6.419</td>\n",
       "      <td>bio</td>\n",
       "      <td>1</td>\n",
       "      <td>0</td>\n",
       "      <td>0</td>\n",
       "      <td>0.0</td>\n",
       "    </tr>\n",
       "    <tr>\n",
       "      <th>2</th>\n",
       "      <td>1.695</td>\n",
       "      <td>8.949</td>\n",
       "      <td>bio</td>\n",
       "      <td>1</td>\n",
       "      <td>0</td>\n",
       "      <td>0</td>\n",
       "      <td>0.0</td>\n",
       "    </tr>\n",
       "    <tr>\n",
       "      <th>3</th>\n",
       "      <td>1.829</td>\n",
       "      <td>5.137</td>\n",
       "      <td>bio</td>\n",
       "      <td>1</td>\n",
       "      <td>0</td>\n",
       "      <td>0</td>\n",
       "      <td>1.0</td>\n",
       "    </tr>\n",
       "    <tr>\n",
       "      <th>4</th>\n",
       "      <td>1.640</td>\n",
       "      <td>6.432</td>\n",
       "      <td>fis</td>\n",
       "      <td>0</td>\n",
       "      <td>1</td>\n",
       "      <td>0</td>\n",
       "      <td>0.0</td>\n",
       "    </tr>\n",
       "  </tbody>\n",
       "</table>\n",
       "</div>"
      ],
      "text/plain": [
       "   altura  ponto curso  bio  fis  mat  alto\n",
       "0   1.539  6.610   bio    1    0    0   0.0\n",
       "1   1.764  6.419   bio    1    0    0   0.0\n",
       "2   1.695  8.949   bio    1    0    0   0.0\n",
       "3   1.829  5.137   bio    1    0    0   1.0\n",
       "4   1.640  6.432   fis    0    1    0   0.0"
      ]
     },
     "execution_count": 18,
     "metadata": {},
     "output_type": "execute_result"
    }
   ],
   "source": [
    "df_tres = df_dois.join(pd.Series(binary.flatten(), name='alto'))\n",
    "df_tres.head()"
   ]
  },
  {
   "cell_type": "markdown",
   "metadata": {},
   "source": [
    "**Intervalo de Classes (Binnig):** Também conhecido como discretização, seu papel é categorizar variáveis numéricas contínuas, sendo a categoria um intervalo que contém a informação\n",
    "\n",
    "$$2.456 \\subset 2\\vdash3$$\n",
    "\n",
    "Com **sklearn**:\n",
    "```python\n",
    "sklearn.preprocessing.KBinsDiscretizer(n_bins=int, encode=, strategy=)\n",
    "```\n",
    "*Parâmetros:*\n",
    "\n",
    "- encode: {'onehot', 'ordinal'}\n",
    "    - 'onehot': resulta uma `sparse matrix` de *one-hot encoding*\n",
    "    - 'ordinal': resulta inteiros que correspondem à qual intervalo de classe o valor pertence\n",
    "- strategy: {'uniform', 'quantile'}\n",
    "    - uniform: faz intervalos de classe de tamanhos iguais\n",
    "    - quantile: faz intervalos de modo a terem a mesma frequência\n",
    "\n",
    "**Atributos:**\n",
    "\n",
    "- KBinsDiscretizer().bin_edges_: retorna um array com os limites dos intervalos de classes"
   ]
  },
  {
   "cell_type": "markdown",
   "metadata": {},
   "source": [
    "Com **pandas**\n",
    "```python\n",
    "pd.cut(x=1-d array, bins=, labels=None)\n",
    "```\n",
    "*Parâmetros:*\n",
    "\n",
    "- bins: int ou list\n",
    "    - int: gera *int* intervalos de classes\n",
    "    - list: usa os valores de *list* para fazer os intervalos\n",
    "- labels: list ou None\n",
    "    - list: podem ser uma lista de *strings*. Para bins=3, labels=['ruim', 'medio', 'bom']"
   ]
  },
  {
   "cell_type": "code",
   "execution_count": 112,
   "metadata": {},
   "outputs": [],
   "source": [
    "from sklearn.preprocessing import KBinsDiscretizer"
   ]
  },
  {
   "cell_type": "code",
   "execution_count": 113,
   "metadata": {},
   "outputs": [],
   "source": [
    "binning = KBinsDiscretizer(n_bins=4, encode='onehot', strategy='uniform')"
   ]
  },
  {
   "cell_type": "code",
   "execution_count": 114,
   "metadata": {},
   "outputs": [],
   "source": [
    "one_hot_binning = binning.fit_transform(df[['ponto']]).toarray()  # colunas onehot"
   ]
  },
  {
   "cell_type": "code",
   "execution_count": 115,
   "metadata": {},
   "outputs": [
    {
     "data": {
      "text/plain": [
       "array([4.094  , 5.39025, 6.6865 , 7.98275, 9.279  ])"
      ]
     },
     "execution_count": 115,
     "metadata": {},
     "output_type": "execute_result"
    }
   ],
   "source": [
    "limites_intervalos = binning.bin_edges_\n",
    "limites_intervalos[0]"
   ]
  },
  {
   "cell_type": "code",
   "execution_count": 141,
   "metadata": {},
   "outputs": [
    {
     "data": {
      "text/plain": [
       "[(5.39, 6.687], (7.983, 9.279], (4.089, 5.39], (6.687, 7.983]]\n",
       "Categories (4, interval[float64]): [(4.089, 5.39] < (5.39, 6.687] < (6.687, 7.983] < (7.983, 9.279]]"
      ]
     },
     "execution_count": 141,
     "metadata": {},
     "output_type": "execute_result"
    }
   ],
   "source": [
    "intervalos = pd.cut(df_tres['ponto'], bins=4)\n",
    "intervalos.unique()"
   ]
  },
  {
   "cell_type": "markdown",
   "metadata": {},
   "source": [
    "**Nota:** use os intervalos do **cut**, mesmo sendo possível passar os advindos do **KBinsDiscretizer()**. Devido à arredondamentos diferentes, pode ser que apareçam valores com NaN. Portanto, na função **pd.cut()**, use a **mesma quantidade de bins** passada em **KBinsDiscretizer()**"
   ]
  },
  {
   "cell_type": "code",
   "execution_count": 146,
   "metadata": {},
   "outputs": [
    {
     "data": {
      "text/html": [
       "<div>\n",
       "<style scoped>\n",
       "    .dataframe tbody tr th:only-of-type {\n",
       "        vertical-align: middle;\n",
       "    }\n",
       "\n",
       "    .dataframe tbody tr th {\n",
       "        vertical-align: top;\n",
       "    }\n",
       "\n",
       "    .dataframe thead th {\n",
       "        text-align: right;\n",
       "    }\n",
       "</style>\n",
       "<table border=\"1\" class=\"dataframe\">\n",
       "  <thead>\n",
       "    <tr style=\"text-align: right;\">\n",
       "      <th></th>\n",
       "      <th>altura</th>\n",
       "      <th>ponto</th>\n",
       "      <th>curso</th>\n",
       "      <th>bio</th>\n",
       "      <th>fis</th>\n",
       "      <th>mat</th>\n",
       "      <th>alto</th>\n",
       "      <th>(5.39, 6.687]</th>\n",
       "      <th>(7.983, 9.279]</th>\n",
       "      <th>(4.089, 5.39]</th>\n",
       "      <th>(6.687, 7.983]</th>\n",
       "    </tr>\n",
       "  </thead>\n",
       "  <tbody>\n",
       "    <tr>\n",
       "      <th>0</th>\n",
       "      <td>1.539</td>\n",
       "      <td>6.610</td>\n",
       "      <td>bio</td>\n",
       "      <td>1</td>\n",
       "      <td>0</td>\n",
       "      <td>0</td>\n",
       "      <td>0.0</td>\n",
       "      <td>0.0</td>\n",
       "      <td>1.0</td>\n",
       "      <td>0.0</td>\n",
       "      <td>0.0</td>\n",
       "    </tr>\n",
       "    <tr>\n",
       "      <th>1</th>\n",
       "      <td>1.764</td>\n",
       "      <td>6.419</td>\n",
       "      <td>bio</td>\n",
       "      <td>1</td>\n",
       "      <td>0</td>\n",
       "      <td>0</td>\n",
       "      <td>0.0</td>\n",
       "      <td>0.0</td>\n",
       "      <td>1.0</td>\n",
       "      <td>0.0</td>\n",
       "      <td>0.0</td>\n",
       "    </tr>\n",
       "    <tr>\n",
       "      <th>2</th>\n",
       "      <td>1.695</td>\n",
       "      <td>8.949</td>\n",
       "      <td>bio</td>\n",
       "      <td>1</td>\n",
       "      <td>0</td>\n",
       "      <td>0</td>\n",
       "      <td>0.0</td>\n",
       "      <td>0.0</td>\n",
       "      <td>0.0</td>\n",
       "      <td>0.0</td>\n",
       "      <td>1.0</td>\n",
       "    </tr>\n",
       "    <tr>\n",
       "      <th>3</th>\n",
       "      <td>1.829</td>\n",
       "      <td>5.137</td>\n",
       "      <td>bio</td>\n",
       "      <td>1</td>\n",
       "      <td>0</td>\n",
       "      <td>0</td>\n",
       "      <td>1.0</td>\n",
       "      <td>1.0</td>\n",
       "      <td>0.0</td>\n",
       "      <td>0.0</td>\n",
       "      <td>0.0</td>\n",
       "    </tr>\n",
       "    <tr>\n",
       "      <th>4</th>\n",
       "      <td>1.640</td>\n",
       "      <td>6.432</td>\n",
       "      <td>fis</td>\n",
       "      <td>0</td>\n",
       "      <td>1</td>\n",
       "      <td>0</td>\n",
       "      <td>0.0</td>\n",
       "      <td>0.0</td>\n",
       "      <td>1.0</td>\n",
       "      <td>0.0</td>\n",
       "      <td>0.0</td>\n",
       "    </tr>\n",
       "  </tbody>\n",
       "</table>\n",
       "</div>"
      ],
      "text/plain": [
       "   altura  ponto curso  bio  fis  mat  alto  (5.39, 6.687]  (7.983, 9.279]  \\\n",
       "0   1.539  6.610   bio    1    0    0   0.0            0.0             1.0   \n",
       "1   1.764  6.419   bio    1    0    0   0.0            0.0             1.0   \n",
       "2   1.695  8.949   bio    1    0    0   0.0            0.0             0.0   \n",
       "3   1.829  5.137   bio    1    0    0   1.0            1.0             0.0   \n",
       "4   1.640  6.432   fis    0    1    0   0.0            0.0             1.0   \n",
       "\n",
       "   (4.089, 5.39]  (6.687, 7.983]  \n",
       "0            0.0             0.0  \n",
       "1            0.0             0.0  \n",
       "2            0.0             1.0  \n",
       "3            0.0             0.0  \n",
       "4            0.0             0.0  "
      ]
     },
     "execution_count": 146,
     "metadata": {},
     "output_type": "execute_result"
    }
   ],
   "source": [
    "df_onehot = pd.DataFrame(one_hot_binning, columns=intervalos.unique())\n",
    "df_quatro = df_tres.join(df_onehot)\n",
    "df_quatro.head()"
   ]
  },
  {
   "cell_type": "markdown",
   "metadata": {},
   "source": [
    "Seria interessante usar o atributo *labels* de pd.cut(). Como são notas, poderiam ser ['ruim', 'medio', 'bom', 'excelente']"
   ]
  },
  {
   "cell_type": "markdown",
   "metadata": {},
   "source": [
    "Embora tenhamos lidado tanto com variáveis já categóricas quanto numéricas, a idéia era torná-las **categóricas** de uma maneira que um modelo entenda. E fizemos com o **one-hot encoding** e **binarização**, dando a possibilidade de **binarizar** esses tipos de variáveis"
   ]
  },
  {
   "cell_type": "markdown",
   "metadata": {},
   "source": [
    "### Variáveis Numéricas"
   ]
  },
  {
   "cell_type": "markdown",
   "metadata": {},
   "source": [
    "As transformações mais comuns de variáveis numéricas são: **Normalização** e **Padronização**. A primeira gera uma feature numérica que respeita uma determinada escala, geralmente é $[0,1]$ ou $[-1,1]$. Já a segunda, gera uma feature numérica de $\\overline{x}=0$ e $s=1$. A idéia ter variáveis que possuam a mesma ordem de grandeza.\n",
    "\n",
    "Sempre que vamos treinar um modelo de regressão, usamos muitas features, e ter elas em escalas tão diferentes impacta o apredizado. Enquanto uma feature está contida em $[0,100]$, outra pode estar em $[0, 1000]$. Isso confere uma importancia maior à esta de ordem de grandeza maior, mas nem sempre essa *impotância* existe. Imagine que seja `Idade` $\\subset [0,100]$ e `Salário` $\\subset [0,1000]$. Não existe grau de importancia, são dados de natureza totalmente diferente, e a escala entre eles não reflete que um é mais importante que o outro. Diante disso, ter os dados **numa mesma escala** elimina esse problema, e as diferenças dos intervalos dos valores é respeitada. No caso de Regressões Logísticas, ou RandomForest, a normalização não se faz muuuito importante, pois os cálculos usados não dependem muito de distâncias Euclidianas"
   ]
  },
  {
   "cell_type": "markdown",
   "metadata": {},
   "source": [
    "**Normalização:** Como nesse [notebook](https://github.com/mikaelcordeiro/semanas/blob/semana_7/semana7/semana_7.ipynb) já tem explicação, vamos só praticar"
   ]
  },
  {
   "cell_type": "code",
   "execution_count": 147,
   "metadata": {},
   "outputs": [],
   "source": [
    "from sklearn.preprocessing import MinMaxScaler"
   ]
  },
  {
   "cell_type": "markdown",
   "metadata": {},
   "source": [
    "Como `altura` varia está quase contida $[1, 2]$, podemos normalizar `ponto` nessa escala"
   ]
  },
  {
   "cell_type": "code",
   "execution_count": 153,
   "metadata": {},
   "outputs": [],
   "source": [
    "norm = MinMaxScaler(feature_range=(1, 2))"
   ]
  },
  {
   "cell_type": "code",
   "execution_count": 177,
   "metadata": {},
   "outputs": [],
   "source": [
    "normalizados = norm.fit_transform(df[['ponto']]).flatten()"
   ]
  },
  {
   "cell_type": "code",
   "execution_count": 179,
   "metadata": {},
   "outputs": [],
   "source": [
    "df_cinco = df_quatro.join?"
   ]
  },
  {
   "cell_type": "code",
   "execution_count": 181,
   "metadata": {},
   "outputs": [],
   "source": [
    "df_cinco = df_quatro.join(pd.Series(normalizados, name='ponto_1_2_norm'))"
   ]
  },
  {
   "cell_type": "code",
   "execution_count": 182,
   "metadata": {},
   "outputs": [
    {
     "data": {
      "text/html": [
       "<div>\n",
       "<style scoped>\n",
       "    .dataframe tbody tr th:only-of-type {\n",
       "        vertical-align: middle;\n",
       "    }\n",
       "\n",
       "    .dataframe tbody tr th {\n",
       "        vertical-align: top;\n",
       "    }\n",
       "\n",
       "    .dataframe thead th {\n",
       "        text-align: right;\n",
       "    }\n",
       "</style>\n",
       "<table border=\"1\" class=\"dataframe\">\n",
       "  <thead>\n",
       "    <tr style=\"text-align: right;\">\n",
       "      <th></th>\n",
       "      <th>altura</th>\n",
       "      <th>ponto</th>\n",
       "      <th>curso</th>\n",
       "      <th>bio</th>\n",
       "      <th>fis</th>\n",
       "      <th>mat</th>\n",
       "      <th>alto</th>\n",
       "      <th>(5.39, 6.687]</th>\n",
       "      <th>(7.983, 9.279]</th>\n",
       "      <th>(4.089, 5.39]</th>\n",
       "      <th>(6.687, 7.983]</th>\n",
       "      <th>ponto_1_2_norm</th>\n",
       "    </tr>\n",
       "  </thead>\n",
       "  <tbody>\n",
       "    <tr>\n",
       "      <th>0</th>\n",
       "      <td>1.539</td>\n",
       "      <td>6.610</td>\n",
       "      <td>bio</td>\n",
       "      <td>1</td>\n",
       "      <td>0</td>\n",
       "      <td>0</td>\n",
       "      <td>0.0</td>\n",
       "      <td>0.0</td>\n",
       "      <td>1.0</td>\n",
       "      <td>0.0</td>\n",
       "      <td>0.0</td>\n",
       "      <td>1.485246</td>\n",
       "    </tr>\n",
       "    <tr>\n",
       "      <th>1</th>\n",
       "      <td>1.764</td>\n",
       "      <td>6.419</td>\n",
       "      <td>bio</td>\n",
       "      <td>1</td>\n",
       "      <td>0</td>\n",
       "      <td>0</td>\n",
       "      <td>0.0</td>\n",
       "      <td>0.0</td>\n",
       "      <td>1.0</td>\n",
       "      <td>0.0</td>\n",
       "      <td>0.0</td>\n",
       "      <td>1.448409</td>\n",
       "    </tr>\n",
       "    <tr>\n",
       "      <th>2</th>\n",
       "      <td>1.695</td>\n",
       "      <td>8.949</td>\n",
       "      <td>bio</td>\n",
       "      <td>1</td>\n",
       "      <td>0</td>\n",
       "      <td>0</td>\n",
       "      <td>0.0</td>\n",
       "      <td>0.0</td>\n",
       "      <td>0.0</td>\n",
       "      <td>0.0</td>\n",
       "      <td>1.0</td>\n",
       "      <td>1.936355</td>\n",
       "    </tr>\n",
       "    <tr>\n",
       "      <th>3</th>\n",
       "      <td>1.829</td>\n",
       "      <td>5.137</td>\n",
       "      <td>bio</td>\n",
       "      <td>1</td>\n",
       "      <td>0</td>\n",
       "      <td>0</td>\n",
       "      <td>1.0</td>\n",
       "      <td>1.0</td>\n",
       "      <td>0.0</td>\n",
       "      <td>0.0</td>\n",
       "      <td>0.0</td>\n",
       "      <td>1.201157</td>\n",
       "    </tr>\n",
       "    <tr>\n",
       "      <th>4</th>\n",
       "      <td>1.640</td>\n",
       "      <td>6.432</td>\n",
       "      <td>fis</td>\n",
       "      <td>0</td>\n",
       "      <td>1</td>\n",
       "      <td>0</td>\n",
       "      <td>0.0</td>\n",
       "      <td>0.0</td>\n",
       "      <td>1.0</td>\n",
       "      <td>0.0</td>\n",
       "      <td>0.0</td>\n",
       "      <td>1.450916</td>\n",
       "    </tr>\n",
       "  </tbody>\n",
       "</table>\n",
       "</div>"
      ],
      "text/plain": [
       "   altura  ponto curso  bio  fis  mat  alto  (5.39, 6.687]  (7.983, 9.279]  \\\n",
       "0   1.539  6.610   bio    1    0    0   0.0            0.0             1.0   \n",
       "1   1.764  6.419   bio    1    0    0   0.0            0.0             1.0   \n",
       "2   1.695  8.949   bio    1    0    0   0.0            0.0             0.0   \n",
       "3   1.829  5.137   bio    1    0    0   1.0            1.0             0.0   \n",
       "4   1.640  6.432   fis    0    1    0   0.0            0.0             1.0   \n",
       "\n",
       "   (4.089, 5.39]  (6.687, 7.983]  ponto_1_2_norm  \n",
       "0            0.0             0.0        1.485246  \n",
       "1            0.0             0.0        1.448409  \n",
       "2            0.0             1.0        1.936355  \n",
       "3            0.0             0.0        1.201157  \n",
       "4            0.0             0.0        1.450916  "
      ]
     },
     "execution_count": 182,
     "metadata": {},
     "output_type": "execute_result"
    }
   ],
   "source": [
    "df_cinco.head()"
   ]
  },
  {
   "cell_type": "markdown",
   "metadata": {},
   "source": [
    "**Padronização:** também já descrito nesse [notebook](https://github.com/mikaelcordeiro/semanas/blob/semana_7/semana7/semana_7.ipynb), vamos praticar"
   ]
  },
  {
   "cell_type": "code",
   "execution_count": 183,
   "metadata": {},
   "outputs": [],
   "source": [
    "from sklearn.preprocessing import StandardScaler"
   ]
  },
  {
   "cell_type": "code",
   "execution_count": 185,
   "metadata": {},
   "outputs": [],
   "source": [
    "padronizador = StandardScaler()"
   ]
  },
  {
   "cell_type": "code",
   "execution_count": 187,
   "metadata": {},
   "outputs": [],
   "source": [
    "padronizado = padronizador.fit_transform(df_cinco[['ponto']]).flatten()"
   ]
  },
  {
   "cell_type": "code",
   "execution_count": 236,
   "metadata": {},
   "outputs": [
    {
     "data": {
      "text/html": [
       "<div>\n",
       "<style scoped>\n",
       "    .dataframe tbody tr th:only-of-type {\n",
       "        vertical-align: middle;\n",
       "    }\n",
       "\n",
       "    .dataframe tbody tr th {\n",
       "        vertical-align: top;\n",
       "    }\n",
       "\n",
       "    .dataframe thead th {\n",
       "        text-align: right;\n",
       "    }\n",
       "</style>\n",
       "<table border=\"1\" class=\"dataframe\">\n",
       "  <thead>\n",
       "    <tr style=\"text-align: right;\">\n",
       "      <th></th>\n",
       "      <th>altura</th>\n",
       "      <th>ponto</th>\n",
       "      <th>curso</th>\n",
       "      <th>bio</th>\n",
       "      <th>fis</th>\n",
       "      <th>mat</th>\n",
       "      <th>alto</th>\n",
       "      <th>(5.39, 6.687]</th>\n",
       "      <th>(7.983, 9.279]</th>\n",
       "      <th>(4.089, 5.39]</th>\n",
       "      <th>(6.687, 7.983]</th>\n",
       "      <th>ponto_1_2_norm</th>\n",
       "      <th>ponto_padronizado</th>\n",
       "    </tr>\n",
       "  </thead>\n",
       "  <tbody>\n",
       "    <tr>\n",
       "      <th>0</th>\n",
       "      <td>1.539</td>\n",
       "      <td>6.610</td>\n",
       "      <td>bio</td>\n",
       "      <td>1</td>\n",
       "      <td>0</td>\n",
       "      <td>0</td>\n",
       "      <td>0.0</td>\n",
       "      <td>0.0</td>\n",
       "      <td>1.0</td>\n",
       "      <td>0.0</td>\n",
       "      <td>0.0</td>\n",
       "      <td>1.485246</td>\n",
       "      <td>-0.207160</td>\n",
       "    </tr>\n",
       "    <tr>\n",
       "      <th>1</th>\n",
       "      <td>1.764</td>\n",
       "      <td>6.419</td>\n",
       "      <td>bio</td>\n",
       "      <td>1</td>\n",
       "      <td>0</td>\n",
       "      <td>0</td>\n",
       "      <td>0.0</td>\n",
       "      <td>0.0</td>\n",
       "      <td>1.0</td>\n",
       "      <td>0.0</td>\n",
       "      <td>0.0</td>\n",
       "      <td>1.448409</td>\n",
       "      <td>-0.409046</td>\n",
       "    </tr>\n",
       "    <tr>\n",
       "      <th>2</th>\n",
       "      <td>1.695</td>\n",
       "      <td>8.949</td>\n",
       "      <td>bio</td>\n",
       "      <td>1</td>\n",
       "      <td>0</td>\n",
       "      <td>0</td>\n",
       "      <td>0.0</td>\n",
       "      <td>0.0</td>\n",
       "      <td>0.0</td>\n",
       "      <td>0.0</td>\n",
       "      <td>1.0</td>\n",
       "      <td>1.936355</td>\n",
       "      <td>2.265150</td>\n",
       "    </tr>\n",
       "    <tr>\n",
       "      <th>3</th>\n",
       "      <td>1.829</td>\n",
       "      <td>5.137</td>\n",
       "      <td>bio</td>\n",
       "      <td>1</td>\n",
       "      <td>0</td>\n",
       "      <td>0</td>\n",
       "      <td>1.0</td>\n",
       "      <td>1.0</td>\n",
       "      <td>0.0</td>\n",
       "      <td>0.0</td>\n",
       "      <td>0.0</td>\n",
       "      <td>1.201157</td>\n",
       "      <td>-1.764114</td>\n",
       "    </tr>\n",
       "    <tr>\n",
       "      <th>4</th>\n",
       "      <td>1.640</td>\n",
       "      <td>6.432</td>\n",
       "      <td>fis</td>\n",
       "      <td>0</td>\n",
       "      <td>1</td>\n",
       "      <td>0</td>\n",
       "      <td>0.0</td>\n",
       "      <td>0.0</td>\n",
       "      <td>1.0</td>\n",
       "      <td>0.0</td>\n",
       "      <td>0.0</td>\n",
       "      <td>1.450916</td>\n",
       "      <td>-0.395305</td>\n",
       "    </tr>\n",
       "  </tbody>\n",
       "</table>\n",
       "</div>"
      ],
      "text/plain": [
       "   altura  ponto curso  bio  fis  mat  alto  (5.39, 6.687]  (7.983, 9.279]  \\\n",
       "0   1.539  6.610   bio    1    0    0   0.0            0.0             1.0   \n",
       "1   1.764  6.419   bio    1    0    0   0.0            0.0             1.0   \n",
       "2   1.695  8.949   bio    1    0    0   0.0            0.0             0.0   \n",
       "3   1.829  5.137   bio    1    0    0   1.0            1.0             0.0   \n",
       "4   1.640  6.432   fis    0    1    0   0.0            0.0             1.0   \n",
       "\n",
       "   (4.089, 5.39]  (6.687, 7.983]  ponto_1_2_norm  ponto_padronizado  \n",
       "0            0.0             0.0        1.485246          -0.207160  \n",
       "1            0.0             0.0        1.448409          -0.409046  \n",
       "2            0.0             1.0        1.936355           2.265150  \n",
       "3            0.0             0.0        1.201157          -1.764114  \n",
       "4            0.0             0.0        1.450916          -0.395305  "
      ]
     },
     "execution_count": 236,
     "metadata": {},
     "output_type": "execute_result"
    }
   ],
   "source": [
    "df_seis = df_cinco.join(pd.Series(padronizado, name='ponto_padronizado'))\n",
    "df_seis.head()"
   ]
  },
  {
   "cell_type": "markdown",
   "metadata": {},
   "source": [
    "**Valores Faltantes:** ao longo do curso, usamos o pd.Series.fillna() para lidar com os *missing values*. Podemos usar também, a classe SimpleImputer"
   ]
  },
  {
   "cell_type": "markdown",
   "metadata": {},
   "source": [
    "Classe **SimpleImputer**\n",
    "\n",
    "```python\n",
    "sklearn.impute.SimpleImputer(missing_values=, strategy=, fill_value=)\n",
    "```\n",
    "*Parâmetros:*\n",
    "\n",
    "- missing_values: preencher com o que significa *dado faltante*\n",
    "    - np.nan: os nan serão identificados como missing\n",
    "    - string: a *string* será encarada como missing\n",
    "- strategy: ('mean', 'median', 'most_frequent', 'constant')\n",
    "    - mean: preenche com a média\n",
    "    - median: preenche com a mediana\n",
    "    - most_frequent: preenche com a moda\n",
    "    - constant: preenche com o que está no parâmetro **fill_value**\n",
    "- fill_value: string ou valor numérico que preencherá o identificado como missing"
   ]
  },
  {
   "cell_type": "code",
   "execution_count": 244,
   "metadata": {},
   "outputs": [
    {
     "data": {
      "text/html": [
       "<div>\n",
       "<style scoped>\n",
       "    .dataframe tbody tr th:only-of-type {\n",
       "        vertical-align: middle;\n",
       "    }\n",
       "\n",
       "    .dataframe tbody tr th {\n",
       "        vertical-align: top;\n",
       "    }\n",
       "\n",
       "    .dataframe thead th {\n",
       "        text-align: right;\n",
       "    }\n",
       "</style>\n",
       "<table border=\"1\" class=\"dataframe\">\n",
       "  <thead>\n",
       "    <tr style=\"text-align: right;\">\n",
       "      <th></th>\n",
       "      <th>a</th>\n",
       "      <th>b</th>\n",
       "      <th>c</th>\n",
       "    </tr>\n",
       "  </thead>\n",
       "  <tbody>\n",
       "    <tr>\n",
       "      <th>0</th>\n",
       "      <td>1</td>\n",
       "      <td>2</td>\n",
       "      <td>unknown</td>\n",
       "    </tr>\n",
       "    <tr>\n",
       "      <th>1</th>\n",
       "      <td>4</td>\n",
       "      <td>nan</td>\n",
       "      <td>casa</td>\n",
       "    </tr>\n",
       "    <tr>\n",
       "      <th>2</th>\n",
       "      <td>nan</td>\n",
       "      <td>8</td>\n",
       "      <td>carro</td>\n",
       "    </tr>\n",
       "  </tbody>\n",
       "</table>\n",
       "</div>"
      ],
      "text/plain": [
       "     a    b        c\n",
       "0    1    2  unknown\n",
       "1    4  nan     casa\n",
       "2  nan    8    carro"
      ]
     },
     "execution_count": 244,
     "metadata": {},
     "output_type": "execute_result"
    }
   ],
   "source": [
    "a = pd.DataFrame(np.array([[1, 2, 'unknown'], [4, np.nan, 'casa'], [np.nan, 8, 'carro']]), columns=['a', 'b', 'c'])\n",
    "a"
   ]
  },
  {
   "cell_type": "code",
   "execution_count": 245,
   "metadata": {},
   "outputs": [],
   "source": [
    "from sklearn.impute import SimpleImputer"
   ]
  },
  {
   "cell_type": "code",
   "execution_count": 300,
   "metadata": {},
   "outputs": [],
   "source": [
    "fill = SimpleImputer(missing_values='unknown', strategy='constant', fill_value='nao sei')"
   ]
  },
  {
   "cell_type": "code",
   "execution_count": 301,
   "metadata": {},
   "outputs": [
    {
     "data": {
      "text/plain": [
       "array([['nao sei'],\n",
       "       ['casa'],\n",
       "       ['carro']], dtype=object)"
      ]
     },
     "execution_count": 301,
     "metadata": {},
     "output_type": "execute_result"
    }
   ],
   "source": [
    "d = fill.fit_transform(a[['c']])\n",
    "d"
   ]
  },
  {
   "cell_type": "code",
   "execution_count": 292,
   "metadata": {},
   "outputs": [],
   "source": [
    "fill = SimpleImputer(missing_values=np.nan, strategy='mean')"
   ]
  },
  {
   "cell_type": "code",
   "execution_count": 293,
   "metadata": {},
   "outputs": [
    {
     "data": {
      "text/plain": [
       "array([[1. , 2. ],\n",
       "       [4. , 5. ],\n",
       "       [2.5, 8. ]])"
      ]
     },
     "execution_count": 293,
     "metadata": {},
     "output_type": "execute_result"
    }
   ],
   "source": [
    "e = fill.fit_transform(a[['a', 'b']])\n",
    "e"
   ]
  },
  {
   "cell_type": "markdown",
   "metadata": {},
   "source": [
    "### Pipeline\n",
    "\n",
    "O **sklearn** disponibiliza uma classe chamada **Pipeline**. Nela, podemos dizer quais transformações queremos nos nossos dados. Para um *dataframe* pequeno, dá pra ir fazendo na mão, como acima,  mas para os grandes, é uma mão na roda. E tal qual treinamos um modelo, essa classe pode ser treinada e reutilizada depois."
   ]
  },
  {
   "cell_type": "markdown",
   "metadata": {},
   "source": [
    "vamos pegar o `df`"
   ]
  },
  {
   "cell_type": "code",
   "execution_count": 219,
   "metadata": {},
   "outputs": [
    {
     "data": {
      "text/html": [
       "<div>\n",
       "<style scoped>\n",
       "    .dataframe tbody tr th:only-of-type {\n",
       "        vertical-align: middle;\n",
       "    }\n",
       "\n",
       "    .dataframe tbody tr th {\n",
       "        vertical-align: top;\n",
       "    }\n",
       "\n",
       "    .dataframe thead th {\n",
       "        text-align: right;\n",
       "    }\n",
       "</style>\n",
       "<table border=\"1\" class=\"dataframe\">\n",
       "  <thead>\n",
       "    <tr style=\"text-align: right;\">\n",
       "      <th></th>\n",
       "      <th>altura</th>\n",
       "      <th>ponto</th>\n",
       "      <th>curso</th>\n",
       "    </tr>\n",
       "  </thead>\n",
       "  <tbody>\n",
       "    <tr>\n",
       "      <th>0</th>\n",
       "      <td>1.539</td>\n",
       "      <td>6.610</td>\n",
       "      <td>bio</td>\n",
       "    </tr>\n",
       "    <tr>\n",
       "      <th>1</th>\n",
       "      <td>1.764</td>\n",
       "      <td>6.419</td>\n",
       "      <td>bio</td>\n",
       "    </tr>\n",
       "    <tr>\n",
       "      <th>2</th>\n",
       "      <td>1.695</td>\n",
       "      <td>8.949</td>\n",
       "      <td>bio</td>\n",
       "    </tr>\n",
       "    <tr>\n",
       "      <th>3</th>\n",
       "      <td>1.829</td>\n",
       "      <td>5.137</td>\n",
       "      <td>bio</td>\n",
       "    </tr>\n",
       "    <tr>\n",
       "      <th>4</th>\n",
       "      <td>1.640</td>\n",
       "      <td>6.432</td>\n",
       "      <td>fis</td>\n",
       "    </tr>\n",
       "  </tbody>\n",
       "</table>\n",
       "</div>"
      ],
      "text/plain": [
       "   altura  ponto curso\n",
       "0   1.539  6.610   bio\n",
       "1   1.764  6.419   bio\n",
       "2   1.695  8.949   bio\n",
       "3   1.829  5.137   bio\n",
       "4   1.640  6.432   fis"
      ]
     },
     "execution_count": 219,
     "metadata": {},
     "output_type": "execute_result"
    }
   ],
   "source": [
    "df_copia = df.copy()\n",
    "df_copia.head()"
   ]
  },
  {
   "cell_type": "markdown",
   "metadata": {},
   "source": [
    "Como o **Pipeline** tem métodos que lidam com *missing values*, vamos colocar alguns nesse `df`. Para variáveis numéricas, os valores serão preenchidos com `np.nan`, e para as categóricas, com `Unknown`"
   ]
  },
  {
   "cell_type": "code",
   "execution_count": 220,
   "metadata": {},
   "outputs": [],
   "source": [
    "nan_altura_index = np.random.choice(df_copia.index, size=10, replace=False)\n",
    "nan_ponto_index = np.random.choice(df_copia.index, size=10, replace=False)\n",
    "nan_curso_index = np.random.choice(df_copia.index, size=10, replace=False)"
   ]
  },
  {
   "cell_type": "code",
   "execution_count": 225,
   "metadata": {},
   "outputs": [],
   "source": [
    "df_copia.loc[nan_altura_index, 'altura'] = np.nan\n",
    "df_copia.loc[nan_ponto_index, 'ponto'] = np.nan\n",
    "df_copia.loc[nan_curso_index, 'curso'] = 'unknown'"
   ]
  },
  {
   "cell_type": "code",
   "execution_count": 311,
   "metadata": {},
   "outputs": [
    {
     "data": {
      "text/html": [
       "<div>\n",
       "<style scoped>\n",
       "    .dataframe tbody tr th:only-of-type {\n",
       "        vertical-align: middle;\n",
       "    }\n",
       "\n",
       "    .dataframe tbody tr th {\n",
       "        vertical-align: top;\n",
       "    }\n",
       "\n",
       "    .dataframe thead th {\n",
       "        text-align: right;\n",
       "    }\n",
       "</style>\n",
       "<table border=\"1\" class=\"dataframe\">\n",
       "  <thead>\n",
       "    <tr style=\"text-align: right;\">\n",
       "      <th></th>\n",
       "      <th>altura</th>\n",
       "      <th>ponto</th>\n",
       "      <th>curso</th>\n",
       "    </tr>\n",
       "  </thead>\n",
       "  <tbody>\n",
       "    <tr>\n",
       "      <th>0</th>\n",
       "      <td>1.539</td>\n",
       "      <td>6.610</td>\n",
       "      <td>bio</td>\n",
       "    </tr>\n",
       "    <tr>\n",
       "      <th>1</th>\n",
       "      <td>1.764</td>\n",
       "      <td>6.419</td>\n",
       "      <td>bio</td>\n",
       "    </tr>\n",
       "    <tr>\n",
       "      <th>2</th>\n",
       "      <td>1.695</td>\n",
       "      <td>8.949</td>\n",
       "      <td>bio</td>\n",
       "    </tr>\n",
       "    <tr>\n",
       "      <th>3</th>\n",
       "      <td>1.829</td>\n",
       "      <td>5.137</td>\n",
       "      <td>bio</td>\n",
       "    </tr>\n",
       "    <tr>\n",
       "      <th>4</th>\n",
       "      <td>1.640</td>\n",
       "      <td>NaN</td>\n",
       "      <td>fis</td>\n",
       "    </tr>\n",
       "  </tbody>\n",
       "</table>\n",
       "</div>"
      ],
      "text/plain": [
       "   altura  ponto curso\n",
       "0   1.539  6.610   bio\n",
       "1   1.764  6.419   bio\n",
       "2   1.695  8.949   bio\n",
       "3   1.829  5.137   bio\n",
       "4   1.640    NaN   fis"
      ]
     },
     "execution_count": 311,
     "metadata": {},
     "output_type": "execute_result"
    }
   ],
   "source": [
    "df_copia.head()"
   ]
  },
  {
   "cell_type": "markdown",
   "metadata": {},
   "source": [
    "Classe **Pipeline**\n",
    "\n",
    "```python\n",
    "sklearn.preprocessing.Pipeline(steps=[('processo', class), ('processo', class), ..., ('processo', class)])\n",
    "```\n",
    "*Parâmetros:*\n",
    "\n",
    "- steps: lista de tuplas. Cada classe é uma engenharia no dado\n",
    "    - ('normaliza', MinMaxScalar())\n",
    "    - ('padroniza', StandardScaler())\n",
    "    - ('fillna', SimpleImputer(strategy='mean'))\n",
    "    entre outros\n",
    "\n",
    "**Nota:** o pipeline fará os steps para todas as variáveis dentro do fit_transform. Portanto, perceba se não vc não está misturando variáveis categóricas com numéricas"
   ]
  },
  {
   "cell_type": "code",
   "execution_count": 231,
   "metadata": {},
   "outputs": [],
   "source": [
    "from sklearn.pipeline import Pipeline"
   ]
  },
  {
   "cell_type": "code",
   "execution_count": 341,
   "metadata": {},
   "outputs": [],
   "source": [
    "pipeline_numericas = Pipeline(steps=[\n",
    "    ('missing', SimpleImputer(missing_values=np.nan, strategy='mean')),\n",
    "    ('norm_0_1', MinMaxScaler(feature_range=(0, 1)))\n",
    "])"
   ]
  },
  {
   "cell_type": "code",
   "execution_count": 342,
   "metadata": {},
   "outputs": [],
   "source": [
    "piped = pipeline_numericas.fit_transform(df_copia[['altura', 'ponto']])"
   ]
  },
  {
   "cell_type": "code",
   "execution_count": 363,
   "metadata": {},
   "outputs": [
    {
     "data": {
      "text/plain": [
       "('norm_0_1',)"
      ]
     },
     "execution_count": 363,
     "metadata": {},
     "output_type": "execute_result"
    }
   ],
   "source": [
    "x, y = zip(*pipeline_numericas.steps)\n",
    "x[1:]"
   ]
  },
  {
   "cell_type": "code",
   "execution_count": 372,
   "metadata": {},
   "outputs": [],
   "source": [
    "pipeline_categoricas = Pipeline(steps=[\n",
    "    ('missing', SimpleImputer(missing_values='unknown', strategy='constant', fill_value='bio')),\n",
    "    ('onehot', OneHotEncoder(sparse=False, dtype=np.uint8))\n",
    "])"
   ]
  },
  {
   "cell_type": "code",
   "execution_count": 373,
   "metadata": {},
   "outputs": [],
   "source": [
    "piped_categ = pipeline_categoricas.fit_transform(df_copia[['curso']])"
   ]
  },
  {
   "cell_type": "code",
   "execution_count": 374,
   "metadata": {},
   "outputs": [
    {
     "data": {
      "text/plain": [
       "array(['bio', 'fis', 'mat'], dtype=object)"
      ]
     },
     "execution_count": 374,
     "metadata": {},
     "output_type": "execute_result"
    }
   ],
   "source": [
    "pipeline_categoricas.get_params()['onehot'].categories_[0]"
   ]
  },
  {
   "cell_type": "markdown",
   "metadata": {},
   "source": [
    "Agora é só juntar as variáveis para criar um novo `df` *engenheirado*"
   ]
  },
  {
   "cell_type": "markdown",
   "metadata": {},
   "source": [
    "### Outliers\n",
    "\n",
    "Teremos que lidar com eles"
   ]
  }
 ],
 "metadata": {
  "kernelspec": {
   "display_name": "Python 3",
   "language": "python",
   "name": "python3"
  },
  "language_info": {
   "codemirror_mode": {
    "name": "ipython",
    "version": 3
   },
   "file_extension": ".py",
   "mimetype": "text/x-python",
   "name": "python",
   "nbconvert_exporter": "python",
   "pygments_lexer": "ipython3",
   "version": "3.8.2"
  }
 },
 "nbformat": 4,
 "nbformat_minor": 4
}
