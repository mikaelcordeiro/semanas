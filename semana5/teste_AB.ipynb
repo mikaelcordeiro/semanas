{
 "cells": [
  {
   "cell_type": "markdown",
   "metadata": {},
   "source": [
    "### Testes A/B\n",
    "\n",
    "**Definição:** Dividir sua audiência em duas distintas. Para tanto, cada grupo recebe uma informação diferente e única. Isso é feito para que se descubra qual a maneira que mais impacta quem recebe a informação. Pode ser email, imagem num anúncio, até a cor de um botão. Este teste é do tipo **univariável**, apenas muda-se uma coisa e constata qual teve mais impacto, pois se mais de uma coisa está diferente entre os conteúdos, fica difícil saber o que impacta mais. Na Estatística isso é feito para eliminar **confundimento**, que é quando os efeitos de duas os mais variáveis não se distinguem uns dos outros.\n",
    "\n",
    "- A primeira coisa que se faz num teste A/B é escolher a **métrica** que se quer melhorar.\n",
    "\n",
    "- Depois disso, escolhe-se o que será testado, mas deve ser algo que impacte diretamente na métrica.\n",
    "\n",
    "- Cria-se uma versão de **controle** e outra de **teste**\n",
    "\n",
    "- Roda o teste, e garanta que A e B sejam testadas ao mesmo tempo, para que se garanta as mesmas condições para ambas as versões\n",
    "\n",
    "- Analisa os efeitos\n",
    "\n",
    "Para entendermos, valor fazer um exemplo\n",
    "\n",
    "**Configurando o Experimento**\n",
    "\n",
    "- Empresa quer aumentar a quantidade de usuários que assinam o pocote premium\n",
    "\n",
    "- Faz Teste A/B para verificar se uma mudança no site gera melhora numa determinada métrica\n",
    "\n",
    "- Métrica escolhida: taxa de conversão\n",
    "\n",
    "    - atual: .1\n",
    "    \n",
    "    - meta: subir .02"
   ]
  },
  {
   "cell_type": "code",
   "execution_count": 4,
   "metadata": {},
   "outputs": [],
   "source": [
    "bcr = .1\n",
    "d_hat = .02"
   ]
  },
  {
   "cell_type": "markdown",
   "metadata": {},
   "source": [
    "- tamanho do grupo de controle (A) e teste (B)\n",
    "    - A = 1000\n",
    "    - B = 1000\n",
    "\n",
    "Geralmente, o tamanho desses grupos é uma porcentagem do seu público médio"
   ]
  },
  {
   "cell_type": "code",
   "execution_count": null,
   "metadata": {},
   "outputs": [],
   "source": [
    "N_A, N_B = 1000, 1000"
   ]
  }
 ],
 "metadata": {
  "kernelspec": {
   "display_name": "Python 3",
   "language": "python",
   "name": "python3"
  },
  "language_info": {
   "codemirror_mode": {
    "name": "ipython",
    "version": 3
   },
   "file_extension": ".py",
   "mimetype": "text/x-python",
   "name": "python",
   "nbconvert_exporter": "python",
   "pygments_lexer": "ipython3",
   "version": "3.8.2"
  }
 },
 "nbformat": 4,
 "nbformat_minor": 4
}
