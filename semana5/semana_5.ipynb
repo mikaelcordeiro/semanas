{
 "cells": [
  {
   "cell_type": "markdown",
   "metadata": {},
   "source": [
    "# Semana 4 do Aceleradev DS Codenation\n",
    "\n",
    "### Professor: Túlio Vieira de Souza | Tema: Intervalos de Confiança, Testes de Hipóteses, P-Valores"
   ]
  },
  {
   "cell_type": "code",
   "execution_count": 1,
   "metadata": {},
   "outputs": [],
   "source": [
    "import pandas as pd\n",
    "import numpy as np\n",
    "import matplotlib.pyplot as plt\n",
    "import seaborn as sns\n",
    "import scipy.stats as sct"
   ]
  },
  {
   "cell_type": "markdown",
   "metadata": {},
   "source": [
    "### Intervalo de Confiança\n",
    "\n",
    "$$\\overline{x}-e_0\\leq\\mu\\leq\\overline{x}+e_0$$\n",
    "\n",
    "Como sempre, nunca fazemos um Censo para ter acesso a **toda** população. Gasta muito e, com uma amostra bem feita (Representativa), podemos inferir algum parâmetro populacional. Entretanto, devemos ter a percepção que todo parâmetro estimaod de uma estatística, não pode ser **pontual**, deve estar contido num intervalo, justamente porque analisamos uma amostra e queremos extrapolar seu valor para a população. Exemplo:\n",
    "\n",
    "\n",
    "Escolho uma amostra de $n$ indivíduos e encontro $\\overline{x}_1$. Escolho outros indivíduos e, novamente, encontro a média $\\overline{x}_2$. Essas médias provavelmente serão diferentes. Portanto, $\\mu$ inferido por elas vai variar também. Outra vez: só se sabe o $\\mu$ exato quando faz um censo.\n",
    "\n",
    "\n",
    "Esse intervalo é chamado **Intervalo de Confiança**. Ele exprime onde os valores das médias poderão variar. Maaaas, mesmo tendo essa faixa de valores, ainda é possível que apareçam valores fora desse limite. Ou seja, existe uma *chance* da estatística estar contida no intervalo. E que probabilidade é essa?"
   ]
  },
  {
   "cell_type": "markdown",
   "metadata": {},
   "source": [
    "### Nível de Confiança ou Grau de Confiança\n",
    "\n",
    "$$1-\\alpha$$ sendo $\\alpha$ o **grau de significância**\n",
    "\n",
    "Essa medida diz a probabilidade de $\\mu$ estar contida num determinado intervalo. Geralmente, esse valor é de $1-\\alpha=95\\%$. Ou seja: $95\\%$ das amostras terão a média **dentro** do intervalo de confiança. Exemplo:\n",
    "\n",
    "Dentro de uma população, eu seleciono algumas amostras de 20 indivíduos e calculo $\\overline{x}$. Com $1-\\alpha=0.95$, significa que: de 100 amostras com 20 indivíduos, 95 delas terão média dentro do intervalo de confiança, e outras 5 amostras terão média fora desse intervalo.\n",
    "\n",
    "Perceba: quanto maior o $1-\\alpha$, maior deve ser o intervalo de confiança, uma vez que a chance de conter $\\mu$ será maior. Por outro lado, quanto menor for o nível de confiança, mais estreito será esse intervalo, justamente pois a chance de conter $\\mu$ é menor."
   ]
  },
  {
   "cell_type": "markdown",
   "metadata": {},
   "source": [
    "### Testes de Hipóteses\n",
    "\n",
    "Dados em si não dizem nada, mas a interpretação deles sim. Tambpem chamados de *Testes de Significancia*, os testes de hipóteses dão rigor estatístico às nossas crenças. Com eles, calculamos certas *quantidades* sobre uma dada crença, e essa quantidade nos diz se o que acreditamos não se rejeita, ou se é mentira. Essas hipóteses são as crenças iniciais que estão na mente da pessoa antes de se estudar o caso, e testar tais hipóteses significa ver qual delas é melhor sustentada estatísticamente.\n",
    "\n",
    "Para gerar um teste, a primeira coisa é definir as hipoteses:\n",
    "\n",
    "- H0: Hipótese Nula -> suposição que o teste se mantém. Não se rejeita à certo grau de significancia\n",
    "\n",
    "- H1: Hioótese Alternativa -> suposição que o teste não se mantém. Com isso, rejeita-se a hipótese nula à certo grau de significancia\n",
    "\n",
    "***Aceitar* ou *Deixar de Rejeitar***\n",
    "\n",
    "Quando falamos *Aceitar* a hipótese nula, entende-se que ela é **verdade**. Mas, lembre-se: um teste de hipóteses lida com *eventos probabilísicos*. Ou seja, não sabemos o que é verdadeiro ou falso. Sabemos o que é provável ou não. Portanto, *deixar de rejeitar* é mais correto, pois significa que não existem evidências estatísticas suficientes para rejeitar a hipótese nula. Por conseguinte, quando rejeitamos, é porque existem evidências estatísticas sufcientes para rejeitar a hipótese nula."
   ]
  }
 ],
 "metadata": {
  "kernelspec": {
   "display_name": "Python 3",
   "language": "python",
   "name": "python3"
  },
  "language_info": {
   "codemirror_mode": {
    "name": "ipython",
    "version": 3
   },
   "file_extension": ".py",
   "mimetype": "text/x-python",
   "name": "python",
   "nbconvert_exporter": "python",
   "pygments_lexer": "ipython3",
   "version": "3.8.2"
  }
 },
 "nbformat": 4,
 "nbformat_minor": 4
}
